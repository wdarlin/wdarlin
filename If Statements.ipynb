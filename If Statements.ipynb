{
 "cells": [
  {
   "cell_type": "markdown",
   "id": "eb60a727",
   "metadata": {},
   "source": [
    "# Intro to IF statements"
   ]
  },
  {
   "cell_type": "markdown",
   "id": "da8c2a7d",
   "metadata": {},
   "source": [
    "### Logic conditions and if statements"
   ]
  },
  {
   "cell_type": "code",
   "execution_count": 1,
   "id": "7e262bc5",
   "metadata": {},
   "outputs": [
    {
     "name": "stdout",
     "output_type": "stream",
     "text": [
      "Audi\n",
      "BMW\n",
      "Subaru\n",
      "Toyota\n"
     ]
    }
   ],
   "source": [
    "cars ='audi bmw subaru toyota'.split()\n",
    "for car in cars:\n",
    "    if car == 'bmw': #this is the logical condition \n",
    "        print(car.upper())\n",
    "    else:\n",
    "        print(car.title())"
   ]
  },
  {
   "cell_type": "markdown",
   "id": "f2561136",
   "metadata": {},
   "source": [
    "#### Logic Conditions"
   ]
  },
  {
   "cell_type": "code",
   "execution_count": 2,
   "id": "c12bbb28",
   "metadata": {},
   "outputs": [
    {
     "data": {
      "text/plain": [
       "False"
      ]
     },
     "execution_count": 2,
     "metadata": {},
     "output_type": "execute_result"
    }
   ],
   "source": [
    "car ='Audi'\n",
    "car=='audi'"
   ]
  },
  {
   "cell_type": "code",
   "execution_count": 3,
   "id": "c3b06324",
   "metadata": {},
   "outputs": [
    {
     "data": {
      "text/plain": [
       "True"
      ]
     },
     "execution_count": 3,
     "metadata": {},
     "output_type": "execute_result"
    }
   ],
   "source": [
    "car.lower() == 'audi'"
   ]
  },
  {
   "cell_type": "code",
   "execution_count": 4,
   "id": "e2e82cf5",
   "metadata": {},
   "outputs": [
    {
     "name": "stdout",
     "output_type": "stream",
     "text": [
      "10 is other than 5\n"
     ]
    }
   ],
   "source": [
    "x=10\n",
    "if x != 5:\n",
    "    print(f'{x} is other than 5')\n",
    "else:\n",
    "    print(f'{x} is 5')"
   ]
  },
  {
   "cell_type": "markdown",
   "id": "7c38e728",
   "metadata": {},
   "source": [
    "### Using 'and' 'or' to combine conditions"
   ]
  },
  {
   "cell_type": "code",
   "execution_count": 5,
   "id": "f776e279",
   "metadata": {},
   "outputs": [
    {
     "data": {
      "text/plain": [
       "False"
      ]
     },
     "execution_count": 5,
     "metadata": {},
     "output_type": "execute_result"
    }
   ],
   "source": [
    "age = 20\n",
    "age > 21 and age < 30"
   ]
  },
  {
   "cell_type": "code",
   "execution_count": 6,
   "id": "9582ed6f",
   "metadata": {},
   "outputs": [
    {
     "data": {
      "text/plain": [
       "True"
      ]
     },
     "execution_count": 6,
     "metadata": {},
     "output_type": "execute_result"
    }
   ],
   "source": [
    "age < 21 or age > 50"
   ]
  },
  {
   "cell_type": "markdown",
   "id": "4ceb1bd9",
   "metadata": {},
   "source": [
    "### Use chained inequalities"
   ]
  },
  {
   "cell_type": "code",
   "execution_count": 7,
   "id": "65af49a8",
   "metadata": {},
   "outputs": [
    {
     "data": {
      "text/plain": [
       "True"
      ]
     },
     "execution_count": 7,
     "metadata": {},
     "output_type": "execute_result"
    }
   ],
   "source": [
    "age = 30\n",
    "21 <= age <= 50"
   ]
  },
  {
   "cell_type": "markdown",
   "id": "9c42df3b",
   "metadata": {},
   "source": [
    "### 'in'"
   ]
  },
  {
   "cell_type": "code",
   "execution_count": 8,
   "id": "31c9993e",
   "metadata": {},
   "outputs": [
    {
     "data": {
      "text/plain": [
       "True"
      ]
     },
     "execution_count": 8,
     "metadata": {},
     "output_type": "execute_result"
    }
   ],
   "source": [
    "fruits='apple banana orange strawberry'.split()\n",
    "fruit='banana'\n",
    "fruit in fruits"
   ]
  },
  {
   "cell_type": "code",
   "execution_count": 9,
   "id": "3a739f26",
   "metadata": {},
   "outputs": [
    {
     "data": {
      "text/plain": [
       "True"
      ]
     },
     "execution_count": 9,
     "metadata": {},
     "output_type": "execute_result"
    }
   ],
   "source": [
    "stuff =\"chemistry\"\n",
    "tail='try'\n",
    "tail in stuff"
   ]
  },
  {
   "cell_type": "markdown",
   "id": "13c8c654",
   "metadata": {},
   "source": [
    "### if-else "
   ]
  },
  {
   "cell_type": "code",
   "execution_count": 10,
   "id": "668b8c2d",
   "metadata": {},
   "outputs": [
    {
     "name": "stdout",
     "output_type": "stream",
     "text": [
      "Enter your age44\n",
      "You are of voting age\n",
      "Please register\n"
     ]
    }
   ],
   "source": [
    "ages = int(input('Enter your age'))\n",
    "if ages >= 18:\n",
    "    print('You are of voting age')\n",
    "    print('Please register')\n",
    "else:\n",
    "    print('You are too young to vote')\n",
    "    print('dont come back')"
   ]
  },
  {
   "cell_type": "markdown",
   "id": "6ff1fb04",
   "metadata": {},
   "source": [
    "### if-elif-else"
   ]
  },
  {
   "cell_type": "code",
   "execution_count": 11,
   "id": "d0c6a8d7",
   "metadata": {},
   "outputs": [
    {
     "name": "stdout",
     "output_type": "stream",
     "text": [
      "Enter your age.  4\n",
      "Your ticket price is 0.\n"
     ]
    }
   ],
   "source": [
    "age = int(input('Enter your age.  '))\n",
    "if age <=4:\n",
    "    price=0\n",
    "elif age <=18:\n",
    "    price=25\n",
    "elif age <=65:\n",
    "    price=50\n",
    "else:\n",
    "    price=30\n",
    "print(f'Your ticket price is {price}.')"
   ]
  },
  {
   "cell_type": "markdown",
   "id": "96156a85",
   "metadata": {},
   "source": [
    "### Objects can be evaluated as true or false \n",
    "* 0 is false, non-zero is true\n",
    "* none if false\n",
    "* empty list is false, non-empty true\n",
    "* empty string is false, non-empty true"
   ]
  },
  {
   "cell_type": "code",
   "execution_count": 12,
   "id": "c2c921d5",
   "metadata": {},
   "outputs": [
    {
     "name": "stdout",
     "output_type": "stream",
     "text": [
      "Thanks for visiting.\n"
     ]
    }
   ],
   "source": [
    "shopping_cart=[]\n",
    "price=101\n",
    "if price < 100:\n",
    "    shopping_cart.append(price)\n",
    "if shopping_cart:\n",
    "    print('Please checkout.')\n",
    "else:\n",
    "    print('Thanks for visiting.')"
   ]
  },
  {
   "cell_type": "markdown",
   "id": "c038ee81",
   "metadata": {},
   "source": [
    "## More on User Inputs"
   ]
  },
  {
   "cell_type": "code",
   "execution_count": 13,
   "id": "07ebdbf0",
   "metadata": {},
   "outputs": [
    {
     "name": "stdout",
     "output_type": "stream",
     "text": [
      "What is your name?\n",
      "4\n",
      "Hello 4, go away.\n"
     ]
    }
   ],
   "source": [
    "print('What is your name?')\n",
    "name = input()\n",
    "print(f'Hello {name}, go away.')"
   ]
  },
  {
   "cell_type": "code",
   "execution_count": 14,
   "id": "edf4037d",
   "metadata": {},
   "outputs": [
    {
     "name": "stdout",
     "output_type": "stream",
     "text": [
      "What is your name?\n",
      "4\n",
      "Hello 4, go away.\n"
     ]
    }
   ],
   "source": [
    "name = input('What is your name?\\n')\n",
    "print(f'Hello {name}, go away.')"
   ]
  },
  {
   "cell_type": "markdown",
   "id": "9a581ab4",
   "metadata": {},
   "source": [
    "#### Get interger input"
   ]
  },
  {
   "cell_type": "code",
   "execution_count": 15,
   "id": "aef2e4e2",
   "metadata": {},
   "outputs": [
    {
     "name": "stdout",
     "output_type": "stream",
     "text": [
      "What is your age?\n",
      "4\n",
      "You are to young to party.\n"
     ]
    }
   ],
   "source": [
    "age = int(input('What is your age?\\n'))\n",
    "if age < 18:\n",
    "    print('You are to young to party.')\n",
    "else:\n",
    "    print('Lets party')"
   ]
  },
  {
   "cell_type": "markdown",
   "id": "e59c2d8a",
   "metadata": {},
   "source": [
    "#### Get float input"
   ]
  },
  {
   "cell_type": "code",
   "execution_count": 16,
   "id": "11904af4",
   "metadata": {},
   "outputs": [
    {
     "name": "stdout",
     "output_type": "stream",
     "text": [
      "How much you need in lbs?\n",
      "4\n",
      "This sells for $10.2.\n"
     ]
    }
   ],
   "source": [
    "price = 2.55\n",
    "weight =float(input('How much you need in lbs?\\n'))\n",
    "total_price=price*weight\n",
    "#print(f'This sells for ${total_price}.')\n",
    "print(f'This sells for ${round(total_price,2)}.')"
   ]
  },
  {
   "cell_type": "markdown",
   "id": "bf049ce1",
   "metadata": {},
   "source": [
    "## Get multiple inputs at once"
   ]
  },
  {
   "cell_type": "code",
   "execution_count": 18,
   "id": "e667a180",
   "metadata": {},
   "outputs": [
    {
     "name": "stdout",
     "output_type": "stream",
     "text": [
      "Year, Month, Day =2002, 4, 23\n",
      "4-23-2002\n"
     ]
    }
   ],
   "source": [
    "year, month, day =eval(input('Year, Month, Day ='))\n",
    "print(f'{month}-{day}-{year}')"
   ]
  },
  {
   "cell_type": "code",
   "execution_count": 19,
   "id": "742fda2b",
   "metadata": {},
   "outputs": [
    {
     "name": "stdout",
     "output_type": "stream",
     "text": [
      "x,y=55,44\n",
      "55-44=11\n"
     ]
    }
   ],
   "source": [
    "x, y = eval(input('x,y='))\n",
    "print(f'{x}-{y}={x-y}')"
   ]
  },
  {
   "cell_type": "markdown",
   "id": "157dfcc0",
   "metadata": {},
   "source": [
    "## Example of leap year\n",
    "* Leap year if divisible by 4\n",
    "* Except also divisible by 100\n",
    "* Unless also divisible by 400"
   ]
  },
  {
   "cell_type": "code",
   "execution_count": 24,
   "id": "6b4d180d",
   "metadata": {},
   "outputs": [
    {
     "name": "stdout",
     "output_type": "stream",
     "text": [
      "Enter a year.\n",
      "1996\n",
      "1996 is a leap year\n"
     ]
    }
   ],
   "source": [
    "# from general to special\n",
    "\n",
    "year = int(input('Enter a year.\\n'))\n",
    "if year%4==0:\n",
    "    if year%100==0:\n",
    "        if year%400==0:\n",
    "            result='a leap year'\n",
    "        else:\n",
    "                result='not a leap year'\n",
    "    else:\n",
    "        result='a leap year'\n",
    "else:\n",
    "    result = 'not a leap year'\n",
    "print(f'{year} is {result}')"
   ]
  },
  {
   "cell_type": "code",
   "execution_count": 28,
   "id": "583aee61",
   "metadata": {},
   "outputs": [
    {
     "name": "stdout",
     "output_type": "stream",
     "text": [
      "year = \n",
      "2344\n",
      "2344 is a leap year.\n"
     ]
    }
   ],
   "source": [
    "year = int(input('year = \\n'))\n",
    "if year%400==0:\n",
    "    result='a leap year'\n",
    "elif year%100==0:\n",
    "    result='not a leap year'\n",
    "elif year%4==0:\n",
    "    result='a leap year'\n",
    "else:\n",
    "    result ='not a leap year'\n",
    "print(f'{year} is {result}.')\n"
   ]
  },
  {
   "cell_type": "code",
   "execution_count": 35,
   "id": "a22cef5e",
   "metadata": {},
   "outputs": [
    {
     "name": "stdout",
     "output_type": "stream",
     "text": [
      "Year = \n",
      "2345\n",
      "2345 is not a leap year.\n"
     ]
    }
   ],
   "source": [
    "#using independant if blocks\n",
    "year = int(input('Year = \\n'))\n",
    "result = 'not a leap year'\n",
    "if year%4==0:\n",
    "    result='a leap year'\n",
    "if year%100==0:\n",
    "    result='not a leap year'\n",
    "if year%400==0:\n",
    "    result='a leap year'\n",
    "print(f'{year} is {result}.')"
   ]
  },
  {
   "cell_type": "code",
   "execution_count": 37,
   "id": "e7182c4a",
   "metadata": {},
   "outputs": [
    {
     "name": "stdout",
     "output_type": "stream",
     "text": [
      "Year = \n",
      "2024\n",
      "2024 is a leap year.\n"
     ]
    }
   ],
   "source": [
    "year = int(input('Year = \\n'))\n",
    "if year%400==0 or (year%4==0 and year%100!=0):\n",
    "    print(f'{year} is a leap year.')\n",
    "else:\n",
    "    print(f'{year} is not a leap year.')"
   ]
  },
  {
   "cell_type": "code",
   "execution_count": null,
   "id": "23e29976",
   "metadata": {},
   "outputs": [],
   "source": []
  }
 ],
 "metadata": {
  "kernelspec": {
   "display_name": "Python 3 (ipykernel)",
   "language": "python",
   "name": "python3"
  },
  "language_info": {
   "codemirror_mode": {
    "name": "ipython",
    "version": 3
   },
   "file_extension": ".py",
   "mimetype": "text/x-python",
   "name": "python",
   "nbconvert_exporter": "python",
   "pygments_lexer": "ipython3",
   "version": "3.9.7"
  }
 },
 "nbformat": 4,
 "nbformat_minor": 5
}
