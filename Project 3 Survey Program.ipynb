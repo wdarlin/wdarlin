{
 "cells": [
  {
   "cell_type": "markdown",
   "id": "f0985130",
   "metadata": {},
   "source": [
    "# Project 3: Student Course Survey "
   ]
  },
  {
   "cell_type": "markdown",
   "id": "5bcaf365",
   "metadata": {},
   "source": [
    "**Create a program that will take inputs from students and list thier classes**"
   ]
  },
  {
   "cell_type": "code",
   "execution_count": 1,
   "id": "5d814ce5",
   "metadata": {},
   "outputs": [
    {
     "name": "stdout",
     "output_type": "stream",
     "text": [
      "What is your name?\n",
      "Eli\n",
      "What is your first course?\n",
      "English\n",
      "What is your second course?\n",
      "Math\n",
      "New student? (yes/no)yes\n",
      "What is your name?\n",
      "Mike\n",
      "What is your first course?\n",
      "Biology\n",
      "What is your second course?\n",
      "Chemistry\n",
      "New student? (yes/no)no\n",
      "\n",
      " Eli \n",
      "    Biology \n",
      " \n",
      "    Chemistry\n",
      "\n",
      "\n",
      " Mike \n",
      "    Biology \n",
      " \n",
      "    Chemistry\n",
      "\n"
     ]
    }
   ],
   "source": [
    "responses={}\n",
    "while True:\n",
    "    name = input('What is your name?\\n')\n",
    "    course1 = input('What is your first course?\\n')\n",
    "    responses[name]=course1\n",
    "    #next_course=input('Any Additional Courses? (yes/no)')\n",
    "    course2 = input('What is your second course?\\n')\n",
    "    responses[name]=course2\n",
    "    new_polling=input('New student? (yes/no)')\n",
    "    if new_polling == 'no':\n",
    "        break\n",
    "for name, course in responses.items():\n",
    "    print(f'\\n {name} \\n    {course1} \\n \\n    {course2}\\n')"
   ]
  },
  {
   "cell_type": "code",
   "execution_count": null,
   "id": "00cc8017",
   "metadata": {},
   "outputs": [],
   "source": []
  }
 ],
 "metadata": {
  "kernelspec": {
   "display_name": "Python 3",
   "language": "python",
   "name": "python3"
  },
  "language_info": {
   "codemirror_mode": {
    "name": "ipython",
    "version": 3
   },
   "file_extension": ".py",
   "mimetype": "text/x-python",
   "name": "python",
   "nbconvert_exporter": "python",
   "pygments_lexer": "ipython3",
   "version": "3.8.8"
  }
 },
 "nbformat": 4,
 "nbformat_minor": 5
}
