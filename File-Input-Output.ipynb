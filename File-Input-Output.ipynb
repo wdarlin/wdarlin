{
 "cells": [
  {
   "cell_type": "code",
   "execution_count": 1,
   "id": "1999cf8d",
   "metadata": {},
   "outputs": [
    {
     "name": "stdout",
     "output_type": "stream",
     "text": [
      "Writing quote.txt\n"
     ]
    }
   ],
   "source": [
    "%%writefile quote.txt\n",
    "Blow, winds, and crack your cheeks!\n",
    "rage!\n",
    "blow!"
   ]
  },
  {
   "cell_type": "markdown",
   "id": "bdef702f",
   "metadata": {},
   "source": [
    "### Input from file"
   ]
  },
  {
   "cell_type": "code",
   "execution_count": 2,
   "id": "5cccdb5a",
   "metadata": {},
   "outputs": [
    {
     "name": "stdout",
     "output_type": "stream",
     "text": [
      "Blow, winds, and crack your cheeks!\n",
      "rage!\n",
      "blow!\n",
      "\n"
     ]
    }
   ],
   "source": [
    "with open('quote.txt') as f:\n",
    "    text=f.read()\n",
    "print(text)"
   ]
  },
  {
   "cell_type": "markdown",
   "id": "51c38fa1",
   "metadata": {},
   "source": [
    "#### Can also read file line by line"
   ]
  },
  {
   "cell_type": "code",
   "execution_count": 4,
   "id": "104ab34b",
   "metadata": {},
   "outputs": [
    {
     "name": "stdout",
     "output_type": "stream",
     "text": [
      "Blow, winds, and crack your cheeks!\n",
      "rage!\n",
      "blow!\n"
     ]
    }
   ],
   "source": [
    "with open('quote.txt') as f:\n",
    "    for line in f:\n",
    "        print(line, end='')"
   ]
  },
  {
   "cell_type": "code",
   "execution_count": 5,
   "id": "d2db2181",
   "metadata": {},
   "outputs": [
    {
     "name": "stdout",
     "output_type": "stream",
     "text": [
      "Blow, winds, and crack your cheeks!\n",
      "\n",
      "rage!\n",
      "\n",
      "blow!\n",
      "\n"
     ]
    }
   ],
   "source": [
    "with open('quote.txt') as f:\n",
    "    for line in f:\n",
    "        print(line)"
   ]
  },
  {
   "cell_type": "markdown",
   "id": "29edf12b",
   "metadata": {},
   "source": [
    "### Read CSV datafile"
   ]
  },
  {
   "cell_type": "code",
   "execution_count": 6,
   "id": "5901c202",
   "metadata": {},
   "outputs": [
    {
     "name": "stdout",
     "output_type": "stream",
     "text": [
      "Writing mydata.csv\n"
     ]
    }
   ],
   "source": [
    "%%writefile mydata.csv\n",
    "2.01,3.05\n",
    "4.01,3.2\n",
    "5.1,4.0\n",
    "6.5,7.1"
   ]
  },
  {
   "cell_type": "code",
   "execution_count": 7,
   "id": "e18213cc",
   "metadata": {},
   "outputs": [
    {
     "name": "stdout",
     "output_type": "stream",
     "text": [
      "[(2.01, 3.05), (4.01, 3.2), (5.1, 4.0), (6.5, 7.1)]\n"
     ]
    }
   ],
   "source": [
    "pts=[]\n",
    "with open('mydata.csv') as f:\n",
    "    for line in f:\n",
    "        x,y = line.strip().split(',')\n",
    "        x = float(x)\n",
    "        y = float(y)\n",
    "        pts.append((x,y))\n",
    "\n",
    "print(pts)"
   ]
  },
  {
   "cell_type": "markdown",
   "id": "848b2fab",
   "metadata": {},
   "source": [
    "**Writing to file**"
   ]
  },
  {
   "cell_type": "code",
   "execution_count": 8,
   "id": "73c2a4fc",
   "metadata": {},
   "outputs": [
    {
     "name": "stdout",
     "output_type": "stream",
     "text": [
      "done\n"
     ]
    }
   ],
   "source": [
    "with open('hello-python.txt', 'w') as f:\n",
    "    f.write('hello python\\n')\n",
    "    f.write('this stuff doesnt help but maybe??\\n')\n",
    "    f.write('this teacher is not doin great')\n",
    "    \n",
    "print('done')"
   ]
  },
  {
   "cell_type": "code",
   "execution_count": 9,
   "id": "8a4c22cf",
   "metadata": {},
   "outputs": [],
   "source": [
    "#with open('hello-python.txt', 'w') as f: This writes a new file with the \"w\"\n",
    "#with open('hello-python.txt', 'a') as f: This will append new data to the file with the \"a\""
   ]
  },
  {
   "cell_type": "code",
   "execution_count": 10,
   "id": "78bbc6ea",
   "metadata": {},
   "outputs": [
    {
     "name": "stdout",
     "output_type": "stream",
     "text": [
      "done\n"
     ]
    }
   ],
   "source": [
    "pts=[]\n",
    "for i in range(5):\n",
    "    pts.append((i, i*i/2))\n",
    "with open('data-points.csv','w') as f:\n",
    "    for x,y in pts:\n",
    "        f.write(f'{x},{y}\\n')\n",
    "print('done')"
   ]
  },
  {
   "cell_type": "markdown",
   "id": "10d8c4ae",
   "metadata": {},
   "source": [
    "### Alternative way to read file"
   ]
  },
  {
   "cell_type": "code",
   "execution_count": 13,
   "id": "9461a2cf",
   "metadata": {},
   "outputs": [
    {
     "name": "stdout",
     "output_type": "stream",
     "text": [
      "[(0.0, 0.0), (1.0, 0.5), (2.0, 2.0), (3.0, 4.5), (4.0, 8.0)]\n"
     ]
    }
   ],
   "source": [
    "f = open('data-points.csv', 'r')\n",
    "content=f.read()\n",
    "f.close()\n",
    "lines=content.strip().split('\\n')\n",
    "pts=[]\n",
    "for line in lines:\n",
    "    x,y=line.split(',')\n",
    "    x=float(x)\n",
    "    y=float(y)\n",
    "    pts.append((x,y))\n",
    "print(pts)"
   ]
  },
  {
   "cell_type": "code",
   "execution_count": 15,
   "id": "5b3aeaa5",
   "metadata": {},
   "outputs": [
    {
     "name": "stdout",
     "output_type": "stream",
     "text": [
      "done\n"
     ]
    }
   ],
   "source": [
    "pts=[]\n",
    "for i in range(5):\n",
    "    pts.append((i,i*i/2))\n",
    "f=open('my_datapoints2.csv','w')\n",
    "for x,y in pts:\n",
    "    f.write(f'{x},{y}\\n')\n",
    "f.close()\n",
    "print('done')"
   ]
  },
  {
   "cell_type": "markdown",
   "id": "411ac1a8",
   "metadata": {},
   "source": [
    "### Use JSON module to save data in text format\n",
    "* Java Script Object Notation"
   ]
  },
  {
   "cell_type": "code",
   "execution_count": 16,
   "id": "46bf24b8",
   "metadata": {},
   "outputs": [
    {
     "name": "stdout",
     "output_type": "stream",
     "text": [
      "done\n"
     ]
    }
   ],
   "source": [
    "import json\n",
    "numbers = [2,4,5,6,3,6,7,8,2,3,5]\n",
    "with open('numbers.json','w') as f:\n",
    "    json.dump(numbers,f)\n",
    "print('done')"
   ]
  },
  {
   "cell_type": "markdown",
   "id": "b7487deb",
   "metadata": {},
   "source": [
    "#### Use JSON to reload data"
   ]
  },
  {
   "cell_type": "code",
   "execution_count": 17,
   "id": "9a987fb2",
   "metadata": {},
   "outputs": [
    {
     "name": "stdout",
     "output_type": "stream",
     "text": [
      "[2, 4, 5, 6, 3, 6, 7, 8, 2, 3, 5]\n"
     ]
    }
   ],
   "source": [
    "import json\n",
    "with open('numbers.json') as f:\n",
    "    ns = json.load(f)\n",
    "print(ns)"
   ]
  },
  {
   "cell_type": "markdown",
   "id": "fca967b0",
   "metadata": {},
   "source": [
    "### Use shelve to save in binary format"
   ]
  },
  {
   "cell_type": "code",
   "execution_count": 18,
   "id": "2949acc8",
   "metadata": {},
   "outputs": [],
   "source": [
    "import shelve\n",
    "molecule = {'O':4,'H':3,'G':8}\n",
    "with shelve.open('molecule_data') as f:\n",
    "    f['molecule']=molecule\n",
    "    "
   ]
  },
  {
   "cell_type": "code",
   "execution_count": 19,
   "id": "41010c2f",
   "metadata": {},
   "outputs": [
    {
     "name": "stdout",
     "output_type": "stream",
     "text": [
      "{'O': 4, 'H': 3, 'G': 8}\n"
     ]
    }
   ],
   "source": [
    "with shelve.open('molecule_data') as f:\n",
    "    molecule = f['molecule']\n",
    "print(molecule)"
   ]
  },
  {
   "cell_type": "code",
   "execution_count": null,
   "id": "57ded2e1",
   "metadata": {},
   "outputs": [],
   "source": []
  }
 ],
 "metadata": {
  "kernelspec": {
   "display_name": "Python 3 (ipykernel)",
   "language": "python",
   "name": "python3"
  },
  "language_info": {
   "codemirror_mode": {
    "name": "ipython",
    "version": 3
   },
   "file_extension": ".py",
   "mimetype": "text/x-python",
   "name": "python",
   "nbconvert_exporter": "python",
   "pygments_lexer": "ipython3",
   "version": "3.9.7"
  }
 },
 "nbformat": 4,
 "nbformat_minor": 5
}
