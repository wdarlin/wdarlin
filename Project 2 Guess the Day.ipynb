{
 "cells": [
  {
   "cell_type": "markdown",
   "id": "45c663b6",
   "metadata": {},
   "source": [
    "### Guess weekday"
   ]
  },
  {
   "cell_type": "code",
   "execution_count": 6,
   "id": "74c42d47",
   "metadata": {},
   "outputs": [
    {
     "name": "stdout",
     "output_type": "stream",
     "text": [
      "Think of a number from 1 to 7 to represent Monday through Sunday.\n",
      "Answer my questions by typing \"y\" for yes and \"n\" for no.\n",
      "Is your number in this set:2,3,6,7?\n",
      "y\n",
      "Is your number in this set:1,3,5,7?\n",
      "y\n",
      "Is your number in this set:4,5,6,7\n",
      "n\n",
      "You are thinking Wednesday\n"
     ]
    }
   ],
   "source": [
    "print('Think of a number from 1 to 7 to represent Monday through Sunday.')\n",
    "print('Answer my questions by typing \"y\" for yes and \"n\" for no.')\n",
    "n=0\n",
    "print('Is your number in this set:2,3,6,7?')\n",
    "response=input()\n",
    "if response=='y':\n",
    "    n+=2\n",
    "print('Is your number in this set:1,3,5,7?')\n",
    "response=input()\n",
    "if response=='y':\n",
    "    n+=1\n",
    "print('Is your number in this set:4,5,6,7')\n",
    "response=input()\n",
    "if response=='y':\n",
    "    n+=4\n",
    "weekdays=('Monday Tuesday Wednesday Thursday Friday Saturday Sunday'.split())\n",
    "\n",
    "print(f'You are thinking', weekdays[n-1])"
   ]
  },
  {
   "cell_type": "code",
   "execution_count": null,
   "id": "44b13bb8",
   "metadata": {},
   "outputs": [],
   "source": []
  },
  {
   "cell_type": "markdown",
   "id": "c159669e",
   "metadata": {},
   "source": [
    "### Guess Birthday"
   ]
  },
  {
   "cell_type": "code",
   "execution_count": 11,
   "id": "1ad9fd61",
   "metadata": {},
   "outputs": [
    {
     "name": "stdout",
     "output_type": "stream",
     "text": [
      "Think of the day of your birthday between 1 and 31.\n",
      "Answer my questions by typing \"y\" for yes and \"n\" for no.\n",
      "Is your number in this set:1-10?\n",
      "y\n",
      "Is your number in this set:11-20?\n",
      "n\n",
      "Is your number in this set:20-31\n",
      "n\n",
      "You are thinking 4\n"
     ]
    }
   ],
   "source": [
    "print('Think of the day of your birthday between 1 and 31.')\n",
    "print('Answer my questions by typing \"y\" for yes and \"n\" for no.')\n",
    "n=0\n",
    "print('Is your number in this set:1-10?')\n",
    "response=input()\n",
    "if response=='y':\n",
    "    n+=5\n",
    "print('Is your number in this set:11-20?')\n",
    "response=input()\n",
    "if response=='y':\n",
    "    n+=10\n",
    "print('Is your number in this set:20-31')\n",
    "response=input()\n",
    "if response=='y':\n",
    "    n+=10\n",
    "days=(range(31))\n",
    "\n",
    "print(f'You are thinking', days[n-1])"
   ]
  },
  {
   "cell_type": "code",
   "execution_count": null,
   "id": "05867b0e",
   "metadata": {},
   "outputs": [],
   "source": []
  },
  {
   "cell_type": "code",
   "execution_count": null,
   "id": "a7bbadf8",
   "metadata": {},
   "outputs": [],
   "source": []
  }
 ],
 "metadata": {
  "kernelspec": {
   "display_name": "Python 3",
   "language": "python",
   "name": "python3"
  },
  "language_info": {
   "codemirror_mode": {
    "name": "ipython",
    "version": 3
   },
   "file_extension": ".py",
   "mimetype": "text/x-python",
   "name": "python",
   "nbconvert_exporter": "python",
   "pygments_lexer": "ipython3",
   "version": "3.8.8"
  }
 },
 "nbformat": 4,
 "nbformat_minor": 5
}
