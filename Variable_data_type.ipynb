{
 "cells": [
  {
   "cell_type": "markdown",
   "id": "199da1f4",
   "metadata": {},
   "source": [
    "### Variables and Basic Data Types "
   ]
  },
  {
   "cell_type": "markdown",
   "id": "3a163a72",
   "metadata": {},
   "source": [
    "**Integers**"
   ]
  },
  {
   "cell_type": "code",
   "execution_count": 1,
   "id": "84bb11ce",
   "metadata": {},
   "outputs": [
    {
     "data": {
      "text/plain": [
       "5"
      ]
     },
     "execution_count": 1,
     "metadata": {},
     "output_type": "execute_result"
    }
   ],
   "source": [
    "2+3"
   ]
  },
  {
   "cell_type": "code",
   "execution_count": 2,
   "id": "1f32d977",
   "metadata": {},
   "outputs": [
    {
     "data": {
      "text/plain": [
       "6"
      ]
     },
     "execution_count": 2,
     "metadata": {},
     "output_type": "execute_result"
    }
   ],
   "source": [
    "2*3"
   ]
  },
  {
   "cell_type": "code",
   "execution_count": 3,
   "id": "0f68eb25",
   "metadata": {},
   "outputs": [
    {
     "data": {
      "text/plain": [
       "17"
      ]
     },
     "execution_count": 3,
     "metadata": {},
     "output_type": "execute_result"
    }
   ],
   "source": [
    "2 + 3*5"
   ]
  },
  {
   "cell_type": "code",
   "execution_count": 4,
   "id": "7198e72b",
   "metadata": {},
   "outputs": [
    {
     "data": {
      "text/plain": [
       "25"
      ]
     },
     "execution_count": 4,
     "metadata": {},
     "output_type": "execute_result"
    }
   ],
   "source": [
    "(2+3)*5"
   ]
  },
  {
   "cell_type": "markdown",
   "id": "d4ecc01b",
   "metadata": {},
   "source": [
    "**Floats**"
   ]
  },
  {
   "cell_type": "code",
   "execution_count": 7,
   "id": "22cbdf93",
   "metadata": {},
   "outputs": [
    {
     "data": {
      "text/plain": [
       "5.6"
      ]
     },
     "execution_count": 7,
     "metadata": {},
     "output_type": "execute_result"
    }
   ],
   "source": [
    "2.1 + 3.5"
   ]
  },
  {
   "cell_type": "code",
   "execution_count": 6,
   "id": "f255121b",
   "metadata": {},
   "outputs": [
    {
     "data": {
      "text/plain": [
       "4.2"
      ]
     },
     "execution_count": 6,
     "metadata": {},
     "output_type": "execute_result"
    }
   ],
   "source": [
    "2.1*2"
   ]
  },
  {
   "cell_type": "code",
   "execution_count": 8,
   "id": "8dafa658",
   "metadata": {},
   "outputs": [
    {
     "data": {
      "text/plain": [
       "4.0"
      ]
     },
     "execution_count": 8,
     "metadata": {},
     "output_type": "execute_result"
    }
   ],
   "source": [
    "2.0 *2"
   ]
  },
  {
   "cell_type": "code",
   "execution_count": 9,
   "id": "1be1adfc",
   "metadata": {},
   "outputs": [
    {
     "data": {
      "text/plain": [
       "0.6"
      ]
     },
     "execution_count": 9,
     "metadata": {},
     "output_type": "execute_result"
    }
   ],
   "source": [
    "2.1/3.5"
   ]
  },
  {
   "cell_type": "code",
   "execution_count": 10,
   "id": "a7934cb7",
   "metadata": {},
   "outputs": [
    {
     "data": {
      "text/plain": [
       "7.0"
      ]
     },
     "execution_count": 10,
     "metadata": {},
     "output_type": "execute_result"
    }
   ],
   "source": [
    "10-2*1.5"
   ]
  },
  {
   "cell_type": "code",
   "execution_count": 16,
   "id": "c91c7bb5",
   "metadata": {},
   "outputs": [
    {
     "data": {
      "text/plain": [
       "3.1622776601683795"
      ]
     },
     "execution_count": 16,
     "metadata": {},
     "output_type": "execute_result"
    }
   ],
   "source": [
    "10**0.5"
   ]
  },
  {
   "cell_type": "markdown",
   "id": "28d0048a",
   "metadata": {},
   "source": [
    "**Real Division and Integer Division**"
   ]
  },
  {
   "cell_type": "code",
   "execution_count": 17,
   "id": "b68435b2",
   "metadata": {},
   "outputs": [
    {
     "data": {
      "text/plain": [
       "2.3333333333333335"
      ]
     },
     "execution_count": 17,
     "metadata": {},
     "output_type": "execute_result"
    }
   ],
   "source": [
    "7/3"
   ]
  },
  {
   "cell_type": "code",
   "execution_count": 18,
   "id": "670f9fae",
   "metadata": {},
   "outputs": [
    {
     "data": {
      "text/plain": [
       "4.0"
      ]
     },
     "execution_count": 18,
     "metadata": {},
     "output_type": "execute_result"
    }
   ],
   "source": [
    "8/2"
   ]
  },
  {
   "cell_type": "code",
   "execution_count": 19,
   "id": "50b40e37",
   "metadata": {},
   "outputs": [
    {
     "data": {
      "text/plain": [
       "2"
      ]
     },
     "execution_count": 19,
     "metadata": {},
     "output_type": "execute_result"
    }
   ],
   "source": [
    "7//3"
   ]
  },
  {
   "cell_type": "code",
   "execution_count": 21,
   "id": "395d2b2e",
   "metadata": {},
   "outputs": [
    {
     "data": {
      "text/plain": [
       "-3"
      ]
     },
     "execution_count": 21,
     "metadata": {},
     "output_type": "execute_result"
    }
   ],
   "source": [
    "-7//3\n",
    "#example of floor division"
   ]
  },
  {
   "cell_type": "code",
   "execution_count": 24,
   "id": "87cabdb4",
   "metadata": {},
   "outputs": [
    {
     "data": {
      "text/plain": [
       "2"
      ]
     },
     "execution_count": 24,
     "metadata": {},
     "output_type": "execute_result"
    }
   ],
   "source": [
    "int(2.3)"
   ]
  },
  {
   "cell_type": "code",
   "execution_count": 26,
   "id": "c2b10120",
   "metadata": {},
   "outputs": [
    {
     "data": {
      "text/plain": [
       "-2"
      ]
     },
     "execution_count": 26,
     "metadata": {},
     "output_type": "execute_result"
    }
   ],
   "source": [
    "int(-2.3)\n",
    "#example of interger division, moves closer to 0."
   ]
  },
  {
   "cell_type": "markdown",
   "id": "c85257db",
   "metadata": {},
   "source": [
    "**Remainder Module Function**"
   ]
  },
  {
   "cell_type": "code",
   "execution_count": 27,
   "id": "b7a42f0c",
   "metadata": {},
   "outputs": [
    {
     "data": {
      "text/plain": [
       "1"
      ]
     },
     "execution_count": 27,
     "metadata": {},
     "output_type": "execute_result"
    }
   ],
   "source": [
    "7%3"
   ]
  },
  {
   "cell_type": "code",
   "execution_count": 28,
   "id": "251f1182",
   "metadata": {},
   "outputs": [
    {
     "data": {
      "text/plain": [
       "2"
      ]
     },
     "execution_count": 28,
     "metadata": {},
     "output_type": "execute_result"
    }
   ],
   "source": [
    "-7%3"
   ]
  },
  {
   "cell_type": "code",
   "execution_count": 29,
   "id": "74b8c9e8",
   "metadata": {},
   "outputs": [
    {
     "data": {
      "text/plain": [
       "-7"
      ]
     },
     "execution_count": 29,
     "metadata": {},
     "output_type": "execute_result"
    }
   ],
   "source": [
    "(-7//3)*3+(-7%3)"
   ]
  },
  {
   "cell_type": "markdown",
   "id": "ba68ed95",
   "metadata": {},
   "source": [
    "**Use to Check Divisibility**"
   ]
  },
  {
   "cell_type": "code",
   "execution_count": 30,
   "id": "bc02f97b",
   "metadata": {},
   "outputs": [
    {
     "data": {
      "text/plain": [
       "0"
      ]
     },
     "execution_count": 30,
     "metadata": {},
     "output_type": "execute_result"
    }
   ],
   "source": [
    "4%2"
   ]
  },
  {
   "cell_type": "code",
   "execution_count": 31,
   "id": "e7943ae1",
   "metadata": {},
   "outputs": [
    {
     "data": {
      "text/plain": [
       "1"
      ]
     },
     "execution_count": 31,
     "metadata": {},
     "output_type": "execute_result"
    }
   ],
   "source": [
    "-5%2"
   ]
  },
  {
   "cell_type": "code",
   "execution_count": 32,
   "id": "a3cac39c",
   "metadata": {},
   "outputs": [
    {
     "data": {
      "text/plain": [
       "1"
      ]
     },
     "execution_count": 32,
     "metadata": {},
     "output_type": "execute_result"
    }
   ],
   "source": [
    "3577%2"
   ]
  },
  {
   "cell_type": "code",
   "execution_count": 33,
   "id": "43b53118",
   "metadata": {},
   "outputs": [],
   "source": [
    "#can be used to see if remainder is even or odd, plus other uses"
   ]
  },
  {
   "cell_type": "markdown",
   "id": "e51648c5",
   "metadata": {},
   "source": [
    "**Variables**"
   ]
  },
  {
   "cell_type": "code",
   "execution_count": 34,
   "id": "4954ddae",
   "metadata": {},
   "outputs": [],
   "source": [
    "x=2.1"
   ]
  },
  {
   "cell_type": "code",
   "execution_count": 35,
   "id": "7ce2e9d1",
   "metadata": {},
   "outputs": [],
   "source": [
    "y=3.5"
   ]
  },
  {
   "cell_type": "code",
   "execution_count": 36,
   "id": "aafc735b",
   "metadata": {},
   "outputs": [],
   "source": [
    "z=x/y"
   ]
  },
  {
   "cell_type": "code",
   "execution_count": 37,
   "id": "4940141f",
   "metadata": {},
   "outputs": [
    {
     "data": {
      "text/plain": [
       "0.6"
      ]
     },
     "execution_count": 37,
     "metadata": {},
     "output_type": "execute_result"
    }
   ],
   "source": [
    "z"
   ]
  },
  {
   "cell_type": "markdown",
   "id": "18d15277",
   "metadata": {},
   "source": [
    "**Used Meaningful Names for Variables**"
   ]
  },
  {
   "cell_type": "code",
   "execution_count": 38,
   "id": "40f012cd",
   "metadata": {},
   "outputs": [
    {
     "data": {
      "text/plain": [
       "50.0"
      ]
     },
     "execution_count": 38,
     "metadata": {},
     "output_type": "execute_result"
    }
   ],
   "source": [
    "borrow_amount=1000.00\n",
    "interest_rate=0.05\n",
    "interest=borrow_amount*interest_rate\n",
    "interest"
   ]
  },
  {
   "cell_type": "code",
   "execution_count": 39,
   "id": "a8e9c815",
   "metadata": {},
   "outputs": [],
   "source": [
    "x1,y2,z3=10,22,13"
   ]
  },
  {
   "cell_type": "markdown",
   "id": "539c70b3",
   "metadata": {},
   "source": [
    "**Check Data Types**"
   ]
  },
  {
   "cell_type": "code",
   "execution_count": 4,
   "id": "37f607db",
   "metadata": {},
   "outputs": [
    {
     "data": {
      "text/plain": [
       "int"
      ]
     },
     "execution_count": 4,
     "metadata": {},
     "output_type": "execute_result"
    }
   ],
   "source": [
    "x = 3\n",
    "y = 3.24\n",
    "type(x)"
   ]
  },
  {
   "cell_type": "code",
   "execution_count": 5,
   "id": "245bd78d",
   "metadata": {},
   "outputs": [
    {
     "data": {
      "text/plain": [
       "float"
      ]
     },
     "execution_count": 5,
     "metadata": {},
     "output_type": "execute_result"
    }
   ],
   "source": [
    "type(y)"
   ]
  },
  {
   "cell_type": "code",
   "execution_count": 6,
   "id": "e558eafb",
   "metadata": {},
   "outputs": [
    {
     "data": {
      "text/plain": [
       "False"
      ]
     },
     "execution_count": 6,
     "metadata": {},
     "output_type": "execute_result"
    }
   ],
   "source": [
    "type(y)==int"
   ]
  },
  {
   "cell_type": "code",
   "execution_count": 7,
   "id": "5db7d689",
   "metadata": {},
   "outputs": [
    {
     "data": {
      "text/plain": [
       "False"
      ]
     },
     "execution_count": 7,
     "metadata": {},
     "output_type": "execute_result"
    }
   ],
   "source": [
    "isinstance(y, int)"
   ]
  },
  {
   "cell_type": "code",
   "execution_count": 9,
   "id": "a509fdcb",
   "metadata": {},
   "outputs": [
    {
     "data": {
      "text/plain": [
       "True"
      ]
     },
     "execution_count": 9,
     "metadata": {},
     "output_type": "execute_result"
    }
   ],
   "source": [
    "isinstance(y, float)"
   ]
  },
  {
   "cell_type": "code",
   "execution_count": null,
   "id": "5bf74164",
   "metadata": {},
   "outputs": [],
   "source": []
  }
 ],
 "metadata": {
  "kernelspec": {
   "display_name": "Python 3 (ipykernel)",
   "language": "python",
   "name": "python3"
  },
  "language_info": {
   "codemirror_mode": {
    "name": "ipython",
    "version": 3
   },
   "file_extension": ".py",
   "mimetype": "text/x-python",
   "name": "python",
   "nbconvert_exporter": "python",
   "pygments_lexer": "ipython3",
   "version": "3.9.7"
  }
 },
 "nbformat": 4,
 "nbformat_minor": 5
}
