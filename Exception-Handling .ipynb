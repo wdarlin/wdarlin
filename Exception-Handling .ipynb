{
 "cells": [
  {
   "cell_type": "markdown",
   "id": "900ded6e",
   "metadata": {},
   "source": [
    "## Exceptions"
   ]
  },
  {
   "cell_type": "code",
   "execution_count": 1,
   "id": "1e6a61fd",
   "metadata": {},
   "outputs": [
    {
     "ename": "FileNotFoundError",
     "evalue": "[Errno 2] No such file or directory: 'none.txt'",
     "output_type": "error",
     "traceback": [
      "\u001b[1;31m---------------------------------------------------------------------------\u001b[0m",
      "\u001b[1;31mFileNotFoundError\u001b[0m                         Traceback (most recent call last)",
      "\u001b[1;32m~\\AppData\\Local\\Temp/ipykernel_9260/1528375420.py\u001b[0m in \u001b[0;36m<module>\u001b[1;34m\u001b[0m\n\u001b[1;32m----> 1\u001b[1;33m \u001b[1;32mwith\u001b[0m \u001b[0mopen\u001b[0m\u001b[1;33m(\u001b[0m\u001b[1;34m'none.txt'\u001b[0m\u001b[1;33m)\u001b[0m \u001b[1;32mas\u001b[0m \u001b[0mf\u001b[0m\u001b[1;33m:\u001b[0m\u001b[1;33m\u001b[0m\u001b[1;33m\u001b[0m\u001b[0m\n\u001b[0m\u001b[0;32m      2\u001b[0m     \u001b[0mprint\u001b[0m\u001b[1;33m(\u001b[0m\u001b[0mf\u001b[0m\u001b[1;33m.\u001b[0m\u001b[0mread\u001b[0m\u001b[1;33m(\u001b[0m\u001b[1;33m)\u001b[0m\u001b[1;33m)\u001b[0m\u001b[1;33m\u001b[0m\u001b[1;33m\u001b[0m\u001b[0m\n",
      "\u001b[1;31mFileNotFoundError\u001b[0m: [Errno 2] No such file or directory: 'none.txt'"
     ]
    }
   ],
   "source": [
    "with open('none.txt') as f:\n",
    "    print(f.read())"
   ]
  },
  {
   "cell_type": "markdown",
   "id": "7f910f34",
   "metadata": {},
   "source": [
    "#### Handle FileNotFound exception"
   ]
  },
  {
   "cell_type": "code",
   "execution_count": null,
   "id": "76d46e05",
   "metadata": {},
   "outputs": [],
   "source": [
    "filename = 'nonexist.txt'\n",
    "try:\n",
    "    with open(filename) as f:\n",
    "        print(f.read())\n",
    "except FileNotFoundError:\n",
    "    print(f'{filename} not exist')"
   ]
  },
  {
   "cell_type": "markdown",
   "id": "e4ae9283",
   "metadata": {},
   "source": [
    "### Divide by zero"
   ]
  },
  {
   "cell_type": "code",
   "execution_count": null,
   "id": "01902ee3",
   "metadata": {},
   "outputs": [],
   "source": [
    "5/0"
   ]
  },
  {
   "cell_type": "code",
   "execution_count": null,
   "id": "bcc128d9",
   "metadata": {},
   "outputs": [],
   "source": [
    "x= float(input('x= '))\n",
    "y= float(input('y= '))\n",
    "try:\n",
    "    print(f'{x} / {y} = {x/y}')\n",
    "except ZeroDivisionError:\n",
    "    print('Cannot divide by zero')"
   ]
  },
  {
   "cell_type": "markdown",
   "id": "77e41891",
   "metadata": {},
   "source": [
    "### Catch and Report arbitary exception"
   ]
  },
  {
   "cell_type": "code",
   "execution_count": null,
   "id": "52d095f7",
   "metadata": {},
   "outputs": [],
   "source": [
    "try:\n",
    "    x=float(input('x= '))\n",
    "    print(f'{x}^2={x*x}')\n",
    "except Exception as e:\n",
    "    print(e)"
   ]
  },
  {
   "cell_type": "code",
   "execution_count": null,
   "id": "a4215c4a",
   "metadata": {},
   "outputs": [],
   "source": [
    "try:\n",
    "    with open('greetings.txt') as f:\n",
    "        print(f.read())\n",
    "except:\n",
    "    pass\n",
    "print('This is the first lesson.')"
   ]
  },
  {
   "cell_type": "code",
   "execution_count": null,
   "id": "56b35e0b",
   "metadata": {},
   "outputs": [],
   "source": [
    "while True:\n",
    "    try:\n",
    "        x=float(input('x= '))\n",
    "        break\n",
    "    except:\n",
    "        pass\n",
    "print(f'{x}^2 = {x*x}')"
   ]
  },
  {
   "cell_type": "markdown",
   "id": "dede6ceb",
   "metadata": {},
   "source": [
    "### Raise custom exception"
   ]
  },
  {
   "cell_type": "code",
   "execution_count": 2,
   "id": "31c41af7",
   "metadata": {},
   "outputs": [
    {
     "name": "stdout",
     "output_type": "stream",
     "text": [
      "x= 2\n",
      "Too Small\n",
      "x= 5\n",
      "Too Small\n",
      "x= 111\n",
      "Too Large\n",
      "x= 50\n"
     ]
    }
   ],
   "source": [
    "def get_fifty(x):\n",
    "    if x > 50:\n",
    "        raise(Exception('Too Large'))\n",
    "    elif x<50:\n",
    "        raise(Exception('Too Small'))\n",
    "    else:\n",
    "        return 'Fifty'\n",
    "\n",
    "while True:\n",
    "    try:\n",
    "        x=int(input('x= '))\n",
    "        res = get_fifty(x)\n",
    "        break\n",
    "    except Exception as e:\n",
    "        print(e)"
   ]
  },
  {
   "cell_type": "code",
   "execution_count": 3,
   "id": "fee80d26",
   "metadata": {},
   "outputs": [
    {
     "name": "stdout",
     "output_type": "stream",
     "text": [
      "Writing user_input.py\n"
     ]
    }
   ],
   "source": [
    "%%writefile user_input.py\n",
    "#functions  for getting user input\n",
    "def get_float(prompt):\n",
    "    while True:\n",
    "        try:\n",
    "            x = float(input(prompt))\n",
    "            return x\n",
    "        except:\n",
    "            pass\n",
    "        \n",
    "def get_int(prompt):\n",
    "    while True:\n",
    "        try:\n",
    "            i = int(input(prompt))\n",
    "            return i\n",
    "        except:\n",
    "            pass"
   ]
  },
  {
   "cell_type": "code",
   "execution_count": null,
   "id": "f4e023f3",
   "metadata": {},
   "outputs": [],
   "source": []
  }
 ],
 "metadata": {
  "kernelspec": {
   "display_name": "Python 3 (ipykernel)",
   "language": "python",
   "name": "python3"
  },
  "language_info": {
   "codemirror_mode": {
    "name": "ipython",
    "version": 3
   },
   "file_extension": ".py",
   "mimetype": "text/x-python",
   "name": "python",
   "nbconvert_exporter": "python",
   "pygments_lexer": "ipython3",
   "version": "3.9.7"
  }
 },
 "nbformat": 4,
 "nbformat_minor": 5
}
