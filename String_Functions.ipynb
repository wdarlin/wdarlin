{
 "cells": [
  {
   "cell_type": "markdown",
   "id": "262ae929",
   "metadata": {},
   "source": [
    "## Strings (str)"
   ]
  },
  {
   "cell_type": "code",
   "execution_count": 1,
   "id": "43d1e972",
   "metadata": {},
   "outputs": [
    {
     "name": "stdout",
     "output_type": "stream",
     "text": [
      "hello\n"
     ]
    }
   ],
   "source": [
    "print('hello')"
   ]
  },
  {
   "cell_type": "code",
   "execution_count": 11,
   "id": "d9991043",
   "metadata": {},
   "outputs": [
    {
     "data": {
      "text/plain": [
       "str"
      ]
     },
     "execution_count": 11,
     "metadata": {},
     "output_type": "execute_result"
    }
   ],
   "source": [
    "chem = 'Chemistry'\n",
    "type(chem)"
   ]
  },
  {
   "cell_type": "code",
   "execution_count": 12,
   "id": "8365e732",
   "metadata": {},
   "outputs": [
    {
     "data": {
      "text/plain": [
       "True"
      ]
     },
     "execution_count": 12,
     "metadata": {},
     "output_type": "execute_result"
    }
   ],
   "source": [
    "isinstance(chem,str)"
   ]
  },
  {
   "cell_type": "code",
   "execution_count": 13,
   "id": "3e3e34bc",
   "metadata": {},
   "outputs": [
    {
     "data": {
      "text/plain": [
       "'e'"
      ]
     },
     "execution_count": 13,
     "metadata": {},
     "output_type": "execute_result"
    }
   ],
   "source": [
    "#Index a string\n",
    "chem[2]"
   ]
  },
  {
   "cell_type": "code",
   "execution_count": 17,
   "id": "93dcbf6e",
   "metadata": {},
   "outputs": [
    {
     "data": {
      "text/plain": [
       "'y'"
      ]
     },
     "execution_count": 17,
     "metadata": {},
     "output_type": "execute_result"
    }
   ],
   "source": [
    "chem[8]"
   ]
  },
  {
   "cell_type": "code",
   "execution_count": 15,
   "id": "cfb387ef",
   "metadata": {},
   "outputs": [
    {
     "data": {
      "text/plain": [
       "'y'"
      ]
     },
     "execution_count": 15,
     "metadata": {},
     "output_type": "execute_result"
    }
   ],
   "source": [
    "chem[-1]"
   ]
  },
  {
   "cell_type": "code",
   "execution_count": 16,
   "id": "458cb6c9",
   "metadata": {},
   "outputs": [
    {
     "ename": "IndexError",
     "evalue": "string index out of range",
     "output_type": "error",
     "traceback": [
      "\u001b[1;31m---------------------------------------------------------------------------\u001b[0m",
      "\u001b[1;31mIndexError\u001b[0m                                Traceback (most recent call last)",
      "\u001b[1;32mC:\\Users\\VALUED~1\\AppData\\Local\\Temp/ipykernel_12280/565774341.py\u001b[0m in \u001b[0;36m<module>\u001b[1;34m\u001b[0m\n\u001b[1;32m----> 1\u001b[1;33m \u001b[0mchem\u001b[0m\u001b[1;33m[\u001b[0m\u001b[1;36m9\u001b[0m\u001b[1;33m]\u001b[0m\u001b[1;33m\u001b[0m\u001b[1;33m\u001b[0m\u001b[0m\n\u001b[0m",
      "\u001b[1;31mIndexError\u001b[0m: string index out of range"
     ]
    }
   ],
   "source": [
    "chem[9]"
   ]
  },
  {
   "cell_type": "code",
   "execution_count": 21,
   "id": "bc50cd52",
   "metadata": {},
   "outputs": [
    {
     "name": "stdout",
     "output_type": "stream",
     "text": [
      "now try.\n",
      "this again?\n",
      "three lines!\n"
     ]
    }
   ],
   "source": [
    "msg=\"\"\"now try.\n",
    "this again?\n",
    "three lines!\"\"\"\n",
    "print(msg)"
   ]
  },
  {
   "cell_type": "code",
   "execution_count": 25,
   "id": "51c35318",
   "metadata": {},
   "outputs": [
    {
     "name": "stdout",
     "output_type": "stream",
     "text": [
      "Harry Potter\n"
     ]
    }
   ],
   "source": [
    "name='harry potter'\n",
    "print(name.title())"
   ]
  },
  {
   "cell_type": "code",
   "execution_count": 26,
   "id": "61a1f6a3",
   "metadata": {},
   "outputs": [
    {
     "name": "stdout",
     "output_type": "stream",
     "text": [
      "HARRY POTTER\n"
     ]
    }
   ],
   "source": [
    "print(name.upper())"
   ]
  },
  {
   "cell_type": "code",
   "execution_count": 28,
   "id": "1509a98a",
   "metadata": {},
   "outputs": [
    {
     "name": "stdout",
     "output_type": "stream",
     "text": [
      "good morning, peter.\n"
     ]
    }
   ],
   "source": [
    "sentence='Good morning, PETER.'\n",
    "print(sentence.lower())\n"
   ]
  },
  {
   "cell_type": "markdown",
   "id": "abf67929",
   "metadata": {},
   "source": [
    "**Tabs and New lines**"
   ]
  },
  {
   "cell_type": "code",
   "execution_count": 30,
   "id": "3a0f59a2",
   "metadata": {},
   "outputs": [
    {
     "name": "stdout",
     "output_type": "stream",
     "text": [
      "Courses:\n",
      "\tEnglish\n",
      "\tMath\n",
      "\tBiology\n"
     ]
    }
   ],
   "source": [
    "print('Courses:\\n\\tEnglish\\n\\tMath\\n\\tBiology')"
   ]
  },
  {
   "cell_type": "code",
   "execution_count": 31,
   "id": "5495159d",
   "metadata": {},
   "outputs": [
    {
     "name": "stdout",
     "output_type": "stream",
     "text": [
      "\n",
      "Some escape characters:\n",
      "    \\\\ for \\\n",
      "    \\'for '\n",
      "    \\t for TAB\n",
      "    \\n for newline\n"
     ]
    }
   ],
   "source": [
    "print(r'''\n",
    "Some escape characters:\n",
    "    \\\\ for \\\n",
    "    \\'for '\n",
    "    \\t for TAB\n",
    "    \\n for newline''')"
   ]
  },
  {
   "cell_type": "code",
   "execution_count": 32,
   "id": "b04e93ff",
   "metadata": {},
   "outputs": [
    {
     "name": "stdout",
     "output_type": "stream",
     "text": [
      "I'll see you later\n"
     ]
    }
   ],
   "source": [
    "print(\"I'll see you later\")"
   ]
  },
  {
   "cell_type": "code",
   "execution_count": 33,
   "id": "768db546",
   "metadata": {},
   "outputs": [
    {
     "name": "stdout",
     "output_type": "stream",
     "text": [
      "I'll see you later\n"
     ]
    }
   ],
   "source": [
    "print('I\\'ll see you later')"
   ]
  },
  {
   "cell_type": "markdown",
   "id": "2afe09e1",
   "metadata": {},
   "source": [
    "### **Raw String** \n",
    "_(Treated as is, no escape)_"
   ]
  },
  {
   "cell_type": "code",
   "execution_count": 34,
   "id": "3f239d77",
   "metadata": {},
   "outputs": [
    {
     "name": "stdout",
     "output_type": "stream",
     "text": [
      "C:\\documents\\python\\hello.py\n"
     ]
    }
   ],
   "source": [
    "filepath= r'C:\\documents\\python\\hello.py'\n",
    "print(filepath)"
   ]
  },
  {
   "cell_type": "code",
   "execution_count": 35,
   "id": "19333bce",
   "metadata": {},
   "outputs": [
    {
     "name": "stdout",
     "output_type": "stream",
     "text": [
      "I\\'ll see you later\n"
     ]
    }
   ],
   "source": [
    "msg=r'I\\'ll see you later'\n",
    "print(msg)"
   ]
  },
  {
   "cell_type": "markdown",
   "id": "ce9dff92",
   "metadata": {},
   "source": [
    "Raw 'r' will let you print or make string without need for escape characters"
   ]
  },
  {
   "cell_type": "markdown",
   "id": "84fac5e3",
   "metadata": {},
   "source": [
    "**String Concatenation**"
   ]
  },
  {
   "cell_type": "code",
   "execution_count": 38,
   "id": "bcb9d6b1",
   "metadata": {},
   "outputs": [
    {
     "data": {
      "text/plain": [
       "'Harry Potter'"
      ]
     },
     "execution_count": 38,
     "metadata": {},
     "output_type": "execute_result"
    }
   ],
   "source": [
    "first_name='harry'\n",
    "last_name='potter'\n",
    "space=' '\n",
    "full_name= first_name+space+last_name\n",
    "full_name.title()"
   ]
  },
  {
   "cell_type": "markdown",
   "id": "64a1006d",
   "metadata": {},
   "source": [
    "**Format String**"
   ]
  },
  {
   "cell_type": "code",
   "execution_count": 5,
   "id": "cc1c2db1",
   "metadata": {},
   "outputs": [
    {
     "name": "stdout",
     "output_type": "stream",
     "text": [
      "I like Harry Potter series\n"
     ]
    }
   ],
   "source": [
    "first_name='harry'\n",
    "last_name='potter'\n",
    "full_name=f'{first_name} {last_name}'\n",
    "print(f'I like {full_name.title()} series')"
   ]
  },
  {
   "cell_type": "code",
   "execution_count": 10,
   "id": "ec6a9735",
   "metadata": {},
   "outputs": [
    {
     "data": {
      "text/plain": [
       "'The fish weighs 10.6 pounds'"
      ]
     },
     "execution_count": 10,
     "metadata": {},
     "output_type": "execute_result"
    }
   ],
   "source": [
    "weight=10.6\n",
    "msg=f'The fish weighs {weight} pounds'\n",
    "msg"
   ]
  },
  {
   "cell_type": "markdown",
   "id": "70bdbcaa",
   "metadata": {},
   "source": [
    "### String Concatenation with Numbers"
   ]
  },
  {
   "cell_type": "code",
   "execution_count": 9,
   "id": "3ce5fb52",
   "metadata": {},
   "outputs": [
    {
     "ename": "TypeError",
     "evalue": "can only concatenate str (not \"float\") to str",
     "output_type": "error",
     "traceback": [
      "\u001b[1;31m---------------------------------------------------------------------------\u001b[0m",
      "\u001b[1;31mTypeError\u001b[0m                                 Traceback (most recent call last)",
      "\u001b[1;32mC:\\Users\\VALUED~1\\AppData\\Local\\Temp/ipykernel_9516/3312514444.py\u001b[0m in \u001b[0;36m<module>\u001b[1;34m\u001b[0m\n\u001b[0;32m      1\u001b[0m \u001b[0mweight\u001b[0m \u001b[1;33m=\u001b[0m \u001b[1;36m10.8\u001b[0m\u001b[1;33m\u001b[0m\u001b[1;33m\u001b[0m\u001b[0m\n\u001b[1;32m----> 2\u001b[1;33m \u001b[0mmsg\u001b[0m \u001b[1;33m=\u001b[0m \u001b[1;34m'The fish weighs '\u001b[0m\u001b[1;33m+\u001b[0m \u001b[0mweight\u001b[0m \u001b[1;33m+\u001b[0m \u001b[1;34m'pounds.'\u001b[0m\u001b[1;33m\u001b[0m\u001b[1;33m\u001b[0m\u001b[0m\n\u001b[0m\u001b[0;32m      3\u001b[0m \u001b[0mprint\u001b[0m\u001b[1;33m(\u001b[0m\u001b[0mmsg\u001b[0m\u001b[1;33m)\u001b[0m\u001b[1;33m\u001b[0m\u001b[1;33m\u001b[0m\u001b[0m\n",
      "\u001b[1;31mTypeError\u001b[0m: can only concatenate str (not \"float\") to str"
     ]
    }
   ],
   "source": [
    "weight = 10.8\n",
    "msg = 'The fish weighs '+ weight + 'pounds.'\n",
    "print(msg)"
   ]
  },
  {
   "cell_type": "code",
   "execution_count": 12,
   "id": "ba810f2d",
   "metadata": {},
   "outputs": [
    {
     "name": "stdout",
     "output_type": "stream",
     "text": [
      "The fish weighs 10.8 pounds.\n"
     ]
    }
   ],
   "source": [
    "weight = 10.8\n",
    "msg = 'The fish weighs '+ str(weight) + ' pounds.'\n",
    "print(msg)"
   ]
  },
  {
   "cell_type": "code",
   "execution_count": 14,
   "id": "23be42b1",
   "metadata": {},
   "outputs": [
    {
     "data": {
      "text/plain": [
       "39.8"
      ]
     },
     "execution_count": 14,
     "metadata": {},
     "output_type": "execute_result"
    }
   ],
   "source": [
    "weight=\"10.8\"\n",
    "total= float(weight)+29\n",
    "total"
   ]
  },
  {
   "cell_type": "markdown",
   "id": "ed38695e",
   "metadata": {},
   "source": [
    "### Strip Whitespace (space,tab,newline)"
   ]
  },
  {
   "cell_type": "code",
   "execution_count": 19,
   "id": "119505cf",
   "metadata": {},
   "outputs": [
    {
     "name": "stdout",
     "output_type": "stream",
     "text": [
      "I like Python very much\n"
     ]
    }
   ],
   "source": [
    "language = '    \\tPython     \\n'\n",
    "msg = f'I like {language.strip()} very much'\n",
    "print(msg)"
   ]
  },
  {
   "cell_type": "markdown",
   "id": "456af859",
   "metadata": {},
   "source": [
    "### Slicing"
   ]
  },
  {
   "cell_type": "code",
   "execution_count": 20,
   "id": "9dfe0752",
   "metadata": {},
   "outputs": [
    {
     "data": {
      "text/plain": [
       "'is'"
      ]
     },
     "execution_count": 20,
     "metadata": {},
     "output_type": "execute_result"
    }
   ],
   "source": [
    "chem = 'Chemistry'\n",
    "chem[4:6]"
   ]
  },
  {
   "cell_type": "code",
   "execution_count": 22,
   "id": "f8394186",
   "metadata": {},
   "outputs": [
    {
     "data": {
      "text/plain": [
       "'Chem'"
      ]
     },
     "execution_count": 22,
     "metadata": {},
     "output_type": "execute_result"
    }
   ],
   "source": [
    "chem[:4]"
   ]
  },
  {
   "cell_type": "code",
   "execution_count": 32,
   "id": "2165b7ef",
   "metadata": {},
   "outputs": [
    {
     "data": {
      "text/plain": [
       "'try'"
      ]
     },
     "execution_count": 32,
     "metadata": {},
     "output_type": "execute_result"
    }
   ],
   "source": [
    "chem[-3:]"
   ]
  },
  {
   "cell_type": "code",
   "execution_count": 35,
   "id": "0f12b397",
   "metadata": {},
   "outputs": [
    {
     "data": {
      "text/plain": [
       "'Chemistry'"
      ]
     },
     "execution_count": 35,
     "metadata": {},
     "output_type": "execute_result"
    }
   ],
   "source": [
    "chem[:]"
   ]
  },
  {
   "cell_type": "markdown",
   "id": "ec5a4abc",
   "metadata": {},
   "source": [
    "### Lengths of string"
   ]
  },
  {
   "cell_type": "code",
   "execution_count": 36,
   "id": "b80a0dbb",
   "metadata": {},
   "outputs": [
    {
     "data": {
      "text/plain": [
       "9"
      ]
     },
     "execution_count": 36,
     "metadata": {},
     "output_type": "execute_result"
    }
   ],
   "source": [
    "chem = 'Chemistry'\n",
    "n = len(chem)\n",
    "n"
   ]
  },
  {
   "cell_type": "markdown",
   "id": "08bdff4e",
   "metadata": {},
   "source": [
    "### Find Part of String (search)"
   ]
  },
  {
   "cell_type": "code",
   "execution_count": 37,
   "id": "c443624a",
   "metadata": {},
   "outputs": [
    {
     "data": {
      "text/plain": [
       "4"
      ]
     },
     "execution_count": 37,
     "metadata": {},
     "output_type": "execute_result"
    }
   ],
   "source": [
    "chem = 'Chemistry'\n",
    "part = 'is'\n",
    "i = chem.find(part)\n",
    "i"
   ]
  },
  {
   "cell_type": "code",
   "execution_count": 39,
   "id": "1cb3b2b7",
   "metadata": {},
   "outputs": [
    {
     "data": {
      "text/plain": [
       "-1"
      ]
     },
     "execution_count": 39,
     "metadata": {},
     "output_type": "execute_result"
    }
   ],
   "source": [
    "#getting -1 means python cannot find the string\n",
    "part ='chem'\n",
    "i = chem.find(part)\n",
    "i"
   ]
  },
  {
   "cell_type": "code",
   "execution_count": 40,
   "id": "81e0fbfa",
   "metadata": {},
   "outputs": [
    {
     "data": {
      "text/plain": [
       "1"
      ]
     },
     "execution_count": 40,
     "metadata": {},
     "output_type": "execute_result"
    }
   ],
   "source": [
    "st='Good job!'\n",
    "let='o'\n",
    "i=st.find(let)\n",
    "i"
   ]
  },
  {
   "cell_type": "markdown",
   "id": "85dd4608",
   "metadata": {},
   "source": [
    "### Google python string methods"
   ]
  },
  {
   "cell_type": "code",
   "execution_count": null,
   "id": "3e894f00",
   "metadata": {},
   "outputs": [],
   "source": []
  }
 ],
 "metadata": {
  "kernelspec": {
   "display_name": "Python 3 (ipykernel)",
   "language": "python",
   "name": "python3"
  },
  "language_info": {
   "codemirror_mode": {
    "name": "ipython",
    "version": 3
   },
   "file_extension": ".py",
   "mimetype": "text/x-python",
   "name": "python",
   "nbconvert_exporter": "python",
   "pygments_lexer": "ipython3",
   "version": "3.9.7"
  }
 },
 "nbformat": 4,
 "nbformat_minor": 5
}
