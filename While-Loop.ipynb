{
 "cells": [
  {
   "cell_type": "markdown",
   "id": "fcfb7829",
   "metadata": {},
   "source": [
    "## While loops"
   ]
  },
  {
   "cell_type": "code",
   "execution_count": 1,
   "id": "4142f376",
   "metadata": {},
   "outputs": [
    {
     "name": "stdout",
     "output_type": "stream",
     "text": [
      "1\n",
      "2.25\n",
      "4.0\n",
      "6.25\n",
      "9.0\n",
      "12.25\n",
      "16.0\n",
      "20.25\n",
      "25.0\n",
      "done\n"
     ]
    }
   ],
   "source": [
    "num = 1\n",
    "while num <=5:\n",
    "    print(num*num)\n",
    "    num+=.5\n",
    "print(\"done\")"
   ]
  },
  {
   "cell_type": "code",
   "execution_count": 2,
   "id": "ecb2cdc4",
   "metadata": {},
   "outputs": [],
   "source": [
    "msg=''\n",
    "# while msg != 'n':\n",
    "#     msg=input('What do you say?')\n",
    "#     if msg != 'q':\n",
    "#         print(f'You said \"{msg}\"!')"
   ]
  },
  {
   "cell_type": "markdown",
   "id": "825b4df2",
   "metadata": {},
   "source": [
    "## Use break to exit loop(for,while)"
   ]
  },
  {
   "cell_type": "code",
   "execution_count": 3,
   "id": "2a966daa",
   "metadata": {},
   "outputs": [],
   "source": [
    "# while True:\n",
    "#     x = input('Please enter a number. \\n')\n",
    "#     if x == 'a number':\n",
    "#         print('Thank you.')\n",
    "#         break\n",
    "#     else:\n",
    "#         print(f'{x} is not a number.')\n",
    "# print('Bye')"
   ]
  },
  {
   "cell_type": "code",
   "execution_count": 4,
   "id": "cd861520",
   "metadata": {},
   "outputs": [
    {
     "name": "stdout",
     "output_type": "stream",
     "text": [
      "1\n",
      "3\n",
      "5\n",
      "7\n",
      "9\n"
     ]
    }
   ],
   "source": [
    "num = 0\n",
    "while num < 10:\n",
    "    num +=1\n",
    "    if num%2 == 0:\n",
    "        continue\n",
    "    print(num)"
   ]
  },
  {
   "cell_type": "markdown",
   "id": "b56a12c9",
   "metadata": {},
   "source": [
    "### Use while loop to go through lists"
   ]
  },
  {
   "cell_type": "code",
   "execution_count": 6,
   "id": "f8c04bb2",
   "metadata": {},
   "outputs": [
    {
     "name": "stdout",
     "output_type": "stream",
     "text": [
      "Even: [2, 44, 8, 10, 2, 44, 8, 10]\n",
      "Odd: [7, 3, 7, 5, 7, 3, 7, 5]\n"
     ]
    }
   ],
   "source": [
    "numbers = [10,5,7,8,44,3,2,7,10,5,7,8,44,3,2,7]\n",
    "even_nums=[]\n",
    "odd_nums=[]\n",
    "while numbers:\n",
    "    num = numbers.pop()\n",
    "    if num%2 == 0:\n",
    "        even_nums.append(num)\n",
    "    else:\n",
    "        odd_nums.append(num)\n",
    "print('Even:', even_nums)\n",
    "print('Odd:',odd_nums)"
   ]
  },
  {
   "cell_type": "code",
   "execution_count": 7,
   "id": "de084030",
   "metadata": {},
   "outputs": [
    {
     "name": "stdout",
     "output_type": "stream",
     "text": [
      "What is your name?\n",
      "john\n",
      "Which course will you take?\n",
      "history\n",
      "New polling (yes/no)yes\n",
      "What is your name?\n",
      "will\n",
      "Which course will you take?\n",
      "math\n",
      "New polling (yes/no)no\n",
      "john plans to take history.\n",
      "will plans to take math.\n"
     ]
    }
   ],
   "source": [
    "# Survey which course people plan to take\n",
    "\n",
    "responses={}\n",
    "while True:\n",
    "    name = input('What is your name?\\n')\n",
    "    course = input('Which course will you take?\\n')\n",
    "    responses[name]=course\n",
    "    new_polling=input('New polling (yes/no)')\n",
    "    if new_polling == 'no':\n",
    "        break\n",
    "for name, course in responses.items():\n",
    "    print(f'{name} plans to take {course}.')\n",
    "    "
   ]
  },
  {
   "cell_type": "code",
   "execution_count": 13,
   "id": "33b5fcc7",
   "metadata": {},
   "outputs": [
    {
     "name": "stdout",
     "output_type": "stream",
     "text": [
      "What is your name?\n",
      "Eli\n",
      "What is your first course?\n",
      "Math\n",
      "What is your second course?\n",
      "English\n",
      "New student? (yes/no)yes\n",
      "What is your name?\n",
      "Mike\n",
      "What is your first course?\n",
      "Biology\n",
      "What is your second course?\n",
      "Chemistry\n",
      "New student? (yes/no)no\n",
      "\n",
      " Eli \n",
      "    Biology \n",
      " \n",
      "    Chemistry\n",
      "\n",
      "\n",
      " Mike \n",
      "    Biology \n",
      " \n",
      "    Chemistry\n",
      "\n"
     ]
    }
   ],
   "source": [
    "\n",
    "responses={}\n",
    "while True:\n",
    "    name = input('What is your name?\\n')\n",
    "    course1 = input('What is your first course?\\n')\n",
    "    responses[name]=course1\n",
    "    #next_course=input('Any Additional Courses? (yes/no)')\n",
    "    course2 = input('What is your second course?\\n')\n",
    "    responses[name]=course2\n",
    "    new_polling=input('New student? (yes/no)')\n",
    "    if new_polling == 'no':\n",
    "        break\n",
    "for name, course in responses.items():\n",
    "    print(f'\\n {name} \\n    {course1} \\n \\n    {course2}\\n')"
   ]
  },
  {
   "cell_type": "code",
   "execution_count": null,
   "id": "a61c1d83",
   "metadata": {},
   "outputs": [],
   "source": []
  },
  {
   "cell_type": "code",
   "execution_count": 4,
   "id": "92d50fc1",
   "metadata": {},
   "outputs": [
    {
     "name": "stdout",
     "output_type": "stream",
     "text": [
      "How many prime numbers do you want?\n",
      "100\n",
      "How many prime numbers to print in each line?\n",
      "10\n",
      "The first 100 prime numbers are:\n",
      "\n",
      "      2      3      5      7     11     13     17     19     23     29\n",
      "     31     37     41     43     47     53     59     61     67     71\n",
      "     73     79     83     89     97    101    103    107    109    113\n",
      "    127    131    137    139    149    151    157    163    167    173\n",
      "    179    181    191    193    197    199    211    223    227    229\n",
      "    233    239    241    251    257    263    269    271    277    281\n",
      "    283    293    307    311    313    317    331    337    347    349\n",
      "    353    359    367    373    379    383    389    397    401    409\n",
      "    419    421    431    433    439    443    449    457    461    463\n",
      "    467    479    487    491    499    503    509    521    523    541\n"
     ]
    }
   ],
   "source": [
    "# find prime numbers\n",
    "import math\n",
    "\n",
    "max_count= int(input('How many prime numbers do you want?\\n'))\n",
    "line_count=int(input('How many prime numbers to print in each line?\\n'))\n",
    "\n",
    "primes = [2]\n",
    "count=len(primes)\n",
    "candidate=primes[-1]+1\n",
    "while count < max_count:\n",
    "    limit = math.sqrt(candidate) + 0.1\n",
    "    is_prime = True\n",
    "    for divisor in primes:\n",
    "        if divisor > limit:\n",
    "            break\n",
    "        if candidate%divisor == 0:\n",
    "            is_prime = False\n",
    "            break\n",
    "    if is_prime:\n",
    "        primes.append(candidate)\n",
    "        count += 1\n",
    "    candidate += 1\n",
    "\n",
    "n = len(str(primes[-1])) + 4\n",
    "print(f'The first {max_count} prime numbers are:\\n')\n",
    "i = 0\n",
    "for prime in primes:\n",
    "    print(str(prime).rjust(n), end='')\n",
    "    i += 1\n",
    "    if i==line_count:\n",
    "        print('')\n",
    "        i=0\n",
    "        "
   ]
  },
  {
   "cell_type": "code",
   "execution_count": null,
   "id": "b0c4c35e",
   "metadata": {},
   "outputs": [],
   "source": []
  }
 ],
 "metadata": {
  "kernelspec": {
   "display_name": "Python 3",
   "language": "python",
   "name": "python3"
  },
  "language_info": {
   "codemirror_mode": {
    "name": "ipython",
    "version": 3
   },
   "file_extension": ".py",
   "mimetype": "text/x-python",
   "name": "python",
   "nbconvert_exporter": "python",
   "pygments_lexer": "ipython3",
   "version": "3.8.8"
  }
 },
 "nbformat": 4,
 "nbformat_minor": 5
}
