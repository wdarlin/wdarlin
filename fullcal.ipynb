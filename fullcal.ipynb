{
 "cells": [
  {
   "cell_type": "markdown",
   "id": "616c8468",
   "metadata": {},
   "source": [
    "# program building blocks\n",
    "* functions\n",
    "* classes\n",
    "* modules"
   ]
  },
  {
   "cell_type": "markdown",
   "id": "2eeba4f9",
   "metadata": {},
   "source": [
    "# functions"
   ]
  },
  {
   "cell_type": "code",
   "execution_count": 1,
   "id": "f9d0028e",
   "metadata": {},
   "outputs": [
    {
     "name": "stdout",
     "output_type": "stream",
     "text": [
      "Hello.\n",
      "How are you?\n",
      "Hello.\n",
      "How are you?\n",
      "Hello.\n",
      "How are you?\n"
     ]
    }
   ],
   "source": [
    "def greet():\n",
    "    print('Hello.')\n",
    "    print('How are you?')\n",
    "    \n",
    "greet()\n",
    "greet()\n",
    "greet()"
   ]
  },
  {
   "cell_type": "markdown",
   "id": "6e4cc720",
   "metadata": {},
   "source": [
    "# pass info to function"
   ]
  },
  {
   "cell_type": "code",
   "execution_count": 2,
   "id": "661784c3",
   "metadata": {},
   "outputs": [
    {
     "name": "stdout",
     "output_type": "stream",
     "text": [
      "Hello, David!\n",
      "Hello, Jesse!\n"
     ]
    }
   ],
   "source": [
    "def greet_user(username):\n",
    "    print(f'Hello, {username.title()}!')\n",
    "    \n",
    "greet_user('david')\n",
    "greet_user('jesse')"
   ]
  },
  {
   "cell_type": "markdown",
   "id": "a2f3270e",
   "metadata": {},
   "source": [
    "# pass by position"
   ]
  },
  {
   "cell_type": "code",
   "execution_count": 3,
   "id": "b4c59aec",
   "metadata": {},
   "outputs": [
    {
     "name": "stdout",
     "output_type": "stream",
     "text": [
      "David buy 2 of books.\n",
      "Mike buy 4 of pictures.\n"
     ]
    }
   ],
   "source": [
    "def statement(name, number, product):\n",
    "    print(f'{name} buy {number} of {product}.')\n",
    "    \n",
    "statement('David', 2, 'books')\n",
    "statement('Mike', 4, 'pictures')"
   ]
  },
  {
   "cell_type": "markdown",
   "id": "11ff694c",
   "metadata": {},
   "source": [
    "# pass keyword arguments"
   ]
  },
  {
   "cell_type": "code",
   "execution_count": 4,
   "id": "4091cf9b",
   "metadata": {},
   "outputs": [
    {
     "name": "stdout",
     "output_type": "stream",
     "text": [
      "David buy 100 of books.\n",
      "Mike buy 25 of pictures.\n"
     ]
    }
   ],
   "source": [
    "def statement(name, number, product):\n",
    "    print(f'{name} buy {number} of {product}.')\n",
    "    \n",
    "statement(product='books', number=100, name='David')\n",
    "statement('Mike', product='pictures', number=25)"
   ]
  },
  {
   "cell_type": "markdown",
   "id": "d4344af0",
   "metadata": {},
   "source": [
    "# default values"
   ]
  },
  {
   "cell_type": "code",
   "execution_count": 5,
   "id": "fc1a2f20",
   "metadata": {},
   "outputs": [
    {
     "name": "stdout",
     "output_type": "stream",
     "text": [
      "David sales 200 of books.\n",
      "Mike sales 50 of pictures.\n"
     ]
    }
   ],
   "source": [
    "def statement(name, number, product='books'):\n",
    "    print(f'{name} sales {number} of {product}.')\n",
    "    \n",
    "statement('David', 200)\n",
    "statement('Mike', 50, 'pictures')"
   ]
  },
  {
   "cell_type": "markdown",
   "id": "ffa3965f",
   "metadata": {},
   "source": [
    "# return values"
   ]
  },
  {
   "cell_type": "code",
   "execution_count": 6,
   "id": "fa2735ff",
   "metadata": {},
   "outputs": [
    {
     "name": "stdout",
     "output_type": "stream",
     "text": [
      "p = 4132.058 Pa.\n"
     ]
    }
   ],
   "source": [
    "def pressure(n, T, V):  # mole, K, m^3\n",
    "    R = 8.314  # J/mol/K\n",
    "    p = n*R*T/V   # Pa\n",
    "    return p\n",
    "\n",
    "n = 2\n",
    "T = 298.2\n",
    "V = 1.2\n",
    "p = pressure(n, T, V)\n",
    "print(f'p = {p} Pa.')"
   ]
  },
  {
   "cell_type": "code",
   "execution_count": 7,
   "id": "030c5171",
   "metadata": {},
   "outputs": [
    {
     "name": "stdout",
     "output_type": "stream",
     "text": [
      "n1, n2 = 200,400\n",
      "GCD of 200 and 400 is 200.\n"
     ]
    }
   ],
   "source": [
    "# GCD, greatest common divisor\n",
    "def gcd(n1, n2):\n",
    "    while True:\n",
    "        n1, n2 = n2, n1%n2\n",
    "        if n2==0: return n1\n",
    "        \n",
    "n1, n2 = eval(input('n1, n2 = '))\n",
    "the_gcd = gcd(n1, n2)\n",
    "print(f'GCD of {n1} and {n2} is {the_gcd}.')"
   ]
  },
  {
   "cell_type": "markdown",
   "id": "1ee4f80d",
   "metadata": {},
   "source": [
    "# return dictionary"
   ]
  },
  {
   "cell_type": "code",
   "execution_count": 8,
   "id": "e4d6a7f1",
   "metadata": {},
   "outputs": [
    {
     "name": "stdout",
     "output_type": "stream",
     "text": [
      "{'first': 'david', 'last': 'day', 'address': '123 Bay St'}\n",
      "{'first': 'mike', 'last': 'tomm'}\n"
     ]
    }
   ],
   "source": [
    "def person_info(first_name, last_name, address=None):\n",
    "    person = {}\n",
    "    person['first'] = first_name\n",
    "    person['last'] = last_name\n",
    "    if address:\n",
    "        person['address'] = address\n",
    "    return person\n",
    "\n",
    "user1 = person_info('david', 'day', '123 Bay St')\n",
    "print(user1)\n",
    "\n",
    "user2 = person_info('mike', 'tomm')\n",
    "print(user2)"
   ]
  },
  {
   "cell_type": "markdown",
   "id": "ce3d9db1",
   "metadata": {},
   "source": [
    "# return a list of tuples, and pass function as parameter"
   ]
  },
  {
   "cell_type": "code",
   "execution_count": 9,
   "id": "f36c248c",
   "metadata": {},
   "outputs": [
    {
     "name": "stdout",
     "output_type": "stream",
     "text": [
      "[(-5, 20), (-4.5, 15.75), (-4.0, 12.0), (-3.5, 8.75), (-3.0, 6.0), (-2.5, 3.75), (-2.0, 2.0), (-1.5, 0.75), (-1.0, 0.0), (-0.5, -0.25), (0.0, 0.0), (0.5, 0.75), (1.0, 2.0), (1.5, 3.75), (2.0, 6.0), (2.5, 8.75), (3.0, 12.0), (3.5, 15.75), (4.0, 20.0), (4.5, 24.75), (5.0, 30.0)]\n"
     ]
    }
   ],
   "source": [
    "def fun(x):\n",
    "    return x * x + x\n",
    "\n",
    "def curve_data(f, x1, x2, s):\n",
    "    points = []\n",
    "    x = x1\n",
    "    while x <= x2:\n",
    "        y = f(x)\n",
    "        points.append((x,y))\n",
    "        x += s\n",
    "    return points\n",
    "\n",
    "pts = curve_data(fun, -5, 5, 0.5)\n",
    "print(pts)"
   ]
  },
  {
   "cell_type": "markdown",
   "id": "2262624b",
   "metadata": {},
   "source": [
    "# effect of passing list:\n",
    "* if function modifies the list\n",
    "* the original list will also be modified\n",
    "* same for dictionaries"
   ]
  },
  {
   "cell_type": "code",
   "execution_count": 10,
   "id": "70def82a",
   "metadata": {},
   "outputs": [
    {
     "name": "stdout",
     "output_type": "stream",
     "text": [
      "[1, 2, 3, 4]\n",
      "[1, 2, 3, 4]\n"
     ]
    }
   ],
   "source": [
    "def play(number_list):\n",
    "    number_list.append(4)\n",
    "    print(number_list)\n",
    "    \n",
    "numbers = [1, 2, 3]\n",
    "play(numbers)\n",
    "print(numbers)"
   ]
  },
  {
   "cell_type": "markdown",
   "id": "a29fdce6",
   "metadata": {},
   "source": [
    "# if function will modify a list, better pass a copy\n",
    "# same for dictionaries"
   ]
  },
  {
   "cell_type": "code",
   "execution_count": 11,
   "id": "a7921b04",
   "metadata": {},
   "outputs": [
    {
     "name": "stdout",
     "output_type": "stream",
     "text": [
      "[1, 2, 3, 'done']\n",
      "[1, 2, 3]\n"
     ]
    }
   ],
   "source": [
    "def play(number_list):\n",
    "    number_list.append('done')\n",
    "    print(number_list)\n",
    "    \n",
    "numbers = [1, 2, 3]\n",
    "play(numbers.copy())  # or: play(numbers[:])\n",
    "print(numbers)"
   ]
  },
  {
   "cell_type": "markdown",
   "id": "9c366f48",
   "metadata": {},
   "source": [
    "# project:\n",
    "print calendar of a particular month of a particular year"
   ]
  },
  {
   "cell_type": "markdown",
   "id": "39a60314",
   "metadata": {},
   "source": [
    "# info needed:\n",
    "* number of days in the month\n",
    "* weekday of first day in the month"
   ]
  },
  {
   "cell_type": "markdown",
   "id": "ab922479",
   "metadata": {},
   "source": [
    "# take \"Jan 1, 2022 is Saturday\" as reference"
   ]
  },
  {
   "cell_type": "code",
   "execution_count": null,
   "id": "3c29bcb6",
   "metadata": {},
   "outputs": [],
   "source": []
  },
  {
   "cell_type": "code",
   "execution_count": null,
   "id": "7855e56e",
   "metadata": {},
   "outputs": [],
   "source": [
    "# print calendar of (year, month)\n",
    "\n",
    "def isLeapYear(year):\n",
    "    return year%400==0 or (year%4==0 and year%100!=0)\n",
    "\n",
    "def init_year(year):\n",
    "    # months = [month0, month1, ..., month11]\n",
    "    # month = [days, start_weekday]\n",
    "    if isLeapYear(year):\n",
    "        months = [[31,0],[29,0],[31,0],[30,0],[31,0],[30,0],\n",
    "                  [31,0],[31,0],[30,0],[31,0],[30,0],[31,0]]\n",
    "    else:\n",
    "        months = [[31,0],[28,0],[31,0],[30,0],[31,0],[30,0],\n",
    "                  [31,0],[31,0],[30,0],[31,0],[30,0],[31,0]]\n",
    "    return months\n",
    "\n",
    "def set_lastmonth_start_weekday(thismonth, lastmonth):\n",
    "    lastmonth[1] = (thismonth[1]-lastmonth[0])%7\n",
    "    # take advantage of modifying list in place\n",
    "    \n",
    "def set_nextmonth_start_weekday(thismonth, nextmonth):\n",
    "    nextmonth[1] = (thismonth[1]+thismonth[0])%7\n",
    "    \n",
    "calendar = {} # {year:months, ...}\n",
    "calendar[2022] = init_year(2022)\n",
    "calendar[2022][0][1] = 6 # reference day: Jan 1, 2022 is Sat\n",
    "for i in range(11):\n",
    "    set_nextmonth_start_weekday(calendar[2022][i], calendar[2022][i+1])\n",
    "#print(calendar)\n",
    "\n",
    "def add_year_after_2022(year):\n",
    "    # make sure calendar[year-1] already available\n",
    "    if year in calendar: return\n",
    "    calendar[year] = init_year(year)\n",
    "    set_nextmonth_start_weekday(calendar[year-1][-1], calendar[year][0])\n",
    "    for i in range(11):\n",
    "        set_nextmonth_start_weekday(calendar[year][i], calendar[year][i+1])\n",
    "        \n",
    "def add_year_before_2022(year):\n",
    "    # make sure calendar[year+1] already available\n",
    "    if year in calendar:return\n",
    "    calendar[year] = init_year(year)\n",
    "    set_lastmonth_start_weekday(calendar[year+1][0], calendar[year][-1])\n",
    "    for i in range(10, -1, -1):\n",
    "        set_lastmonth_start_weekday(calendar[year][i+1], calendar[year][i])\n",
    "    \n",
    "        "
   ]
  },
  {
   "cell_type": "code",
   "execution_count": 1,
   "id": "545976ec",
   "metadata": {},
   "outputs": [
    {
     "ename": "ModuleNotFoundError",
     "evalue": "No module named 'reportlab'",
     "output_type": "error",
     "traceback": [
      "\u001b[1;31m---------------------------------------------------------------------------\u001b[0m",
      "\u001b[1;31mModuleNotFoundError\u001b[0m                       Traceback (most recent call last)",
      "\u001b[1;32mC:\\Users\\VALUED~1\\AppData\\Local\\Temp/ipykernel_10796/2781874616.py\u001b[0m in \u001b[0;36m<module>\u001b[1;34m\u001b[0m\n\u001b[0;32m    100\u001b[0m \u001b[1;33m\u001b[0m\u001b[0m\n\u001b[0;32m    101\u001b[0m \u001b[1;32mif\u001b[0m \u001b[0m__name__\u001b[0m \u001b[1;33m==\u001b[0m \u001b[1;34m'__main__'\u001b[0m\u001b[1;33m:\u001b[0m\u001b[1;33m\u001b[0m\u001b[1;33m\u001b[0m\u001b[0m\n\u001b[1;32m--> 102\u001b[1;33m     \u001b[0mmain\u001b[0m\u001b[1;33m(\u001b[0m\u001b[1;33m)\u001b[0m\u001b[1;33m\u001b[0m\u001b[1;33m\u001b[0m\u001b[0m\n\u001b[0m\u001b[0;32m    103\u001b[0m \u001b[1;33m\u001b[0m\u001b[0m\n",
      "\u001b[1;32mC:\\Users\\VALUED~1\\AppData\\Local\\Temp/ipykernel_10796/2781874616.py\u001b[0m in \u001b[0;36mmain\u001b[1;34m()\u001b[0m\n\u001b[0;32m     91\u001b[0m \u001b[1;33m\u001b[0m\u001b[0m\n\u001b[0;32m     92\u001b[0m \u001b[1;32mdef\u001b[0m \u001b[0mmain\u001b[0m\u001b[1;33m(\u001b[0m\u001b[1;33m)\u001b[0m\u001b[1;33m:\u001b[0m\u001b[1;33m\u001b[0m\u001b[1;33m\u001b[0m\u001b[0m\n\u001b[1;32m---> 93\u001b[1;33m     \u001b[1;32mfrom\u001b[0m \u001b[0mreportlab\u001b[0m\u001b[1;33m.\u001b[0m\u001b[0mpdfgen\u001b[0m \u001b[1;32mimport\u001b[0m \u001b[0mcanvas\u001b[0m\u001b[1;33m\u001b[0m\u001b[1;33m\u001b[0m\u001b[0m\n\u001b[0m\u001b[0;32m     94\u001b[0m     \u001b[0myear\u001b[0m \u001b[1;33m=\u001b[0m \u001b[0mint\u001b[0m\u001b[1;33m(\u001b[0m\u001b[0minput\u001b[0m\u001b[1;33m(\u001b[0m\u001b[1;34m'year = '\u001b[0m\u001b[1;33m)\u001b[0m\u001b[1;33m)\u001b[0m\u001b[1;33m\u001b[0m\u001b[1;33m\u001b[0m\u001b[0m\n\u001b[0;32m     95\u001b[0m     \u001b[0mc\u001b[0m \u001b[1;33m=\u001b[0m \u001b[0mcanvas\u001b[0m\u001b[1;33m.\u001b[0m\u001b[0mCanvas\u001b[0m\u001b[1;33m(\u001b[0m\u001b[1;34mf'calendar{year}.pdf'\u001b[0m\u001b[1;33m,\u001b[0m \u001b[0mpagesize\u001b[0m\u001b[1;33m=\u001b[0m\u001b[1;33m(\u001b[0m\u001b[1;36m612\u001b[0m\u001b[1;33m,\u001b[0m \u001b[1;36m792\u001b[0m\u001b[1;33m)\u001b[0m\u001b[1;33m)\u001b[0m\u001b[1;33m\u001b[0m\u001b[1;33m\u001b[0m\u001b[0m\n",
      "\u001b[1;31mModuleNotFoundError\u001b[0m: No module named 'reportlab'"
     ]
    }
   ],
   "source": [
    "# generate pdf file of monthly calendar of a particular year\n",
    "\n",
    "def isLeapYear(year):\n",
    "    return year%400==0 or (year%4==0 and year%100!=0)\n",
    "\n",
    "def init_year(year):\n",
    "    # months = [month0, month1, ..., month11]\n",
    "    # month = [days, start_weekday]\n",
    "    if isLeapYear(year):\n",
    "        months = [[31,0],[29,0],[31,0],[30,0],[31,0],[30,0],\n",
    "                  [31,0],[31,0],[30,0],[31,0],[30,0],[31,0]]\n",
    "    else:\n",
    "        months = [[31,0],[28,0],[31,0],[30,0],[31,0],[30,0],\n",
    "                  [31,0],[31,0],[30,0],[31,0],[30,0],[31,0]]\n",
    "    return months\n",
    "\n",
    "def set_lastmonth_start_weekday(thismonth, lastmonth):\n",
    "    lastmonth[1] = (thismonth[1]-lastmonth[0])%7\n",
    "    # take advantage of modifying list in place\n",
    "    \n",
    "def set_nextmonth_start_weekday(thismonth, nextmonth):\n",
    "    nextmonth[1] = (thismonth[1]+thismonth[0])%7\n",
    "    \n",
    "calendar = {} # {year:months, ...}\n",
    "calendar[2022] = init_year(2022)\n",
    "calendar[2022][0][1] = 6 # reference day: Jan 1, 2022 is Sat\n",
    "for i in range(11):\n",
    "    set_nextmonth_start_weekday(calendar[2022][i], calendar[2022][i+1])\n",
    "#print(calendar)\n",
    "\n",
    "def add_year_after_2022(year):\n",
    "    # make sure calendar[year-1] already available\n",
    "    if year in calendar: return\n",
    "    calendar[year] = init_year(year)\n",
    "    set_nextmonth_start_weekday(calendar[year-1][-1], calendar[year][0])\n",
    "    for i in range(11):\n",
    "        set_nextmonth_start_weekday(calendar[year][i], calendar[year][i+1])\n",
    "        \n",
    "def add_year_before_2022(year):\n",
    "    # make sure calendar[year+1] already available\n",
    "    if year in calendar:return\n",
    "    calendar[year] = init_year(year)\n",
    "    set_lastmonth_start_weekday(calendar[year+1][0], calendar[year][-1])\n",
    "    for i in range(10, -1, -1):\n",
    "        set_lastmonth_start_weekday(calendar[year][i+1], calendar[year][i])\n",
    "    \n",
    "def add_year(year):\n",
    "    if year == 2022:\n",
    "        pass\n",
    "    elif year < 2022:\n",
    "        for y in range(2021, year-1, -1):\n",
    "            add_year_before_2022(y)\n",
    "    else:\n",
    "        for y in range(2023, year+1):\n",
    "            add_year_after_2022(y)\n",
    "            \n",
    "def print_month(canvas, year, month):\n",
    "    add_year(year)\n",
    "    days, start_weekday = calendar[year][month-1]\n",
    "    month_name = ['January', 'Feburary', 'March', 'April', 'May', 'June',\n",
    "                 'July', 'August', 'September', 'October', 'November',\n",
    "                 'December'][month-1]\n",
    "    title = f'{month_name} {year}'\n",
    "    c = canvas\n",
    "    c.rotate(-90)\n",
    "    c.translate(-792, 0)\n",
    "    c.setFont('Times-Roman', 20)\n",
    "    c.drawCentredString(396, 570, title)\n",
    "    title_width = c.stringWidth(title, 'Times-Roman', 20)\n",
    "    c.setStrokeColorRGB(0.5, 0.5, 0.5)\n",
    "    c.roundRect(396-title_width/2-10, 570-20, title_width+20, 50, 10)\n",
    "    xmin, xmax, ymin, ymax = 40, 760, 30, 500\n",
    "    n_rows = (days+start_weekday)//7 + ((days+start_weekday)%7!=0)\n",
    "    n_cols = 7\n",
    "    dx, dy = (xmax-xmin)/n_cols, (ymax-ymin)/n_rows\n",
    "    x0, y0 = xmin+5, ymax-dy+5\n",
    "    x, y = x0, y0 + dy\n",
    "    for wkd in ['Su', 'Mo', 'Tu', 'We', 'Th', 'Fr', 'Sa']:\n",
    "        c.drawString(x, y, wkd)\n",
    "        x, y = x+dx, y\n",
    "    x, y = x0+start_weekday*dx, y0\n",
    "    wkd = start_weekday\n",
    "    for d in range(1, days+1):\n",
    "        c.drawString(x, y, str(d))\n",
    "        c.roundRect(x-5, y-5, dx-5, dy-5, 5)\n",
    "        wkd += 1\n",
    "        if wkd%7 == 0:\n",
    "            x, y = x0, y-dy\n",
    "        else:\n",
    "            x, y = x+dx, y\n",
    "            \n",
    "def main():\n",
    "    from reportlab.pdfgen import canvas\n",
    "    year = int(input('year = '))\n",
    "    c = canvas.Canvas(f'calendar{year}.pdf', pagesize=(612, 792))\n",
    "    for month in range(1, 13):\n",
    "        print_month(c, year, month)\n",
    "        c.showPage()\n",
    "    c.save()\n",
    "    \n",
    "if __name__ == '__main__':\n",
    "    main()\n",
    "    "
   ]
  },
  {
   "cell_type": "markdown",
   "id": "059e87aa",
   "metadata": {},
   "source": [
    "### Passing an arbitray number of arguments"
   ]
  },
  {
   "cell_type": "code",
   "execution_count": 2,
   "id": "669977cf",
   "metadata": {},
   "outputs": [
    {
     "name": "stdout",
     "output_type": "stream",
     "text": [
      "3\n",
      "10\n",
      "0\n"
     ]
    }
   ],
   "source": [
    "def total(*values):\n",
    "    t=0\n",
    "    for value in values:\n",
    "        t+=value\n",
    "    return t\n",
    "print(total(1,2))\n",
    "print(total(1,2,3,4))\n",
    "print(total())"
   ]
  },
  {
   "cell_type": "markdown",
   "id": "eb9424de",
   "metadata": {},
   "source": [
    "### Mix positional and arbirary argument"
   ]
  },
  {
   "cell_type": "code",
   "execution_count": 5,
   "id": "ce726bfd",
   "metadata": {},
   "outputs": [
    {
     "name": "stdout",
     "output_type": "stream",
     "text": [
      "________________________________________\n",
      "News Reading club:\n",
      "\tDavid\n",
      "\tMike\n",
      "\tJack\n",
      "\n",
      "\n",
      "________________________________________\n",
      "Bio club:\n",
      "\tXus\n",
      "\tMuhg\n",
      "\n",
      "\n"
     ]
    }
   ],
   "source": [
    "def print_club(club_name, *members):\n",
    "    print('_'*40)\n",
    "    print(f'{club_name} club:')\n",
    "    for member in members:\n",
    "        print(f'\\t{member}')\n",
    "    print('\\n')\n",
    "\n",
    "print_club('News Reading','David','Mike','Jack')\n",
    "print_club('Bio','Xus','Muhg')"
   ]
  },
  {
   "cell_type": "markdown",
   "id": "712483bf",
   "metadata": {},
   "source": [
    "### Arbitrary number of keyword arguments"
   ]
  },
  {
   "cell_type": "code",
   "execution_count": 7,
   "id": "a7e5b22e",
   "metadata": {},
   "outputs": [
    {
     "name": "stdout",
     "output_type": "stream",
     "text": [
      "{'first': 'David', 'last': 'Tomm', 'age': 17, 'interest': 'drawing'}\n"
     ]
    }
   ],
   "source": [
    "def user_info(first, last,**more_info): \n",
    "    #more_info acts like a dictionary\n",
    "    user={}\n",
    "    user['first']=first\n",
    "    user['last']=last\n",
    "    for k,v in more_info.items():\n",
    "        user[k]=v\n",
    "    return user\n",
    "\n",
    "user1=user_info('David','Tomm', age=17, interest='drawing')\n",
    "print(user1)"
   ]
  },
  {
   "cell_type": "markdown",
   "id": "f6f3360f",
   "metadata": {},
   "source": [
    "### Lambda function -define function on the fly"
   ]
  },
  {
   "cell_type": "code",
   "execution_count": 8,
   "id": "001cc0ca",
   "metadata": {},
   "outputs": [
    {
     "name": "stdout",
     "output_type": "stream",
     "text": [
      "[(-2, 5.4), (-1.6, 4.128), (-1.2000000000000002, 3.2720000000000002), (-0.8000000000000002, 2.8320000000000003), (-0.40000000000000013, 2.8080000000000003), (-1.1102230246251565e-16, 3.2), (0.3999999999999999, 4.008), (0.7999999999999999, 5.232), (1.2, 6.872), (1.6, 8.928), (2.0, 11.399999999999999)]\n"
     ]
    }
   ],
   "source": [
    "#normal definition \n",
    "def f(x,a,b,c):\n",
    "    return a*x*x+b*x+c\n",
    "a,b,c=1.3,1.5,3.2\n",
    "pts=[]\n",
    "x=-2; s=0.4\n",
    "while x<2.05:\n",
    "    y=f(x,a,b,c)\n",
    "    pts.append((x,y))\n",
    "    x+=s\n",
    "print(pts)"
   ]
  },
  {
   "cell_type": "code",
   "execution_count": 11,
   "id": "d730a756",
   "metadata": {},
   "outputs": [
    {
     "name": "stdout",
     "output_type": "stream",
     "text": [
      "[(-2, 5.4), (-1.6, 4.128), (-1.2000000000000002, 3.2720000000000002), (-0.8000000000000002, 2.8320000000000003), (-0.40000000000000013, 2.8080000000000003), (-1.1102230246251565e-16, 3.2), (0.3999999999999999, 4.008), (0.7999999999999999, 5.232), (1.2, 6.872), (1.6, 8.928), (2.0, 11.399999999999999)]\n"
     ]
    }
   ],
   "source": [
    "# Using lambda function\n",
    "\n",
    "a,b,c=1.3,1.5,3.2\n",
    "f = lambda x:a*x*x+b*x+c\n",
    "pts=[]\n",
    "x=-2; s=0.4\n",
    "while x<2.05:\n",
    "    y=f(x)\n",
    "    pts.append((x,y))\n",
    "    x+=s\n",
    "print(pts)"
   ]
  },
  {
   "cell_type": "markdown",
   "id": "01e0d9a4",
   "metadata": {},
   "source": [
    "### Apply lambda function in sorting a list"
   ]
  },
  {
   "cell_type": "code",
   "execution_count": 17,
   "id": "6bf88250",
   "metadata": {},
   "outputs": [
    {
     "name": "stdout",
     "output_type": "stream",
     "text": [
      "[(4, 0), (8, 2), (2, 3), (5, 3), (8, 3), (7, 5), (5, 6), (5, 7), (2, 9)]\n",
      "y hits max when x = 2\n",
      "y hits min when x = 4\n"
     ]
    }
   ],
   "source": [
    "pts =[(5,6),(2,3),(4,0),(5,3),(7,5),(8,3),(8,2),(2,9),(5,7)]\n",
    "# we want to find x values corresponding to y(max) and y(min)\n",
    "\n",
    "def f(pt):\n",
    "    x,y=pt\n",
    "    return y\n",
    "\n",
    "pts.sort(key=f)\n",
    "print(pts)\n",
    "print(f'y hits max when x = {pts[-1][0]}')\n",
    "print(f'y hits min when x = {pts[0][0]}')"
   ]
  },
  {
   "cell_type": "code",
   "execution_count": 7,
   "id": "0c90a2f3",
   "metadata": {},
   "outputs": [
    {
     "name": "stdout",
     "output_type": "stream",
     "text": [
      "[(4, 0), (8, 2), (2, 3), (5, 3), (8, 3), (7, 5), (5, 6), (5, 7), (2, 9)]\n",
      "y hits max when x = 2\n",
      "y hits min when x = 4\n"
     ]
    }
   ],
   "source": [
    "pts =[(5,6),(2,3),(4,0),(5,3),(7,5),(8,3),(8,2),(2,9),(5,7)]\n",
    "# we want to find x values corresponding to y(max) and y(min)\n",
    "\n",
    "f = lambda pt:pt[1]\n",
    "\n",
    "pts.sort(key=f)\n",
    "print(pts)\n",
    "print(f'y hits max when x = {pts[-1][0]}')\n",
    "print(f'y hits min when x = {pts[0][0]}')"
   ]
  },
  {
   "cell_type": "code",
   "execution_count": 3,
   "id": "918599ba",
   "metadata": {},
   "outputs": [
    {
     "name": "stdout",
     "output_type": "stream",
     "text": [
      "[(4, 0), (8, 2), (2, 3), (5, 3), (8, 3), (7, 5), (5, 6), (5, 7), (2, 9)]\n",
      "y hits max when x = 2\n",
      "y hits min when x = 4\n"
     ]
    }
   ],
   "source": [
    "pts =[(5,6),(2,3),(4,0),(5,3),(7,5),(8,3),(8,2),(2,9),(5,7)]\n",
    "# we want to find x values corresponding to y(max) and y(min)\n",
    "\n",
    "pts.sort(key=lambda pt:pt[1])\n",
    "print(pts)\n",
    "print(f'y hits max when x = {pts[-1][0]}')\n",
    "print(f'y hits min when x = {pts[0][0]}')"
   ]
  },
  {
   "cell_type": "markdown",
   "id": "f8e0f755",
   "metadata": {},
   "source": [
    "### Handle tiebreaker in sorting:\n",
    "* Sort TieBreak first"
   ]
  },
  {
   "cell_type": "code",
   "execution_count": 10,
   "id": "e322c530",
   "metadata": {},
   "outputs": [
    {
     "name": "stdout",
     "output_type": "stream",
     "text": [
      "[('clover', 3), ('clover', 7), ('diamond', 10), ('diamond', 3), ('heart', 7), ('heart', 5), ('spade', 6), ('spade', 4)]\n"
     ]
    }
   ],
   "source": [
    "cards =[('spade',6),('clover',3),('heart',7),('diamond',10),\n",
    "        ('heart',5),('spade',4),('diamond',3),('clover',7)]\n",
    "#sort by suits, if tie sort by number\n",
    "cards.sort(key=lambda c:c[0])\n",
    "print(cards)\n",
    "#Only sorts based on first value, doesn't account for ties"
   ]
  },
  {
   "cell_type": "code",
   "execution_count": 11,
   "id": "571abade",
   "metadata": {},
   "outputs": [
    {
     "name": "stdout",
     "output_type": "stream",
     "text": [
      "[('clover', 3), ('diamond', 3), ('spade', 4), ('heart', 5), ('spade', 6), ('clover', 7), ('heart', 7), ('diamond', 10)]\n"
     ]
    }
   ],
   "source": [
    "cards =[('spade',6),('clover',3),('heart',7),('diamond',10),\n",
    "        ('heart',5),('spade',4),('diamond',3),('clover',7)]\n",
    "#sort by suits, if tie sort by number\n",
    "cards.sort(key=lambda c:c[0])\n",
    "cards.sort(key=lambda c:c[1])\n",
    "print(cards)\n",
    "#first sorts for first suit value and then second value but this messes up the suit orders"
   ]
  },
  {
   "cell_type": "code",
   "execution_count": 12,
   "id": "884f380d",
   "metadata": {},
   "outputs": [
    {
     "name": "stdout",
     "output_type": "stream",
     "text": [
      "[('clover', 3), ('clover', 7), ('diamond', 3), ('diamond', 10), ('heart', 5), ('heart', 7), ('spade', 4), ('spade', 6)]\n"
     ]
    }
   ],
   "source": [
    "cards =[('spade',6),('clover',3),('heart',7),('diamond',10),\n",
    "        ('heart',5),('spade',4),('diamond',3),('clover',7)]\n",
    "#sort by suits, if tie sort by number\n",
    "cards.sort(key=lambda c:c[1])\n",
    "cards.sort(key=lambda c:c[0])\n",
    "print(cards)\n",
    "#correct way to sort, do second value first and then by suit"
   ]
  },
  {
   "cell_type": "markdown",
   "id": "4b277863",
   "metadata": {},
   "source": [
    "### Global vs Local Variables"
   ]
  },
  {
   "cell_type": "markdown",
   "id": "4360d851",
   "metadata": {},
   "source": [
    "**Global variable cannot be changed inside of a function**"
   ]
  },
  {
   "cell_type": "code",
   "execution_count": 17,
   "id": "d2d45540",
   "metadata": {},
   "outputs": [
    {
     "name": "stdout",
     "output_type": "stream",
     "text": [
      "2\n",
      "1\n"
     ]
    }
   ],
   "source": [
    "a =1\n",
    "\n",
    "def change():\n",
    "    a = 2\n",
    "    #assigning a value to a in the function is just changing a local variable, not the global variable.\n",
    "    print(a)\n",
    "change()    \n",
    "print(a)"
   ]
  },
  {
   "cell_type": "markdown",
   "id": "41571af8",
   "metadata": {},
   "source": [
    "**Global variable can be referenced inside the function**"
   ]
  },
  {
   "cell_type": "code",
   "execution_count": 18,
   "id": "d1172ffc",
   "metadata": {},
   "outputs": [
    {
     "name": "stdout",
     "output_type": "stream",
     "text": [
      "1\n"
     ]
    }
   ],
   "source": [
    "x=1\n",
    "def refer():\n",
    "    y = x\n",
    "    print(y)\n",
    "refer()"
   ]
  },
  {
   "cell_type": "markdown",
   "id": "b3bad5c1",
   "metadata": {},
   "source": [
    "**If you need to change global variable inside function, you must declare it**"
   ]
  },
  {
   "cell_type": "code",
   "execution_count": 22,
   "id": "11fd3479",
   "metadata": {},
   "outputs": [
    {
     "name": "stdout",
     "output_type": "stream",
     "text": [
      "2\n",
      "2\n"
     ]
    }
   ],
   "source": [
    "n=1\n",
    "def change_global():\n",
    "    global n\n",
    "    n=2\n",
    "    print(n)\n",
    "change_global()\n",
    "print(n)"
   ]
  },
  {
   "cell_type": "markdown",
   "id": "1f476bd3",
   "metadata": {},
   "source": [
    "**Arguments are also local variables**"
   ]
  },
  {
   "cell_type": "code",
   "execution_count": 23,
   "id": "cee4b767",
   "metadata": {},
   "outputs": [
    {
     "name": "stdout",
     "output_type": "stream",
     "text": [
      "10\n",
      "15\n",
      "10\n"
     ]
    }
   ],
   "source": [
    "c=10\n",
    "def change_it(c):\n",
    "    print(c)\n",
    "    c=15\n",
    "    print(c)\n",
    "change_it(c)\n",
    "print(c)"
   ]
  },
  {
   "cell_type": "markdown",
   "id": "26b96d0f",
   "metadata": {},
   "source": [
    "**Avoid changing global variables inside functions altogether. Only reference them when needed.**"
   ]
  },
  {
   "cell_type": "code",
   "execution_count": null,
   "id": "3f579ee4",
   "metadata": {},
   "outputs": [],
   "source": []
  }
 ],
 "metadata": {
  "kernelspec": {
   "display_name": "Python 3 (ipykernel)",
   "language": "python",
   "name": "python3"
  },
  "language_info": {
   "codemirror_mode": {
    "name": "ipython",
    "version": 3
   },
   "file_extension": ".py",
   "mimetype": "text/x-python",
   "name": "python",
   "nbconvert_exporter": "python",
   "pygments_lexer": "ipython3",
   "version": "3.9.7"
  }
 },
 "nbformat": 4,
 "nbformat_minor": 5
}
