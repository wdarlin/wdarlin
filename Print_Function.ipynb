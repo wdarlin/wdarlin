{
 "cells": [
  {
   "cell_type": "markdown",
   "id": "bfb697c1",
   "metadata": {},
   "source": [
    "## Jupyter Notebook\n",
    "### Markdown\n",
    "*Markdown* is for **documentation** purpose. \n",
    "#### Examples of equations\n",
    "$x_1+x_2=1$\n",
    "\n",
    "$x^2+y^2=r^2$\n",
    "\n",
    "$\\alpha=\\frac{\\pi}{2}$\n",
    "\n",
    "$\\beta=60^{\\circ}$\n",
    "Google Markdown and equation for jupyter notebook to learn more."
   ]
  },
  {
   "cell_type": "code",
   "execution_count": 1,
   "id": "b45294df",
   "metadata": {},
   "outputs": [
    {
     "name": "stdout",
     "output_type": "stream",
     "text": [
      "Hello\n"
     ]
    }
   ],
   "source": [
    "print(\"Hello\")"
   ]
  },
  {
   "cell_type": "code",
   "execution_count": 3,
   "id": "6a8b0d8e",
   "metadata": {},
   "outputs": [
    {
     "name": "stdout",
     "output_type": "stream",
     "text": [
      "Hello. How are you?\n"
     ]
    }
   ],
   "source": [
    "print(\"Hello.\",\"How are you?\")"
   ]
  },
  {
   "cell_type": "code",
   "execution_count": 4,
   "id": "5943bec2",
   "metadata": {},
   "outputs": [
    {
     "name": "stdout",
     "output_type": "stream",
     "text": [
      "1 2 3 4\n"
     ]
    }
   ],
   "source": [
    "print(1,2,3,4)"
   ]
  },
  {
   "cell_type": "code",
   "execution_count": 5,
   "id": "7979c7c1",
   "metadata": {},
   "outputs": [
    {
     "name": "stdout",
     "output_type": "stream",
     "text": [
      "1 2 hi\n"
     ]
    }
   ],
   "source": [
    "print(1,2,'hi')"
   ]
  },
  {
   "cell_type": "code",
   "execution_count": 6,
   "id": "e88aac69",
   "metadata": {},
   "outputs": [
    {
     "name": "stdout",
     "output_type": "stream",
     "text": [
      "We like programming in python\n",
      "because python is coolio\n",
      "let us try to print multiple lines\n"
     ]
    }
   ],
   "source": [
    "print('We like programming in python')\n",
    "print('because python is coolio')\n",
    "print('let us try to print multiple lines')"
   ]
  },
  {
   "cell_type": "markdown",
   "id": "392a1102",
   "metadata": {},
   "source": [
    "Get help with built-in function."
   ]
  },
  {
   "cell_type": "code",
   "execution_count": 7,
   "id": "71da6de5",
   "metadata": {},
   "outputs": [
    {
     "name": "stdout",
     "output_type": "stream",
     "text": [
      "Help on built-in function print in module builtins:\n",
      "\n",
      "print(...)\n",
      "    print(value, ..., sep=' ', end='\\n', file=sys.stdout, flush=False)\n",
      "    \n",
      "    Prints the values to a stream, or to sys.stdout by default.\n",
      "    Optional keyword arguments:\n",
      "    file:  a file-like object (stream); defaults to the current sys.stdout.\n",
      "    sep:   string inserted between values, default a space.\n",
      "    end:   string appended after the last value, default a newline.\n",
      "    flush: whether to forcibly flush the stream.\n",
      "\n"
     ]
    }
   ],
   "source": [
    "help(print)"
   ]
  },
  {
   "cell_type": "code",
   "execution_count": 8,
   "id": "cd0b1afa",
   "metadata": {},
   "outputs": [
    {
     "name": "stdout",
     "output_type": "stream",
     "text": [
      "1-2-3-4\n"
     ]
    }
   ],
   "source": [
    "print(1,2,3,4, sep='-')"
   ]
  },
  {
   "cell_type": "code",
   "execution_count": 10,
   "id": "2492d16c",
   "metadata": {},
   "outputs": [
    {
     "name": "stdout",
     "output_type": "stream",
     "text": [
      "hello how are you? "
     ]
    }
   ],
   "source": [
    "print('hello', end=' ')\n",
    "print('how are you?', end=' ')"
   ]
  },
  {
   "cell_type": "code",
   "execution_count": 11,
   "id": "703e842f",
   "metadata": {},
   "outputs": [],
   "source": [
    "f = open('myoutput.txt', 'w')\n",
    "print('hellow',file=f)\n",
    "print('how are you',file=f)\n",
    "f.close()"
   ]
  },
  {
   "cell_type": "code",
   "execution_count": null,
   "id": "d7caef7f",
   "metadata": {},
   "outputs": [],
   "source": []
  }
 ],
 "metadata": {
  "kernelspec": {
   "display_name": "Python 3 (ipykernel)",
   "language": "python",
   "name": "python3"
  },
  "language_info": {
   "codemirror_mode": {
    "name": "ipython",
    "version": 3
   },
   "file_extension": ".py",
   "mimetype": "text/x-python",
   "name": "python",
   "nbconvert_exporter": "python",
   "pygments_lexer": "ipython3",
   "version": "3.9.7"
  }
 },
 "nbformat": 4,
 "nbformat_minor": 5
}
