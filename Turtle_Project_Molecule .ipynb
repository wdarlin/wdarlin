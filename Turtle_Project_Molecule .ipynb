{
 "cells": [
  {
   "cell_type": "markdown",
   "id": "bd295f95",
   "metadata": {},
   "source": [
    "### First Project: Wallace Darling"
   ]
  },
  {
   "cell_type": "code",
   "execution_count": 8,
   "id": "dda6562a",
   "metadata": {},
   "outputs": [
    {
     "name": "stdout",
     "output_type": "stream",
     "text": [
      "Overwriting moleculestructure.py\n"
     ]
    }
   ],
   "source": [
    "%%writefile moleculestructure.py\n",
    "from turtle import *\n",
    "left(150)\n",
    "\n",
    "#First turn and straight line\n",
    "forward(100)\n",
    "right(60)\n",
    "forward(100)\n",
    "penup()\n",
    "backward(100)\n",
    "left(60)\n",
    "pendown()\n",
    "\n",
    "#2 rest of first shape\n",
    "left(60)\n",
    "forward(100)\n",
    "left(60)\n",
    "forward(100)\n",
    "left(60)\n",
    "forward(100)\n",
    "left(60)\n",
    "forward(100)\n",
    "left(60)\n",
    "forward(100)\n",
    "right(60)\n",
    "\n",
    "#3 Protruding Line\n",
    "forward(100)\n",
    "right(60)\n",
    "forward(100)\n",
    "penup()\n",
    "backward(100)\n",
    "right(90)\n",
    "forward(20)\n",
    "left(90)\n",
    "forward(20)\n",
    "pendown()\n",
    "forward(60)\n",
    "penup()\n",
    "forward(20)\n",
    "left(90)\n",
    "forward(20)\n",
    "right(90)\n",
    "pendown()\n",
    "\n",
    "#4 Final Line\n",
    "left(60)\n",
    "forward(100)\n",
    "right(60)\n",
    "forward(100)\n",
    "penup()\n",
    "backward(100)\n",
    "right(90)\n",
    "forward(20)\n",
    "left(90)\n",
    "forward(20)\n",
    "pendown()\n",
    "forward(60)\n",
    "penup()\n",
    "forward(20)\n",
    "left(90)\n",
    "right(90)\n",
    "\n",
    "\n",
    "\n",
    "\n",
    "done()"
   ]
  },
  {
   "cell_type": "code",
   "execution_count": null,
   "id": "64996f43",
   "metadata": {},
   "outputs": [],
   "source": []
  }
 ],
 "metadata": {
  "kernelspec": {
   "display_name": "Python 3 (ipykernel)",
   "language": "python",
   "name": "python3"
  },
  "language_info": {
   "codemirror_mode": {
    "name": "ipython",
    "version": 3
   },
   "file_extension": ".py",
   "mimetype": "text/x-python",
   "name": "python",
   "nbconvert_exporter": "python",
   "pygments_lexer": "ipython3",
   "version": "3.9.7"
  }
 },
 "nbformat": 4,
 "nbformat_minor": 5
}
