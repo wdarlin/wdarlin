{
 "cells": [
  {
   "cell_type": "code",
   "execution_count": 53,
   "id": "c6c8a1d9",
   "metadata": {},
   "outputs": [
    {
     "name": "stdout",
     "output_type": "stream",
     "text": [
      "Two points found\n",
      "None\n"
     ]
    }
   ],
   "source": [
    "class LinearModel():\n",
    "    def __init__(self):\n",
    "        self.a=None\n",
    "        self.b=None\n",
    "        self.pts=[]\n",
    "    def clear(self):\n",
    "        #make self.pts empty\n",
    "        self.pts = []\n",
    "    def add(self, x, y):\n",
    "        #add points to self.pts\n",
    "        self.pts.append((x,y))\n",
    "    def reset(self):\n",
    "        if len(self.pts) < 2:\n",
    "            print('Less than two points')\n",
    "            pass\n",
    "        else:\n",
    "            print('Two points found')\n",
    "        \n",
    "        n = len(self.pts)\n",
    "        ypoints=[]\n",
    "        xpoints=[]\n",
    "        \n",
    "        for point in self.pts:\n",
    "            xpoints.append(point[0])\n",
    "            ypoints.append(point[1])\n",
    "        \n",
    "        xpointsum = sum(xpoints)\n",
    "        ypointsum = sum(ypoints)\n",
    "        \n",
    "        bnumerator = n*(xpointsum+ypointsum)-xpointsum*ypointsum\n",
    "        bdenominator = (n*xpointsum**2) -xpointsum*2\n",
    "        \n",
    "        self.b = bnumerator/bdenominator\n",
    "        self.a =(ypointsum - self.b*xpointsum)/n\n",
    "        \n",
    "    def y(self, x):\n",
    "        y = self.a + self.b*x\n",
    "def main():\n",
    "    model=LinearModel()\n",
    "    model.add(1.1,2.2)\n",
    "    model.add(1.9,3.1)\n",
    "    model.add(2.9,3.9)\n",
    "    model.add(4.1,4.9)\n",
    "    model.add(5.2,6.1)\n",
    "    model.reset()\n",
    "    x = 3.6\n",
    "    y = model.y(x)\n",
    "    print(y)\n",
    "    \n",
    "\n",
    "if __name__ == '__main__':\n",
    "    main()\n",
    "       \n",
    "    \n",
    "#Not working and I know its close but I've hit a block"
   ]
  },
  {
   "cell_type": "code",
   "execution_count": null,
   "id": "34fe1919",
   "metadata": {},
   "outputs": [],
   "source": []
  },
  {
   "cell_type": "code",
   "execution_count": null,
   "id": "b27edb91",
   "metadata": {},
   "outputs": [],
   "source": []
  },
  {
   "cell_type": "code",
   "execution_count": null,
   "id": "c97180d0",
   "metadata": {},
   "outputs": [],
   "source": []
  }
 ],
 "metadata": {
  "kernelspec": {
   "display_name": "Python 3 (ipykernel)",
   "language": "python",
   "name": "python3"
  },
  "language_info": {
   "codemirror_mode": {
    "name": "ipython",
    "version": 3
   },
   "file_extension": ".py",
   "mimetype": "text/x-python",
   "name": "python",
   "nbconvert_exporter": "python",
   "pygments_lexer": "ipython3",
   "version": "3.9.7"
  }
 },
 "nbformat": 4,
 "nbformat_minor": 5
}
