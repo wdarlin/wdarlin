{
 "cells": [
  {
   "cell_type": "markdown",
   "id": "bff4c946",
   "metadata": {},
   "source": [
    "### Standard Python Libraries"
   ]
  },
  {
   "cell_type": "code",
   "execution_count": 1,
   "id": "20576470",
   "metadata": {},
   "outputs": [],
   "source": [
    "import math"
   ]
  },
  {
   "cell_type": "code",
   "execution_count": 2,
   "id": "36b9469f",
   "metadata": {},
   "outputs": [
    {
     "data": {
      "text/plain": [
       "3.141592653589793"
      ]
     },
     "execution_count": 2,
     "metadata": {},
     "output_type": "execute_result"
    }
   ],
   "source": [
    "math.pi"
   ]
  },
  {
   "cell_type": "code",
   "execution_count": 3,
   "id": "ea290201",
   "metadata": {},
   "outputs": [
    {
     "data": {
      "text/plain": [
       "2.718281828459045"
      ]
     },
     "execution_count": 3,
     "metadata": {},
     "output_type": "execute_result"
    }
   ],
   "source": [
    "math.e"
   ]
  },
  {
   "cell_type": "code",
   "execution_count": 4,
   "id": "42af2477",
   "metadata": {},
   "outputs": [
    {
     "data": {
      "text/plain": [
       "1.0"
      ]
     },
     "execution_count": 4,
     "metadata": {},
     "output_type": "execute_result"
    }
   ],
   "source": [
    "math.log(math.e)"
   ]
  },
  {
   "cell_type": "code",
   "execution_count": 5,
   "id": "ffee5c18",
   "metadata": {},
   "outputs": [
    {
     "data": {
      "text/plain": [
       "1.7320508075688772"
      ]
     },
     "execution_count": 5,
     "metadata": {},
     "output_type": "execute_result"
    }
   ],
   "source": [
    "math.sqrt(3)"
   ]
  },
  {
   "cell_type": "code",
   "execution_count": 8,
   "id": "03756498",
   "metadata": {},
   "outputs": [
    {
     "data": {
      "text/plain": [
       "0.7071067811865476"
      ]
     },
     "execution_count": 8,
     "metadata": {},
     "output_type": "execute_result"
    }
   ],
   "source": [
    "math.sin(math.pi/4)"
   ]
  },
  {
   "cell_type": "code",
   "execution_count": 11,
   "id": "118c2263",
   "metadata": {},
   "outputs": [],
   "source": [
    "import random"
   ]
  },
  {
   "cell_type": "code",
   "execution_count": 17,
   "id": "b9ac4fc6",
   "metadata": {},
   "outputs": [
    {
     "data": {
      "text/plain": [
       "6"
      ]
     },
     "execution_count": 17,
     "metadata": {},
     "output_type": "execute_result"
    }
   ],
   "source": [
    "random.randint(1,6)"
   ]
  },
  {
   "cell_type": "code",
   "execution_count": 18,
   "id": "a3a7df79",
   "metadata": {},
   "outputs": [
    {
     "name": "stdout",
     "output_type": "stream",
     "text": [
      "3\n",
      "1\n",
      "6\n",
      "5\n",
      "6\n",
      "1\n",
      "2\n",
      "4\n",
      "1\n",
      "2\n",
      "4\n",
      "2\n",
      "5\n",
      "1\n",
      "5\n",
      "2\n",
      "1\n",
      "2\n",
      "3\n",
      "5\n"
     ]
    }
   ],
   "source": [
    "for _ in range(20):\n",
    "    print(random.randint(1,6))"
   ]
  },
  {
   "cell_type": "code",
   "execution_count": 19,
   "id": "cb0b69bf",
   "metadata": {},
   "outputs": [
    {
     "data": {
      "text/plain": [
       "'a'"
      ]
     },
     "execution_count": 19,
     "metadata": {},
     "output_type": "execute_result"
    }
   ],
   "source": [
    "random.choice(['a','b','c','d','e'])"
   ]
  },
  {
   "cell_type": "code",
   "execution_count": 20,
   "id": "6c0aaedc",
   "metadata": {},
   "outputs": [
    {
     "data": {
      "text/plain": [
       "0.7614846394748238"
      ]
     },
     "execution_count": 20,
     "metadata": {},
     "output_type": "execute_result"
    }
   ],
   "source": [
    "random.random() #uniform distribution between 0 and 1"
   ]
  },
  {
   "cell_type": "code",
   "execution_count": 22,
   "id": "293feace",
   "metadata": {},
   "outputs": [
    {
     "name": "stdout",
     "output_type": "stream",
     "text": [
      "0.40055184715975023\n",
      "0.09331394088860778\n",
      "0.047827212789632756\n",
      "0.03456504069271149\n",
      "0.01593922084854882\n",
      "0.16684406891262848\n",
      "0.31873069836102474\n",
      "0.1183630852277916\n",
      "0.669412901934752\n",
      "0.7858960272961975\n",
      "0.7467968221117498\n",
      "0.9022932951313821\n",
      "0.46617164849678405\n",
      "0.9285901264552608\n",
      "0.5485354927044932\n",
      "0.7939485633389078\n",
      "0.8032085522504098\n",
      "0.6068879923558631\n",
      "0.36189273006562594\n",
      "0.8649446652596137\n"
     ]
    }
   ],
   "source": [
    "for _ in range(20):\n",
    "    print(random.random())"
   ]
  },
  {
   "cell_type": "code",
   "execution_count": 26,
   "id": "538451f6",
   "metadata": {},
   "outputs": [
    {
     "data": {
      "text/plain": [
       "0.3268061242832534"
      ]
     },
     "execution_count": 26,
     "metadata": {},
     "output_type": "execute_result"
    }
   ],
   "source": [
    "random.uniform(-3.5,3.5)"
   ]
  },
  {
   "cell_type": "code",
   "execution_count": 31,
   "id": "83b0d92d",
   "metadata": {},
   "outputs": [
    {
     "data": {
      "text/plain": [
       "10.199077757429025"
      ]
     },
     "execution_count": 31,
     "metadata": {},
     "output_type": "execute_result"
    }
   ],
   "source": [
    "random.gauss(10,2) #Gaussion distribution with mu, sigma \n",
    "                   #(gives you a number close to the first one with a spread of the second)"
   ]
  },
  {
   "cell_type": "markdown",
   "id": "e136cc5f",
   "metadata": {},
   "source": [
    "### Trigonometric Functions"
   ]
  },
  {
   "cell_type": "code",
   "execution_count": 32,
   "id": "533cf0dd",
   "metadata": {},
   "outputs": [],
   "source": [
    "import math"
   ]
  },
  {
   "cell_type": "code",
   "execution_count": 33,
   "id": "4ed7a81f",
   "metadata": {},
   "outputs": [
    {
     "data": {
      "text/plain": [
       "180.0"
      ]
     },
     "execution_count": 33,
     "metadata": {},
     "output_type": "execute_result"
    }
   ],
   "source": [
    "math.degrees(math.pi)"
   ]
  },
  {
   "cell_type": "code",
   "execution_count": 34,
   "id": "42ede803",
   "metadata": {},
   "outputs": [
    {
     "data": {
      "text/plain": [
       "1.5707963267948966"
      ]
     },
     "execution_count": 34,
     "metadata": {},
     "output_type": "execute_result"
    }
   ],
   "source": [
    "math.radians(90)"
   ]
  },
  {
   "cell_type": "code",
   "execution_count": 35,
   "id": "b0b7bc0d",
   "metadata": {},
   "outputs": [
    {
     "data": {
      "text/plain": [
       "0.7071067811865476"
      ]
     },
     "execution_count": 35,
     "metadata": {},
     "output_type": "execute_result"
    }
   ],
   "source": [
    "math.sin(math.radians(45))"
   ]
  },
  {
   "cell_type": "code",
   "execution_count": 36,
   "id": "b8d141f4",
   "metadata": {},
   "outputs": [
    {
     "data": {
      "text/plain": [
       "0.5000000000000001"
      ]
     },
     "execution_count": 36,
     "metadata": {},
     "output_type": "execute_result"
    }
   ],
   "source": [
    "math.cos(math.radians(60))"
   ]
  },
  {
   "cell_type": "code",
   "execution_count": 38,
   "id": "1d2a6779",
   "metadata": {},
   "outputs": [
    {
     "data": {
      "text/plain": [
       "0.9999999999999999"
      ]
     },
     "execution_count": 38,
     "metadata": {},
     "output_type": "execute_result"
    }
   ],
   "source": [
    "math.tan(math.radians(45))"
   ]
  },
  {
   "cell_type": "code",
   "execution_count": 40,
   "id": "144c207e",
   "metadata": {},
   "outputs": [
    {
     "data": {
      "text/plain": [
       "109.47122063449069"
      ]
     },
     "execution_count": 40,
     "metadata": {},
     "output_type": "execute_result"
    }
   ],
   "source": [
    "math.degrees(math.acos(-1/3))"
   ]
  },
  {
   "cell_type": "markdown",
   "id": "1079292d",
   "metadata": {},
   "source": [
    "#### Complex Numbers"
   ]
  },
  {
   "cell_type": "code",
   "execution_count": 42,
   "id": "87a75fb3",
   "metadata": {},
   "outputs": [],
   "source": [
    "import cmath as m"
   ]
  },
  {
   "cell_type": "code",
   "execution_count": 43,
   "id": "6a6ee94c",
   "metadata": {},
   "outputs": [
    {
     "data": {
      "text/plain": [
       "1j"
      ]
     },
     "execution_count": 43,
     "metadata": {},
     "output_type": "execute_result"
    }
   ],
   "source": [
    "m.sqrt(-1)"
   ]
  },
  {
   "cell_type": "code",
   "execution_count": 44,
   "id": "979aba39",
   "metadata": {},
   "outputs": [
    {
     "data": {
      "text/plain": [
       "(-5.000000000000001+0j)"
      ]
     },
     "execution_count": 44,
     "metadata": {},
     "output_type": "execute_result"
    }
   ],
   "source": [
    "x = m.sqrt(-5)\n",
    "x * x"
   ]
  },
  {
   "cell_type": "code",
   "execution_count": 47,
   "id": "6edf18f7",
   "metadata": {},
   "outputs": [],
   "source": [
    "z1 = 2 +3j\n",
    "z2 = 4 +2j"
   ]
  },
  {
   "cell_type": "code",
   "execution_count": 48,
   "id": "48b0bb10",
   "metadata": {},
   "outputs": [
    {
     "data": {
      "text/plain": [
       "(2+16j)"
      ]
     },
     "execution_count": 48,
     "metadata": {},
     "output_type": "execute_result"
    }
   ],
   "source": [
    "z1*z2"
   ]
  },
  {
   "cell_type": "code",
   "execution_count": 49,
   "id": "38f53b02",
   "metadata": {},
   "outputs": [
    {
     "data": {
      "text/plain": [
       "(0.7+0.4j)"
      ]
     },
     "execution_count": 49,
     "metadata": {},
     "output_type": "execute_result"
    }
   ],
   "source": [
    "z1/z2"
   ]
  },
  {
   "cell_type": "code",
   "execution_count": 50,
   "id": "bf210a09",
   "metadata": {},
   "outputs": [],
   "source": [
    "#solve quadratic equation\n",
    "import cmath as m\n",
    "\n",
    "def roots(a,b,c):\n",
    "    d=b*b-4*a*c\n",
    "    d=m.sqrt(d)\n",
    "    x1=(-b+d)/2/a\n",
    "    x2=(-b*d)/2/a\n",
    "    return(x1,x2)"
   ]
  },
  {
   "cell_type": "code",
   "execution_count": 51,
   "id": "c3c00f0a",
   "metadata": {},
   "outputs": [
    {
     "name": "stdout",
     "output_type": "stream",
     "text": [
      "(-0.5+1.3228756555322954j)\n",
      "(-0-1.3228756555322954j)\n"
     ]
    }
   ],
   "source": [
    "x1,x2 = roots(1,1,2)\n",
    "print(x1)\n",
    "print(x2)"
   ]
  },
  {
   "cell_type": "code",
   "execution_count": null,
   "id": "e4cc0cf2",
   "metadata": {},
   "outputs": [],
   "source": []
  },
  {
   "cell_type": "code",
   "execution_count": 1,
   "id": "e4a9ad00",
   "metadata": {},
   "outputs": [],
   "source": [
    "import math as m\n",
    "\n",
    "class LinearModel():\n",
    "    def __init__(self):\n",
    "        self.a=None\n",
    "        self.b=None\n",
    "        points=[]\n",
    "        points.add(x,y)\n",
    "        x=1.1\n",
    "        y=a+b*x\n",
    "        \n",
    "        \n",
    "        \n",
    "        \n",
    "    "
   ]
  },
  {
   "cell_type": "code",
   "execution_count": null,
   "id": "7d5cb0a2",
   "metadata": {},
   "outputs": [],
   "source": []
  }
 ],
 "metadata": {
  "kernelspec": {
   "display_name": "Python 3 (ipykernel)",
   "language": "python",
   "name": "python3"
  },
  "language_info": {
   "codemirror_mode": {
    "name": "ipython",
    "version": 3
   },
   "file_extension": ".py",
   "mimetype": "text/x-python",
   "name": "python",
   "nbconvert_exporter": "python",
   "pygments_lexer": "ipython3",
   "version": "3.9.7"
  }
 },
 "nbformat": 4,
 "nbformat_minor": 5
}
