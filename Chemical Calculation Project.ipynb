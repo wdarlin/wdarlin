{
 "cells": [
  {
   "cell_type": "code",
   "execution_count": 15,
   "id": "8cc1d263",
   "metadata": {},
   "outputs": [
    {
     "name": "stdout",
     "output_type": "stream",
     "text": [
      "[x,f(x)]=((0.27569930091894973, -4.916183632075466e-05))\n",
      "The value of [B] is = 0.27569930091894973\n",
      "[A] is = 0.10359375539149583\n",
      "[AB] is = 0.2856072594100408\n",
      "[AB2] is = 0.3937086087836269\n",
      "[AB3] is = 0.21709037641483642\n",
      "\n"
     ]
    }
   ],
   "source": [
    "import roots as r\n",
    "#Initial Concentrations from PDF\n",
    "A0 = 1\n",
    "B0 = 2\n",
    "\n",
    "#AB=AB2=AB3=0\n",
    "\n",
    "def main():\n",
    "    #Polynomial equation from PDF\n",
    "    f = lambda x:-2-9*x+10*x**2+150*x**3+100*x**4\n",
    "    #Coefficients \n",
    "    c = [-2,-9,10,150,100]\n",
    "    roots = r.polynomial_roots(c)\n",
    "    for x in roots:\n",
    "        #Finding the root and choosing positive value\n",
    "        if x>0:\n",
    "            print(f'[x,f(x)]=({x,r.polynomial(x,c)})')\n",
    "            #Solving for B First\n",
    "            B=x\n",
    "            #Plugging B back in\n",
    "            A=A0/(1+10*x+50*x**2+100*x**3)\n",
    "            AB=10*A*B\n",
    "            AB2=50*A*B**2\n",
    "            AB3=100*A*B**3\n",
    "            \n",
    "            print(f'The value of [B] is = {B}\\n[A] is = {A}\\n[AB] is = {AB}\\n[AB2] is = {AB2}\\n[AB3] is = {AB3}\\n')\n",
    "\n",
    "            \n",
    "if __name__=='__main__':\n",
    "    main()\n",
    "  \n",
    "\n"
   ]
  },
  {
   "cell_type": "code",
   "execution_count": null,
   "id": "e3950d9e",
   "metadata": {},
   "outputs": [],
   "source": []
  }
 ],
 "metadata": {
  "kernelspec": {
   "display_name": "Python 3 (ipykernel)",
   "language": "python",
   "name": "python3"
  },
  "language_info": {
   "codemirror_mode": {
    "name": "ipython",
    "version": 3
   },
   "file_extension": ".py",
   "mimetype": "text/x-python",
   "name": "python",
   "nbconvert_exporter": "python",
   "pygments_lexer": "ipython3",
   "version": "3.9.7"
  }
 },
 "nbformat": 4,
 "nbformat_minor": 5
}
