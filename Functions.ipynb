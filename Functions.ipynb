{
 "cells": [
  {
   "cell_type": "markdown",
   "id": "b0c4b87c",
   "metadata": {},
   "source": [
    "## Program Building Blocks\n",
    "* Functions\n",
    "* Classes\n",
    "* Modules"
   ]
  },
  {
   "cell_type": "markdown",
   "id": "14215aa6",
   "metadata": {},
   "source": [
    "### Functions"
   ]
  },
  {
   "cell_type": "code",
   "execution_count": 2,
   "id": "99279fd0",
   "metadata": {},
   "outputs": [
    {
     "name": "stdout",
     "output_type": "stream",
     "text": [
      "Hello.\n",
      "How are you?\n",
      "Hello.\n",
      "How are you?\n"
     ]
    }
   ],
   "source": [
    "def greet():\n",
    "    print('Hello.')\n",
    "    print('How are you?')\n",
    "\n",
    "greet()\n",
    "greet()"
   ]
  },
  {
   "cell_type": "markdown",
   "id": "f10d6042",
   "metadata": {},
   "source": [
    "#### Pass info to functions"
   ]
  },
  {
   "cell_type": "code",
   "execution_count": 3,
   "id": "d90be0b6",
   "metadata": {},
   "outputs": [
    {
     "name": "stdout",
     "output_type": "stream",
     "text": [
      "Hello, David!\n",
      "Hello, Jesse!\n"
     ]
    }
   ],
   "source": [
    "def greet_user(username):\n",
    "    print(f'Hello, {username.title()}!')\n",
    "\n",
    "greet_user('david')\n",
    "greet_user('Jesse')"
   ]
  },
  {
   "cell_type": "markdown",
   "id": "fa0d2692",
   "metadata": {},
   "source": [
    "#### Pass by position of parameters"
   ]
  },
  {
   "cell_type": "code",
   "execution_count": 5,
   "id": "c0d0ce7a",
   "metadata": {},
   "outputs": [
    {
     "name": "stdout",
     "output_type": "stream",
     "text": [
      "David bought 2 books.\n",
      "Mike bought 4 photos.\n"
     ]
    }
   ],
   "source": [
    "def statement(name, number, product):\n",
    "    print(f'{name} bought {number} {product}.')\n",
    "\n",
    "statement('David', 2, 'books')\n",
    "statement('Mike', 4, \"photos\")"
   ]
  },
  {
   "cell_type": "markdown",
   "id": "31a49374",
   "metadata": {},
   "source": [
    "#### Pass keyword arguments"
   ]
  },
  {
   "cell_type": "code",
   "execution_count": 8,
   "id": "211b91e0",
   "metadata": {},
   "outputs": [
    {
     "name": "stdout",
     "output_type": "stream",
     "text": [
      "David bought 100 books.\n",
      "Mike bought 25 pictures.\n"
     ]
    }
   ],
   "source": [
    "def statement(name, number, product):\n",
    "    print(f'{name} bought {number} {product}.')\n",
    "    \n",
    "statement(product='books',number=100,name='David')\n",
    "statement('Mike',product='pictures',number=25)"
   ]
  },
  {
   "cell_type": "markdown",
   "id": "227fcc68",
   "metadata": {},
   "source": [
    "#### Set defualt values"
   ]
  },
  {
   "cell_type": "code",
   "execution_count": 11,
   "id": "88b9ac2a",
   "metadata": {},
   "outputs": [
    {
     "name": "stdout",
     "output_type": "stream",
     "text": [
      "David sold 20 books.\n",
      "Mike sold 50 pictures.\n",
      "John sold 10 books.\n"
     ]
    }
   ],
   "source": [
    "def statement(name, number=10, product='books'):\n",
    "    print(f'{name} sold {number} {product}.')\n",
    "statement('David', 20)\n",
    "statement('Mike', 50, 'pictures')\n",
    "statement('John')"
   ]
  },
  {
   "cell_type": "markdown",
   "id": "f1ee5874",
   "metadata": {},
   "source": [
    "#### Return values"
   ]
  },
  {
   "cell_type": "code",
   "execution_count": 14,
   "id": "e0d1acc8",
   "metadata": {},
   "outputs": [
    {
     "name": "stdout",
     "output_type": "stream",
     "text": [
      "p = 4132.058 Pa\n"
     ]
    }
   ],
   "source": [
    "def pressure(n, T, v): #mole,K,m^3\n",
    "    R=8.314 #J/mol/k\n",
    "    p=n*R*T/v #calculate pressure\n",
    "    return p\n",
    "\n",
    "n= 2\n",
    "T=298.2\n",
    "v=1.2\n",
    "\n",
    "p= pressure(n,T,v)\n",
    "print(f'p = {p} Pa')"
   ]
  },
  {
   "cell_type": "code",
   "execution_count": 3,
   "id": "a6124936",
   "metadata": {},
   "outputs": [
    {
     "name": "stdout",
     "output_type": "stream",
     "text": [
      "n1, n2 = \n",
      "500, 284\n",
      "Gcd of 500 and 284 is 4.\n"
     ]
    }
   ],
   "source": [
    "# GCD, greatest common divisor \n",
    "\n",
    "def gcd(n1,n2):\n",
    "    while True:\n",
    "        n1,n2 = n2, n1%n2\n",
    "        if n2==0:return n1\n",
    "        \n",
    "n1,n2=eval(input('n1, n2 = \\n'))\n",
    "the_gcd = gcd(n1,n2)\n",
    "print(f'Gcd of {n1} and {n2} is {the_gcd}.')"
   ]
  },
  {
   "cell_type": "markdown",
   "id": "c38d9b2a",
   "metadata": {},
   "source": [
    "### Return Dictionary"
   ]
  },
  {
   "cell_type": "code",
   "execution_count": 5,
   "id": "dc8e0c23",
   "metadata": {},
   "outputs": [
    {
     "name": "stdout",
     "output_type": "stream",
     "text": [
      "{'first': 'david', 'last': 'day', 'address': '123 bay st'}\n",
      "{'first': 'mike', 'last': 'long'}\n"
     ]
    }
   ],
   "source": [
    "def person_info(first_name, last_name, address=None):\n",
    "    person = {}\n",
    "    person['first']=first_name\n",
    "    person['last']=last_name\n",
    "    if address:\n",
    "        person['address']=address\n",
    "    return person\n",
    "\n",
    "user1 = person_info('david','day','123 bay st')\n",
    "print(user1)\n",
    "\n",
    "user2=person_info('mike','long')\n",
    "print(user2)"
   ]
  },
  {
   "cell_type": "markdown",
   "id": "663b8044",
   "metadata": {},
   "source": [
    "### Return List of Tuples and Pass Function as Parameter"
   ]
  },
  {
   "cell_type": "code",
   "execution_count": 7,
   "id": "d8d50448",
   "metadata": {},
   "outputs": [
    {
     "name": "stdout",
     "output_type": "stream",
     "text": [
      "[(-5, 20), (-4.5, 15.75), (-4.0, 12.0), (-3.5, 8.75), (-3.0, 6.0), (-2.5, 3.75), (-2.0, 2.0), (-1.5, 0.75), (-1.0, 0.0), (-0.5, -0.25), (0.0, 0.0), (0.5, 0.75), (1.0, 2.0), (1.5, 3.75), (2.0, 6.0), (2.5, 8.75), (3.0, 12.0), (3.5, 15.75), (4.0, 20.0), (4.5, 24.75), (5.0, 30.0)]\n"
     ]
    }
   ],
   "source": [
    "def fun(x):\n",
    "    return x*x+x\n",
    "def curve_data(f,x1,x2,s):\n",
    "    points=[]\n",
    "    x=x1\n",
    "    while x <= x2:\n",
    "        y=f(x)\n",
    "        points.append((x,y))\n",
    "        x+=s\n",
    "    return points\n",
    "pts=curve_data(fun,-5,5,0.5)\n",
    "print(pts)"
   ]
  },
  {
   "cell_type": "markdown",
   "id": "65d70492",
   "metadata": {},
   "source": [
    "### Effect of Passing List\n",
    "* If function modifies the list, the original list will also be changed.\n",
    "* Same for dictionaries "
   ]
  },
  {
   "cell_type": "code",
   "execution_count": 10,
   "id": "d5dddc58",
   "metadata": {},
   "outputs": [
    {
     "name": "stdout",
     "output_type": "stream",
     "text": [
      "[1, 2, 3, 4]\n",
      "[1, 2, 3, 4]\n"
     ]
    }
   ],
   "source": [
    "def play(number_list):\n",
    "    number_list.append(4)\n",
    "    print(number_list)\n",
    "\n",
    "numbers = [1,2,3]\n",
    "play(numbers)\n",
    "print(numbers)"
   ]
  },
  {
   "cell_type": "markdown",
   "id": "ba993d9c",
   "metadata": {},
   "source": [
    "### If Function will Modify a List, Better to Pass a Copy"
   ]
  },
  {
   "cell_type": "code",
   "execution_count": 2,
   "id": "9db43e79",
   "metadata": {},
   "outputs": [
    {
     "name": "stdout",
     "output_type": "stream",
     "text": [
      "[1, 2, 3, 'done']\n",
      "[1, 2, 3]\n"
     ]
    }
   ],
   "source": [
    "def play(num_list):\n",
    "    num_list.append('done')\n",
    "    print(num_list)\n",
    "nums=[1,2,3]\n",
    "play(nums.copy()) #another way is play(nums[:]) *slicing\n",
    "print(nums)"
   ]
  },
  {
   "cell_type": "markdown",
   "id": "3b18d834",
   "metadata": {},
   "source": [
    "### Project:\n",
    "* Print calender of particular month and year\n",
    "#### Info Needed:\n",
    "* Number of days in month\n",
    "* Weekday of first day of month"
   ]
  },
  {
   "cell_type": "markdown",
   "id": "ce688a2e",
   "metadata": {},
   "source": [
    "**January 1, 2022 is a Saturday** as a reference point"
   ]
  },
  {
   "cell_type": "code",
   "execution_count": 6,
   "id": "546e6b0a",
   "metadata": {},
   "outputs": [
    {
     "name": "stdout",
     "output_type": "stream",
     "text": [
      "{2022: [[31, 6], [28, 2], [31, 2], [30, 5], [31, 0], [30, 3], [31, 5], [31, 1], [30, 4], [31, 6], [30, 2], [31, 4]]}\n"
     ]
    }
   ],
   "source": [
    "# Print calander of (year, month)\n",
    "\n",
    "def isleapyear(year):\n",
    "    return year%400==0 or (year%4==0 and year%100!=0)\n",
    "\n",
    "def init_year(year):\n",
    "    # months = [month0,month1,.....,month11]\n",
    "    # month = [days,start_day]\n",
    "    if isleapyear(year):\n",
    "        months=[[31,0],[29,0],[31,0],[30,0],[31,0],\n",
    "               [30,0],[31,0],[31,0],[30,0],[31,0],[30,0],[31,0]]\n",
    "    else:\n",
    "        months=[[31,0],[28,0],[31,0],[30,0],[31,0],\n",
    "               [30,0],[31,0],[31,0],[30,0],[31,0],[30,0],[31,0]]\n",
    "                        \n",
    "    return months\n",
    "\n",
    "def set_lastmonth_start_day(thismonth, lastmonth):\n",
    "    lastmonth[1] = (thismonth[1]-lastmonth[0])%7\n",
    "    #take advantage of modifying list in place\n",
    "    \n",
    "\n",
    "def set_nextmonth_start_day(thismonth, nextmonth):\n",
    "    nextmonth[1] = (thismonth[1]+thismonth[0])%7\n",
    "    \n",
    "calander={} # {year:months,.....}\n",
    "calander[2022]=init_year(2022)\n",
    "calander[2022][0][1] = 6 #this is getting our refrenence day Jan 1,2022, Saturday\n",
    "for i in range(11):\n",
    "    set_nextmonth_start_day(calander[2022][i], calander[2022][i+1])\n",
    "\n",
    "def add_year_after_2022(year):\n",
    "    #make sure calander[year-1] already availible\n",
    "    if year in calander: return\n",
    "    calander[year]=init_year(year)\n",
    "    set_nextmonth_start_day(calander[year-1][-1],calander[year][0])\n",
    "    for i in range(11):\n",
    "        set_nextmonth_start_day(calander[year][i],calander[year][i+1])\n",
    "        \n",
    "def add_year_before_2022(year):\n",
    "    #make sure calander[year+1] already availible\n",
    "    if year in calander:return\n",
    "    calander[year]=init_year(year)\n",
    "    set_lastmonth_start_day(calander[year+1][0], calander[year][-1])\n",
    "    for i in range(10,-1,-1):\n",
    "        set_lastmonth_start_day(calander[year][i+1],calander[year][i])\n",
    "        "
   ]
  },
  {
   "cell_type": "code",
   "execution_count": null,
   "id": "3edddfcb",
   "metadata": {},
   "outputs": [],
   "source": []
  }
 ],
 "metadata": {
  "kernelspec": {
   "display_name": "Python 3 (ipykernel)",
   "language": "python",
   "name": "python3"
  },
  "language_info": {
   "codemirror_mode": {
    "name": "ipython",
    "version": 3
   },
   "file_extension": ".py",
   "mimetype": "text/x-python",
   "name": "python",
   "nbconvert_exporter": "python",
   "pygments_lexer": "ipython3",
   "version": "3.9.7"
  }
 },
 "nbformat": 4,
 "nbformat_minor": 5
}
