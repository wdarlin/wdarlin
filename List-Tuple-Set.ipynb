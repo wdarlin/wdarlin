{
 "cells": [
  {
   "cell_type": "markdown",
   "id": "bcbff994",
   "metadata": {},
   "source": [
    "## Data Structures - Containers\n",
    "* List\n",
    "* Tuple\n",
    "* Set\n",
    "* Dictionary \n"
   ]
  },
  {
   "cell_type": "markdown",
   "id": "2e97be5b",
   "metadata": {},
   "source": [
    "### Lists"
   ]
  },
  {
   "cell_type": "code",
   "execution_count": 5,
   "id": "654cc877",
   "metadata": {},
   "outputs": [
    {
     "name": "stdout",
     "output_type": "stream",
     "text": [
      "['apple', 'orange', 'pear', 'strawberry']\n"
     ]
    }
   ],
   "source": [
    "fruits=['apple','orange','pear','strawberry']\n",
    "print(fruits)"
   ]
  },
  {
   "cell_type": "code",
   "execution_count": 6,
   "id": "22a78a16",
   "metadata": {},
   "outputs": [
    {
     "data": {
      "text/plain": [
       "list"
      ]
     },
     "execution_count": 6,
     "metadata": {},
     "output_type": "execute_result"
    }
   ],
   "source": [
    "type(fruits)"
   ]
  },
  {
   "cell_type": "code",
   "execution_count": 10,
   "id": "b4e5ef8a",
   "metadata": {},
   "outputs": [
    {
     "data": {
      "text/plain": [
       "'strawberry'"
      ]
     },
     "execution_count": 10,
     "metadata": {},
     "output_type": "execute_result"
    }
   ],
   "source": [
    "fruits[3]"
   ]
  },
  {
   "cell_type": "code",
   "execution_count": 12,
   "id": "cd644876",
   "metadata": {},
   "outputs": [
    {
     "name": "stdout",
     "output_type": "stream",
     "text": [
      "Pear\n"
     ]
    }
   ],
   "source": [
    "print(fruits[2].title())"
   ]
  },
  {
   "cell_type": "code",
   "execution_count": 14,
   "id": "c4c09731",
   "metadata": {},
   "outputs": [
    {
     "name": "stdout",
     "output_type": "stream",
     "text": [
      "STRAWBERRY\n"
     ]
    }
   ],
   "source": [
    "print(fruits[-1].upper())"
   ]
  },
  {
   "cell_type": "markdown",
   "id": "4eef1f4c",
   "metadata": {},
   "source": [
    "### Members of a list can be mixed data types"
   ]
  },
  {
   "cell_type": "code",
   "execution_count": 19,
   "id": "fd73da77",
   "metadata": {},
   "outputs": [
    {
     "name": "stdout",
     "output_type": "stream",
     "text": [
      "Record #1: We have 5.6 pounds of apples.\n"
     ]
    }
   ],
   "source": [
    "record = [1,'apples',5.6,'pounds']\n",
    "rec_num=record[0]\n",
    "fruit=record[1]\n",
    "quantity=record[2]\n",
    "units=record[3]\n",
    "statement=f'Record #{rec_num}: We have {quantity} {units} of {fruit}.'\n",
    "print(statement)"
   ]
  },
  {
   "cell_type": "markdown",
   "id": "7b78f1f3",
   "metadata": {},
   "source": [
    "### Inventory of Fruits\n",
    "\n",
    "|record number|fruit|quantity|units|\n",
    "|:-|-:|:-:|-:|\n",
    "|1|apple|5.6|pounds|\n",
    "|2|banana|10|bundles|\n",
    "|3|strawberry|6|boxes|"
   ]
  },
  {
   "cell_type": "code",
   "execution_count": 21,
   "id": "15ee3b65",
   "metadata": {},
   "outputs": [
    {
     "name": "stdout",
     "output_type": "stream",
     "text": [
      "Record #3: We have 6 boxes of strawberry.\n"
     ]
    }
   ],
   "source": [
    "records=[[1,'apple',5.6,'pounds'],\n",
    "         [2,'banana',10,'bundles'],\n",
    "         [3,'strawberry',6,'boxes']]\n",
    "record = records[2]\n",
    "rec_num=record[0]\n",
    "fruit=record[1]\n",
    "quantity=record[2]\n",
    "units=record[3]\n",
    "statement=f'Record #{rec_num}: We have {quantity} {units} of {fruit}.'\n",
    "print(statement)"
   ]
  },
  {
   "cell_type": "markdown",
   "id": "e130d34e",
   "metadata": {},
   "source": [
    "### Add element at end of list"
   ]
  },
  {
   "cell_type": "code",
   "execution_count": 22,
   "id": "0f7773fb",
   "metadata": {},
   "outputs": [
    {
     "data": {
      "text/plain": [
       "['a', 'b', 'c', 'd']"
      ]
     },
     "execution_count": 22,
     "metadata": {},
     "output_type": "execute_result"
    }
   ],
   "source": [
    "letters=['a','b','c']\n",
    "letters.append('d')\n",
    "letters"
   ]
  },
  {
   "cell_type": "code",
   "execution_count": 23,
   "id": "b5b612c5",
   "metadata": {},
   "outputs": [
    {
     "data": {
      "text/plain": [
       "['a', 'b']"
      ]
     },
     "execution_count": 23,
     "metadata": {},
     "output_type": "execute_result"
    }
   ],
   "source": [
    "letters=[]\n",
    "letters.append('a')\n",
    "letters.append('b')\n",
    "letters"
   ]
  },
  {
   "cell_type": "markdown",
   "id": "1500f194",
   "metadata": {},
   "source": [
    "### Removing an element from list"
   ]
  },
  {
   "cell_type": "code",
   "execution_count": 24,
   "id": "f5f8aed9",
   "metadata": {},
   "outputs": [
    {
     "data": {
      "text/plain": [
       "[1, 2, 4, 16]"
      ]
     },
     "execution_count": 24,
     "metadata": {},
     "output_type": "execute_result"
    }
   ],
   "source": [
    "numbers=[1,2,4,8,16]\n",
    "del numbers[-2]\n",
    "numbers"
   ]
  },
  {
   "cell_type": "code",
   "execution_count": 31,
   "id": "ef082b46",
   "metadata": {},
   "outputs": [
    {
     "data": {
      "text/plain": [
       "[3]"
      ]
     },
     "execution_count": 31,
     "metadata": {},
     "output_type": "execute_result"
    }
   ],
   "source": [
    "x=[1.5]\n",
    "del x[0]\n",
    "x.append(3)\n",
    "x"
   ]
  },
  {
   "cell_type": "markdown",
   "id": "b0494f62",
   "metadata": {},
   "source": [
    "### Use pop to remove and grab an item"
   ]
  },
  {
   "cell_type": "code",
   "execution_count": 35,
   "id": "e5aa7bf7",
   "metadata": {},
   "outputs": [
    {
     "name": "stdout",
     "output_type": "stream",
     "text": [
      "Last tool is eraser\n",
      "Tools left ['brush', 'pen', 'pencil']\n",
      "First tool is brush\n",
      "Tools left ['pen', 'pencil']\n"
     ]
    }
   ],
   "source": [
    "tools=['brush','pen','pencil','eraser']\n",
    "last_tool=tools.pop()\n",
    "print('Last tool is', last_tool)\n",
    "print('Tools left', tools)\n",
    "\n",
    "first_tool=tools.pop(0)\n",
    "print('First tool is', first_tool)\n",
    "print('Tools left', tools)"
   ]
  },
  {
   "cell_type": "markdown",
   "id": "a67d1725",
   "metadata": {},
   "source": [
    "### Remove by value"
   ]
  },
  {
   "cell_type": "code",
   "execution_count": 41,
   "id": "cf3f046e",
   "metadata": {},
   "outputs": [
    {
     "name": "stdout",
     "output_type": "stream",
     "text": [
      "[1, 2, 3, 3, 3, 4, 4, 2, 4, 4]\n",
      "[1, 3, 3, 3, 4, 4, 2, 4, 4]\n",
      "[1, 3, 3, 3, 4, 4, 4, 4]\n"
     ]
    }
   ],
   "source": [
    "numbers=[1,2,3,3,3,4,4,2,4,4]\n",
    "print(numbers)\n",
    "numbers.remove(2)\n",
    "print(numbers)\n",
    "numbers.remove(2)\n",
    "print(numbers)\n"
   ]
  },
  {
   "cell_type": "markdown",
   "id": "e75a7199",
   "metadata": {},
   "source": [
    "### Modify an element of a list - List is mutable"
   ]
  },
  {
   "cell_type": "code",
   "execution_count": 1,
   "id": "4edc6b35",
   "metadata": {},
   "outputs": [
    {
     "data": {
      "text/plain": [
       "['pineapple', 'pear', 'orange']"
      ]
     },
     "execution_count": 1,
     "metadata": {},
     "output_type": "execute_result"
    }
   ],
   "source": [
    "fruits = ['apple','pear','orange']\n",
    "fruits[0]='pineapple'\n",
    "fruits"
   ]
  },
  {
   "cell_type": "markdown",
   "id": "c0bd0920",
   "metadata": {},
   "source": [
    "### String cannot modify in place - String is not mutable"
   ]
  },
  {
   "cell_type": "code",
   "execution_count": 2,
   "id": "d0355a7b",
   "metadata": {},
   "outputs": [
    {
     "ename": "TypeError",
     "evalue": "'str' object does not support item assignment",
     "output_type": "error",
     "traceback": [
      "\u001b[1;31m---------------------------------------------------------------------------\u001b[0m",
      "\u001b[1;31mTypeError\u001b[0m                                 Traceback (most recent call last)",
      "\u001b[1;32mC:\\Users\\VALUED~1\\AppData\\Local\\Temp/ipykernel_1988/2691537429.py\u001b[0m in \u001b[0;36m<module>\u001b[1;34m\u001b[0m\n\u001b[0;32m      1\u001b[0m \u001b[0mchem\u001b[0m\u001b[1;33m=\u001b[0m\u001b[1;34m'chemistry'\u001b[0m\u001b[1;33m\u001b[0m\u001b[1;33m\u001b[0m\u001b[0m\n\u001b[1;32m----> 2\u001b[1;33m \u001b[0mchem\u001b[0m\u001b[1;33m[\u001b[0m\u001b[1;36m0\u001b[0m\u001b[1;33m]\u001b[0m\u001b[1;33m=\u001b[0m\u001b[1;34m'C'\u001b[0m\u001b[1;33m\u001b[0m\u001b[1;33m\u001b[0m\u001b[0m\n\u001b[0m\u001b[0;32m      3\u001b[0m \u001b[0mchem\u001b[0m\u001b[1;33m\u001b[0m\u001b[1;33m\u001b[0m\u001b[0m\n",
      "\u001b[1;31mTypeError\u001b[0m: 'str' object does not support item assignment"
     ]
    }
   ],
   "source": [
    "chem='chemistry'\n",
    "chem[0]='C'\n",
    "chem"
   ]
  },
  {
   "cell_type": "markdown",
   "id": "f9dcac4a",
   "metadata": {},
   "source": [
    "**If really want to change a string, you have to make a new string**"
   ]
  },
  {
   "cell_type": "code",
   "execution_count": 6,
   "id": "08c87f6a",
   "metadata": {},
   "outputs": [
    {
     "data": {
      "text/plain": [
       "'Chemistry'"
      ]
     },
     "execution_count": 6,
     "metadata": {},
     "output_type": "execute_result"
    }
   ],
   "source": [
    "chem='chemistry'\n",
    "chem= 'C' + chem[1:]\n",
    "chem"
   ]
  },
  {
   "cell_type": "markdown",
   "id": "61f9d374",
   "metadata": {},
   "source": [
    "### Sort a list in place"
   ]
  },
  {
   "cell_type": "code",
   "execution_count": 9,
   "id": "cf5f97ec",
   "metadata": {},
   "outputs": [
    {
     "name": "stdout",
     "output_type": "stream",
     "text": [
      "['air', 'earth', 'fire', 'water']\n",
      "['water', 'fire', 'earth', 'air']\n"
     ]
    }
   ],
   "source": [
    "elements = ['fire','air','water','earth']\n",
    "elements.sort()\n",
    "print(elements)\n",
    "elements.sort(reverse=True)\n",
    "print(elements)"
   ]
  },
  {
   "cell_type": "markdown",
   "id": "c98c1300",
   "metadata": {},
   "source": [
    "### Generate a sorted copy of a list"
   ]
  },
  {
   "cell_type": "code",
   "execution_count": 11,
   "id": "edcc10db",
   "metadata": {},
   "outputs": [
    {
     "name": "stdout",
     "output_type": "stream",
     "text": [
      "Original: ['fire', 'air', 'water', 'earth']\n",
      "Sorted: ['air', 'earth', 'fire', 'water']\n",
      "Reverese Sorted: ['water', 'fire', 'earth', 'air']\n"
     ]
    }
   ],
   "source": [
    "elements = ['fire','air','water','earth']\n",
    "elements_sorted=sorted(elements)\n",
    "elements_revsorted=sorted(elements, reverse=True)\n",
    "print('Original:', elements)\n",
    "print('Sorted:',elements_sorted)\n",
    "print('Reverese Sorted:',elements_revsorted)"
   ]
  },
  {
   "cell_type": "markdown",
   "id": "8a74f4d4",
   "metadata": {},
   "source": [
    "### Reverse a list in place"
   ]
  },
  {
   "cell_type": "code",
   "execution_count": 12,
   "id": "3181112d",
   "metadata": {},
   "outputs": [
    {
     "name": "stdout",
     "output_type": "stream",
     "text": [
      "['earth', 'water', 'air', 'fire']\n"
     ]
    }
   ],
   "source": [
    "elements = ['fire','air','water','earth']\n",
    "elements.reverse()\n",
    "print(elements)"
   ]
  },
  {
   "cell_type": "markdown",
   "id": "51adc403",
   "metadata": {},
   "source": [
    "### Get the length of a list"
   ]
  },
  {
   "cell_type": "code",
   "execution_count": 15,
   "id": "09bdf923",
   "metadata": {},
   "outputs": [
    {
     "data": {
      "text/plain": [
       "6"
      ]
     },
     "execution_count": 15,
     "metadata": {},
     "output_type": "execute_result"
    }
   ],
   "source": [
    "values = [2.1,4,55,5.4,3,6]\n",
    "n = len(values)\n",
    "n"
   ]
  },
  {
   "cell_type": "markdown",
   "id": "52e73aba",
   "metadata": {},
   "source": [
    "### Looping through a list - for loop"
   ]
  },
  {
   "cell_type": "code",
   "execution_count": 32,
   "id": "4eceef28",
   "metadata": {},
   "outputs": [
    {
     "name": "stdout",
     "output_type": "stream",
     "text": [
      "List of members:\n",
      "\tDave\n",
      "\tJane\n",
      "\tcarrol\n",
      "done\n"
     ]
    }
   ],
   "source": [
    "members=['Dave','Jane','carrol']\n",
    "print('List of members:')\n",
    "for member in members:\n",
    "    print(f'\\t{member}')\n",
    "print('done')"
   ]
  },
  {
   "cell_type": "markdown",
   "id": "63f7d3c2",
   "metadata": {},
   "source": [
    "**Get average and std deviation**"
   ]
  },
  {
   "cell_type": "code",
   "execution_count": 2,
   "id": "b3fc6c18",
   "metadata": {},
   "outputs": [
    {
     "name": "stdout",
     "output_type": "stream",
     "text": [
      "8.66 +/- 3.7425125250291416\n"
     ]
    }
   ],
   "source": [
    "numbers=[3.5,6.1,7.9,12.5,13.3]\n",
    "sum_=0\n",
    "sum_sq=0\n",
    "for number in numbers:\n",
    "    sum_ += number #same as sum_=sum_+number\n",
    "    sum_sq +=number*number\n",
    "n = len(numbers)\n",
    "avg = sum_/n\n",
    "avg_sq=sum_sq/n\n",
    "dev= (avg_sq-avg*avg)**0.5\n",
    "print(f'{avg} +/- {dev}')"
   ]
  },
  {
   "cell_type": "markdown",
   "id": "71fb8432",
   "metadata": {},
   "source": [
    "### Range() function"
   ]
  },
  {
   "cell_type": "code",
   "execution_count": 40,
   "id": "5778219a",
   "metadata": {},
   "outputs": [
    {
     "name": "stdout",
     "output_type": "stream",
     "text": [
      "0 0 0\n",
      "1 1 2\n",
      "2 4 4\n",
      "3 9 6\n",
      "4 16 8\n",
      "5 25 10\n",
      "6 36 12\n",
      "7 49 14\n",
      "8 64 16\n",
      "9 81 18\n",
      "10 100 20\n"
     ]
    }
   ],
   "source": [
    "for n in range(11):\n",
    "    print(n, n*n,n+n)"
   ]
  },
  {
   "cell_type": "code",
   "execution_count": 37,
   "id": "47bc75f2",
   "metadata": {},
   "outputs": [
    {
     "data": {
      "text/plain": [
       "[0, 1, 2, 3, 4, 5, 6, 7, 8, 9]"
      ]
     },
     "execution_count": 37,
     "metadata": {},
     "output_type": "execute_result"
    }
   ],
   "source": [
    "list(range(10))"
   ]
  },
  {
   "cell_type": "code",
   "execution_count": 41,
   "id": "d44a6340",
   "metadata": {},
   "outputs": [
    {
     "data": {
      "text/plain": [
       "[3, 4, 5, 6, 7, 8, 9, 10]"
      ]
     },
     "execution_count": 41,
     "metadata": {},
     "output_type": "execute_result"
    }
   ],
   "source": [
    "list(range(3,11))"
   ]
  },
  {
   "cell_type": "code",
   "execution_count": 42,
   "id": "04d5b2d3",
   "metadata": {},
   "outputs": [
    {
     "data": {
      "text/plain": [
       "[3, 5, 7, 9]"
      ]
     },
     "execution_count": 42,
     "metadata": {},
     "output_type": "execute_result"
    }
   ],
   "source": [
    "list(range(3,11,2))"
   ]
  },
  {
   "cell_type": "markdown",
   "id": "6065f12c",
   "metadata": {},
   "source": [
    "### Cast string into list"
   ]
  },
  {
   "cell_type": "code",
   "execution_count": 1,
   "id": "95c11c1d",
   "metadata": {},
   "outputs": [
    {
     "data": {
      "text/plain": [
       "['C', 'h', 'e', 'm', 'i', 's', 't', 'r', 'y']"
      ]
     },
     "execution_count": 1,
     "metadata": {},
     "output_type": "execute_result"
    }
   ],
   "source": [
    "chem =\"Chemistry\"\n",
    "chem_list= list(chem)\n",
    "chem_list"
   ]
  },
  {
   "cell_type": "code",
   "execution_count": 4,
   "id": "f61a2309",
   "metadata": {},
   "outputs": [
    {
     "data": {
      "text/plain": [
       "['C', 'h', 'e', 'm', 'i', 's', 't', 'r', 'y']"
      ]
     },
     "execution_count": 4,
     "metadata": {},
     "output_type": "execute_result"
    }
   ],
   "source": [
    "list('Chemistry')"
   ]
  },
  {
   "cell_type": "markdown",
   "id": "64025773",
   "metadata": {},
   "source": [
    "### Loop through list by index \n"
   ]
  },
  {
   "cell_type": "code",
   "execution_count": 6,
   "id": "998084f6",
   "metadata": {},
   "outputs": [
    {
     "name": "stdout",
     "output_type": "stream",
     "text": [
      "0 C\n",
      "1 h\n",
      "2 e\n",
      "3 m\n",
      "4 i\n",
      "5 s\n",
      "6 t\n",
      "7 r\n",
      "8 y\n"
     ]
    }
   ],
   "source": [
    "chem=list('Chemistry')\n",
    "for i in range(len(chem)):\n",
    "    print(i, chem[i])"
   ]
  },
  {
   "cell_type": "code",
   "execution_count": 11,
   "id": "b91466cd",
   "metadata": {},
   "outputs": [
    {
     "name": "stdout",
     "output_type": "stream",
     "text": [
      "0 C\n",
      "1 h\n",
      "2 e\n",
      "3 m\n",
      "4 i\n",
      "5 s\n",
      "6 t\n",
      "7 r\n",
      "8 y\n"
     ]
    }
   ],
   "source": [
    "chem = list('Chemistry')\n",
    "i=0\n",
    "for c in chem:\n",
    "    print(i,c)\n",
    "    i+=1"
   ]
  },
  {
   "cell_type": "markdown",
   "id": "4748af95",
   "metadata": {},
   "source": [
    "### 'Advanced' way: Use enumerate function "
   ]
  },
  {
   "cell_type": "code",
   "execution_count": 12,
   "id": "3b2401ef",
   "metadata": {},
   "outputs": [
    {
     "name": "stdout",
     "output_type": "stream",
     "text": [
      "0 C\n",
      "1 h\n",
      "2 e\n",
      "3 m\n",
      "4 i\n",
      "5 s\n",
      "6 t\n",
      "7 r\n",
      "8 y\n"
     ]
    }
   ],
   "source": [
    "chem=list('Chemistry')\n",
    "for (i,c) in enumerate(chem):\n",
    "    print(i,c)"
   ]
  },
  {
   "cell_type": "code",
   "execution_count": 13,
   "id": "9c35f458",
   "metadata": {},
   "outputs": [
    {
     "data": {
      "text/plain": [
       "[(0, 'C'),\n",
       " (1, 'h'),\n",
       " (2, 'e'),\n",
       " (3, 'm'),\n",
       " (4, 'i'),\n",
       " (5, 's'),\n",
       " (6, 't'),\n",
       " (7, 'r'),\n",
       " (8, 'y')]"
      ]
     },
     "execution_count": 13,
     "metadata": {},
     "output_type": "execute_result"
    }
   ],
   "source": [
    "list(enumerate(chem))"
   ]
  },
  {
   "cell_type": "code",
   "execution_count": 14,
   "id": "65939e38",
   "metadata": {},
   "outputs": [
    {
     "name": "stdout",
     "output_type": "stream",
     "text": [
      "Help on class enumerate in module builtins:\n",
      "\n",
      "class enumerate(object)\n",
      " |  enumerate(iterable, start=0)\n",
      " |  \n",
      " |  Return an enumerate object.\n",
      " |  \n",
      " |    iterable\n",
      " |      an object supporting iteration\n",
      " |  \n",
      " |  The enumerate object yields pairs containing a count (from start, which\n",
      " |  defaults to zero) and a value yielded by the iterable argument.\n",
      " |  \n",
      " |  enumerate is useful for obtaining an indexed list:\n",
      " |      (0, seq[0]), (1, seq[1]), (2, seq[2]), ...\n",
      " |  \n",
      " |  Methods defined here:\n",
      " |  \n",
      " |  __getattribute__(self, name, /)\n",
      " |      Return getattr(self, name).\n",
      " |  \n",
      " |  __iter__(self, /)\n",
      " |      Implement iter(self).\n",
      " |  \n",
      " |  __next__(self, /)\n",
      " |      Implement next(self).\n",
      " |  \n",
      " |  __reduce__(...)\n",
      " |      Return state information for pickling.\n",
      " |  \n",
      " |  ----------------------------------------------------------------------\n",
      " |  Class methods defined here:\n",
      " |  \n",
      " |  __class_getitem__(...) from builtins.type\n",
      " |      See PEP 585\n",
      " |  \n",
      " |  ----------------------------------------------------------------------\n",
      " |  Static methods defined here:\n",
      " |  \n",
      " |  __new__(*args, **kwargs) from builtins.type\n",
      " |      Create and return a new object.  See help(type) for accurate signature.\n",
      "\n"
     ]
    }
   ],
   "source": [
    "help(enumerate)"
   ]
  },
  {
   "cell_type": "markdown",
   "id": "7b4dc13f",
   "metadata": {},
   "source": [
    "### List comprehension "
   ]
  },
  {
   "cell_type": "code",
   "execution_count": 15,
   "id": "961ab7f8",
   "metadata": {},
   "outputs": [
    {
     "data": {
      "text/plain": [
       "[0, 1, 4, 9, 16, 25, 36, 49, 64, 81, 100]"
      ]
     },
     "execution_count": 15,
     "metadata": {},
     "output_type": "execute_result"
    }
   ],
   "source": [
    "square=[]\n",
    "for i in range(11):\n",
    "    square.append(i*i)\n",
    "square"
   ]
  },
  {
   "cell_type": "code",
   "execution_count": 19,
   "id": "9fc3a5c1",
   "metadata": {},
   "outputs": [
    {
     "data": {
      "text/plain": [
       "[0, 1, 4, 9, 16, 25, 36, 49, 64, 81, 100]"
      ]
     },
     "execution_count": 19,
     "metadata": {},
     "output_type": "execute_result"
    }
   ],
   "source": [
    "squares=[i*i for i in range(11)]\n",
    "squares"
   ]
  },
  {
   "cell_type": "markdown",
   "id": "03f46a55",
   "metadata": {},
   "source": [
    "### Assign a new variable to a list, both pointing to the same list"
   ]
  },
  {
   "cell_type": "code",
   "execution_count": 21,
   "id": "4cb00565",
   "metadata": {},
   "outputs": [
    {
     "name": "stdout",
     "output_type": "stream",
     "text": [
      "y= [5, 2, 3]\n",
      "x= [5, 2, 3]\n"
     ]
    }
   ],
   "source": [
    "x=[1,2,3]\n",
    "y=x\n",
    "y[0]=5\n",
    "print('y=',y)\n",
    "print('x=',x)\n",
    "#changing the y won't give an independent list, must assign a copy of it"
   ]
  },
  {
   "cell_type": "markdown",
   "id": "12bc2d9c",
   "metadata": {},
   "source": [
    "**Making a copy of list to modify**"
   ]
  },
  {
   "cell_type": "code",
   "execution_count": 22,
   "id": "1045d6ce",
   "metadata": {},
   "outputs": [
    {
     "name": "stdout",
     "output_type": "stream",
     "text": [
      "y= [5, 2, 3]\n",
      "x= [1, 2, 3]\n"
     ]
    }
   ],
   "source": [
    "x=[1,2,3]\n",
    "y=x.copy()\n",
    "y[0]=5\n",
    "print('y=',y)\n",
    "print('x=',x)"
   ]
  },
  {
   "cell_type": "markdown",
   "id": "3971ab1c",
   "metadata": {},
   "source": [
    "### Split string into list of string parts"
   ]
  },
  {
   "cell_type": "code",
   "execution_count": 11,
   "id": "299b41c9",
   "metadata": {},
   "outputs": [
    {
     "name": "stdout",
     "output_type": "stream",
     "text": [
      "mike\n",
      "eli\n",
      "charlie\n",
      "martina\n"
     ]
    }
   ],
   "source": [
    "players='mike eli charlie martina'.split()\n",
    "for player in players:\n",
    "    print(player)\n"
   ]
  },
  {
   "cell_type": "markdown",
   "id": "e77c6045",
   "metadata": {},
   "source": [
    "### Split a TAB delimited line read from a file"
   ]
  },
  {
   "cell_type": "code",
   "execution_count": 8,
   "id": "325fa3a0",
   "metadata": {},
   "outputs": [
    {
     "data": {
      "text/plain": [
       "['mike', 'eli', 'charlie', 'john']"
      ]
     },
     "execution_count": 8,
     "metadata": {},
     "output_type": "execute_result"
    }
   ],
   "source": [
    "line='mike\\teli\\tcharlie\\tjohn\\n'\n",
    "players=line.split()\n",
    "players"
   ]
  },
  {
   "cell_type": "markdown",
   "id": "cad5a610",
   "metadata": {},
   "source": [
    "### Split comma delimited line from file"
   ]
  },
  {
   "cell_type": "code",
   "execution_count": 19,
   "id": "43de0c7c",
   "metadata": {},
   "outputs": [
    {
     "name": "stdout",
     "output_type": "stream",
     "text": [
      "mike\n",
      "jay\n",
      "ron\n",
      "frank\n",
      "\n",
      "done\n"
     ]
    }
   ],
   "source": [
    "line='mike,jay,ron,frank\\n'\n",
    "players=line.split(',')\n",
    "for player in players:\n",
    "    print(player)\n",
    "print('done')"
   ]
  },
  {
   "cell_type": "code",
   "execution_count": 20,
   "id": "35e5fd9a",
   "metadata": {},
   "outputs": [
    {
     "name": "stdout",
     "output_type": "stream",
     "text": [
      "mike\n",
      "jay\n",
      "ron\n",
      "frank\n",
      "done\n"
     ]
    }
   ],
   "source": [
    "line='mike,jay,ron,frank\\n'\n",
    "players=line.strip().split(',')\n",
    "for player in players:\n",
    "    print(player)\n",
    "print('done')"
   ]
  },
  {
   "cell_type": "code",
   "execution_count": 22,
   "id": "5cc7e9ff",
   "metadata": {},
   "outputs": [
    {
     "name": "stdout",
     "output_type": "stream",
     "text": [
      "Enter a year:2000\n",
      "The year of 2000 is horse year.\n"
     ]
    }
   ],
   "source": [
    "#animals of chinese year\n",
    "\n",
    "year=int(input('Enter a year:'))\n",
    "i = year%12\n",
    "animals='monkey rooster duck pig rat ox'\n",
    "animals +='tiger rabbit snake horse sheep'\n",
    "chinesezodiacs=animals.split()\n",
    "print(f'The year of {year} is {chinesezodiacs[i]} year.')\n"
   ]
  },
  {
   "cell_type": "markdown",
   "id": "396092aa",
   "metadata": {},
   "source": [
    "### Assemble string parts into a string"
   ]
  },
  {
   "cell_type": "code",
   "execution_count": 25,
   "id": "0eeaedca",
   "metadata": {},
   "outputs": [
    {
     "name": "stdout",
     "output_type": "stream",
     "text": [
      "mike,eli,charlie,martina\n",
      "\n"
     ]
    }
   ],
   "source": [
    "players='mike eli charlie martina'.split()\n",
    "csv_line=','.join(players)+ '\\n'\n",
    "print(csv_line)"
   ]
  },
  {
   "cell_type": "code",
   "execution_count": 26,
   "id": "d8ec51a9",
   "metadata": {},
   "outputs": [
    {
     "name": "stdout",
     "output_type": "stream",
     "text": [
      "['c', 'h', 'e', 'm', 'i', 's', 't', 'r', 'y']\n",
      "chemistry\n"
     ]
    }
   ],
   "source": [
    "chem=list('Chemistry')\n",
    "chem[0]='c'\n",
    "chem_str=''.join(chem)\n",
    "print(chem)\n",
    "print(chem_str)"
   ]
  },
  {
   "cell_type": "markdown",
   "id": "4ff216d2",
   "metadata": {},
   "source": [
    "### Slicing list"
   ]
  },
  {
   "cell_type": "code",
   "execution_count": 28,
   "id": "4db65d74",
   "metadata": {},
   "outputs": [
    {
     "name": "stdout",
     "output_type": "stream",
     "text": [
      "['eli', 'john', 'mike', 'paul', 'berry', 'tom']\n"
     ]
    },
    {
     "data": {
      "text/plain": [
       "['eli', 'john', 'mike']"
      ]
     },
     "execution_count": 28,
     "metadata": {},
     "output_type": "execute_result"
    }
   ],
   "source": [
    "players='eli john mike paul berry tom'.split()\n",
    "print(players)\n",
    "players[0:3]"
   ]
  },
  {
   "cell_type": "code",
   "execution_count": 29,
   "id": "1ad66da8",
   "metadata": {},
   "outputs": [
    {
     "name": "stdout",
     "output_type": "stream",
     "text": [
      "['mary', 'john', 'mike']\n",
      "['eli', 'john', 'mike', 'paul', 'berry', 'tom']\n"
     ]
    }
   ],
   "source": [
    "pl = players[0:3]\n",
    "pl[0]='mary'\n",
    "print(pl)\n",
    "print(players)"
   ]
  },
  {
   "cell_type": "code",
   "execution_count": 30,
   "id": "37a1d8ff",
   "metadata": {},
   "outputs": [
    {
     "name": "stdout",
     "output_type": "stream",
     "text": [
      "['eli', 'mike', 'paul', 'berry']\n"
     ]
    }
   ],
   "source": [
    "short_list=players[:]  #same as players.copy()\n",
    "short_list.remove('john')\n",
    "short_list.remove('tom')\n",
    "print(short_list)"
   ]
  },
  {
   "cell_type": "markdown",
   "id": "0e099d05",
   "metadata": {},
   "source": [
    "### Tuple, a list that cannont change in place-immutable list"
   ]
  },
  {
   "cell_type": "code",
   "execution_count": 31,
   "id": "067960d1",
   "metadata": {},
   "outputs": [
    {
     "name": "stdout",
     "output_type": "stream",
     "text": [
      "1.5 3.6\n"
     ]
    }
   ],
   "source": [
    "point = (1.5,3.6)\n",
    "x=point[0]\n",
    "y=point[1]\n",
    "print(x,y)"
   ]
  },
  {
   "cell_type": "code",
   "execution_count": 34,
   "id": "18e954cb",
   "metadata": {},
   "outputs": [
    {
     "ename": "TypeError",
     "evalue": "'tuple' object does not support item assignment",
     "output_type": "error",
     "traceback": [
      "\u001b[1;31m---------------------------------------------------------------------------\u001b[0m",
      "\u001b[1;31mTypeError\u001b[0m                                 Traceback (most recent call last)",
      "\u001b[1;32mC:\\Users\\VALUED~1\\AppData\\Local\\Temp/ipykernel_8160/2272546054.py\u001b[0m in \u001b[0;36m<module>\u001b[1;34m\u001b[0m\n\u001b[0;32m      1\u001b[0m \u001b[0mpoint\u001b[0m\u001b[1;33m=\u001b[0m\u001b[1;33m(\u001b[0m\u001b[1;36m1\u001b[0m\u001b[1;33m,\u001b[0m\u001b[1;36m2\u001b[0m\u001b[1;33m)\u001b[0m\u001b[1;33m\u001b[0m\u001b[1;33m\u001b[0m\u001b[0m\n\u001b[1;32m----> 2\u001b[1;33m \u001b[0mpoint\u001b[0m\u001b[1;33m[\u001b[0m\u001b[1;36m0\u001b[0m\u001b[1;33m]\u001b[0m \u001b[1;33m=\u001b[0m \u001b[1;36m3\u001b[0m\u001b[1;33m\u001b[0m\u001b[1;33m\u001b[0m\u001b[0m\n\u001b[0m\u001b[0;32m      3\u001b[0m \u001b[0mpoint\u001b[0m\u001b[1;33m\u001b[0m\u001b[1;33m\u001b[0m\u001b[0m\n",
      "\u001b[1;31mTypeError\u001b[0m: 'tuple' object does not support item assignment"
     ]
    }
   ],
   "source": [
    "point=(1,2)\n",
    "point[0] = 3\n",
    "point"
   ]
  },
  {
   "cell_type": "code",
   "execution_count": 35,
   "id": "b3c334ac",
   "metadata": {},
   "outputs": [
    {
     "data": {
      "text/plain": [
       "[3, 2]"
      ]
     },
     "execution_count": 35,
     "metadata": {},
     "output_type": "execute_result"
    }
   ],
   "source": [
    "point=[1,2]\n",
    "point[0] = 3\n",
    "point"
   ]
  },
  {
   "cell_type": "markdown",
   "id": "dc049430",
   "metadata": {},
   "source": [
    "### Set - collection with no duplicate items"
   ]
  },
  {
   "cell_type": "code",
   "execution_count": 37,
   "id": "8304f1bf",
   "metadata": {},
   "outputs": [
    {
     "data": {
      "text/plain": [
       "{1, 2, 3, 4, 7, 8, 77, 99}"
      ]
     },
     "execution_count": 37,
     "metadata": {},
     "output_type": "execute_result"
    }
   ],
   "source": [
    "numbers={1,1,3,3,4,4,4,2,2,4,8,99,77,7}\n",
    "numbers"
   ]
  },
  {
   "cell_type": "code",
   "execution_count": 38,
   "id": "895557b5",
   "metadata": {},
   "outputs": [
    {
     "data": {
      "text/plain": [
       "[1, 2, 3, 4]"
      ]
     },
     "execution_count": 38,
     "metadata": {},
     "output_type": "execute_result"
    }
   ],
   "source": [
    "numbers=[1,1,2,2,3,3,4,4]\n",
    "numbers=list(set(numbers))\n",
    "numbers"
   ]
  },
  {
   "cell_type": "code",
   "execution_count": null,
   "id": "71dc359c",
   "metadata": {},
   "outputs": [],
   "source": []
  },
  {
   "cell_type": "code",
   "execution_count": 7,
   "id": "67c401c8",
   "metadata": {},
   "outputs": [
    {
     "ename": "TypeError",
     "evalue": "can only concatenate tuple (not \"int\") to tuple",
     "output_type": "error",
     "traceback": [
      "\u001b[1;31m---------------------------------------------------------------------------\u001b[0m",
      "\u001b[1;31mTypeError\u001b[0m                                 Traceback (most recent call last)",
      "\u001b[1;32m<ipython-input-7-047fbec83333>\u001b[0m in \u001b[0;36m<module>\u001b[1;34m\u001b[0m\n\u001b[0;32m     10\u001b[0m \u001b[0mr1\u001b[0m\u001b[1;33m=\u001b[0m\u001b[1;33m(\u001b[0m\u001b[1;33m-\u001b[0m\u001b[1;36m1\u001b[0m\u001b[1;33m,\u001b[0m\u001b[1;36m1\u001b[0m\u001b[1;33m,\u001b[0m\u001b[1;36m5\u001b[0m\u001b[1;33m)\u001b[0m\u001b[1;33m\u001b[0m\u001b[1;33m\u001b[0m\u001b[0m\n\u001b[0;32m     11\u001b[0m \u001b[0mr2\u001b[0m\u001b[1;33m=\u001b[0m\u001b[1;33m(\u001b[0m\u001b[1;36m1\u001b[0m\u001b[1;33m,\u001b[0m\u001b[1;36m5\u001b[0m\u001b[1;33m,\u001b[0m\u001b[1;36m8\u001b[0m\u001b[1;33m)\u001b[0m\u001b[1;33m\u001b[0m\u001b[1;33m\u001b[0m\u001b[0m\n\u001b[1;32m---> 12\u001b[1;33m \u001b[0mprint\u001b[0m\u001b[1;33m(\u001b[0m\u001b[0mcreateList\u001b[0m\u001b[1;33m(\u001b[0m\u001b[0mr1\u001b[0m\u001b[1;33m,\u001b[0m\u001b[0mr2\u001b[0m\u001b[1;33m)\u001b[0m\u001b[1;33m)\u001b[0m\u001b[1;33m\u001b[0m\u001b[1;33m\u001b[0m\u001b[0m\n\u001b[0m",
      "\u001b[1;32m<ipython-input-7-047fbec83333>\u001b[0m in \u001b[0;36mcreateList\u001b[1;34m(r1, r2)\u001b[0m\n\u001b[0;32m      4\u001b[0m     \u001b[1;32melse\u001b[0m\u001b[1;33m:\u001b[0m\u001b[1;33m\u001b[0m\u001b[1;33m\u001b[0m\u001b[0m\n\u001b[0;32m      5\u001b[0m         \u001b[0mres\u001b[0m\u001b[1;33m=\u001b[0m\u001b[1;33m[\u001b[0m\u001b[1;33m]\u001b[0m\u001b[1;33m\u001b[0m\u001b[1;33m\u001b[0m\u001b[0m\n\u001b[1;32m----> 6\u001b[1;33m         \u001b[1;32mwhile\u001b[0m\u001b[1;33m(\u001b[0m\u001b[0mr1\u001b[0m\u001b[1;33m<\u001b[0m\u001b[0mr2\u001b[0m\u001b[1;33m+\u001b[0m\u001b[1;36m1\u001b[0m\u001b[1;33m)\u001b[0m\u001b[1;33m:\u001b[0m\u001b[1;33m\u001b[0m\u001b[1;33m\u001b[0m\u001b[0m\n\u001b[0m\u001b[0;32m      7\u001b[0m             \u001b[0mres\u001b[0m\u001b[1;33m.\u001b[0m\u001b[0mappend\u001b[0m\u001b[1;33m(\u001b[0m\u001b[0mr1\u001b[0m\u001b[1;33m)\u001b[0m\u001b[1;33m\u001b[0m\u001b[1;33m\u001b[0m\u001b[0m\n\u001b[0;32m      8\u001b[0m             \u001b[0mr1\u001b[0m\u001b[1;33m+=\u001b[0m\u001b[1;36m1\u001b[0m\u001b[1;33m\u001b[0m\u001b[1;33m\u001b[0m\u001b[0m\n",
      "\u001b[1;31mTypeError\u001b[0m: can only concatenate tuple (not \"int\") to tuple"
     ]
    }
   ],
   "source": [
    "def createList(r1,r2):\n",
    "    if (r1==r2):\n",
    "        return r1\n",
    "    else:\n",
    "        res=[]\n",
    "        while(r1<r2+1):\n",
    "            res.append(r1)\n",
    "            r1+=1\n",
    "        return res\n",
    "\n",
    "print(createList(r1,r2))"
   ]
  },
  {
   "cell_type": "code",
   "execution_count": null,
   "id": "c61ccba9",
   "metadata": {},
   "outputs": [],
   "source": []
  }
 ],
 "metadata": {
  "kernelspec": {
   "display_name": "Python 3",
   "language": "python",
   "name": "python3"
  },
  "language_info": {
   "codemirror_mode": {
    "name": "ipython",
    "version": 3
   },
   "file_extension": ".py",
   "mimetype": "text/x-python",
   "name": "python",
   "nbconvert_exporter": "python",
   "pygments_lexer": "ipython3",
   "version": "3.8.8"
  }
 },
 "nbformat": 4,
 "nbformat_minor": 5
}
