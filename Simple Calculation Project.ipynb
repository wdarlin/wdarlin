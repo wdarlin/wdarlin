{
 "cells": [
  {
   "cell_type": "markdown",
   "id": "209d42dd",
   "metadata": {},
   "source": [
    "## Run Simple Calculation from Imported Code"
   ]
  },
  {
   "cell_type": "code",
   "execution_count": 3,
   "id": "c3844a9b",
   "metadata": {},
   "outputs": [
    {
     "name": "stdout",
     "output_type": "stream",
     "text": [
      "enter x1 = 2\n",
      "enter x2 = 5\n",
      "enter x3 = 3e-10\n",
      "enter x4 = 4\n",
      "enter x5 = 2\n",
      "The exact result is:5e-10\n",
      "Result rounded in significant figures is :5e-10\n"
     ]
    }
   ],
   "source": [
    "from obs_data import ObsData\n",
    "\n",
    "# verifies the user input \n",
    "def verify_data(user_input):\n",
    "    if 'e' in user_input.lower():\n",
    "        (num, pwr) = user_input.lower().split('e')\n",
    "        num = float(num) \n",
    "        pwr = float(pwr) \n",
    "        value = (num * 10**pwr)\n",
    "    else:\n",
    "        (num, pwr) = (user_input,'0')\n",
    "        num = float(num)\n",
    "        pwr = float(pwr)\n",
    "        value = (num * 10**pwr)\n",
    "    \n",
    "    if type(user_input)== int:\n",
    "        value = int(user_input)\n",
    "    else:\n",
    "        value = float(user_input)\n",
    "    return value\n",
    "\n",
    "# Outputs the exact and raw results\n",
    "def main():\n",
    "    x1 = verify_data(input('enter x1 = '))\n",
    "    x2 = verify_data(input('enter x2 = '))\n",
    "    x3 = verify_data(input('enter x3 = '))\n",
    "    x4 = verify_data(input('enter x4 = '))\n",
    "    x5 = verify_data(input('enter x5 = '))\n",
    "    \n",
    "    # exact result\n",
    "    result_raw = (x1*x2*x3)/(x4+x5) \n",
    "    print(f'The exact result is:{result_raw}')\n",
    "    # result in significant figures\n",
    "    result_sig = eval(\"ObsData(x1)*ObsData(x2)*ObsData(x3)/(ObsData(x4) + ObsData(x5))\")\n",
    "    print(f'Result rounded in significant figures is :{result_sig}')\n",
    "        \n",
    "if __name__ == '__main__':\n",
    "    main()\n",
    "\n"
   ]
  },
  {
   "cell_type": "code",
   "execution_count": null,
   "id": "2288ebea",
   "metadata": {},
   "outputs": [],
   "source": []
  },
  {
   "cell_type": "code",
   "execution_count": null,
   "id": "014a8535",
   "metadata": {},
   "outputs": [],
   "source": []
  },
  {
   "cell_type": "code",
   "execution_count": null,
   "id": "39405e9b",
   "metadata": {},
   "outputs": [],
   "source": []
  },
  {
   "cell_type": "code",
   "execution_count": null,
   "id": "38b77c7c",
   "metadata": {},
   "outputs": [],
   "source": []
  },
  {
   "cell_type": "code",
   "execution_count": null,
   "id": "256197d0",
   "metadata": {},
   "outputs": [],
   "source": []
  }
 ],
 "metadata": {
  "kernelspec": {
   "display_name": "Python 3 (ipykernel)",
   "language": "python",
   "name": "python3"
  },
  "language_info": {
   "codemirror_mode": {
    "name": "ipython",
    "version": 3
   },
   "file_extension": ".py",
   "mimetype": "text/x-python",
   "name": "python",
   "nbconvert_exporter": "python",
   "pygments_lexer": "ipython3",
   "version": "3.9.7"
  }
 },
 "nbformat": 4,
 "nbformat_minor": 5
}
