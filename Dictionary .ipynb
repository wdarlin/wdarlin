{
 "cells": [
  {
   "cell_type": "markdown",
   "id": "7086bf37",
   "metadata": {},
   "source": [
    "## Dictionary: Key-value pairs"
   ]
  },
  {
   "cell_type": "code",
   "execution_count": 1,
   "id": "a3b55a4e",
   "metadata": {},
   "outputs": [
    {
     "data": {
      "text/plain": [
       "'H'"
      ]
     },
     "execution_count": 1,
     "metadata": {},
     "output_type": "execute_result"
    }
   ],
   "source": [
    "hydrogen= {'symbol':'H','weight':1.0008}\n",
    "hydrogen['symbol']"
   ]
  },
  {
   "cell_type": "code",
   "execution_count": 2,
   "id": "e074c3b3",
   "metadata": {},
   "outputs": [
    {
     "data": {
      "text/plain": [
       "1.0008"
      ]
     },
     "execution_count": 2,
     "metadata": {},
     "output_type": "execute_result"
    }
   ],
   "source": [
    "hydrogen['weight']"
   ]
  },
  {
   "cell_type": "code",
   "execution_count": 3,
   "id": "fe99642b",
   "metadata": {},
   "outputs": [
    {
     "name": "stdout",
     "output_type": "stream",
     "text": [
      "The atomic weight of H is 1.0008.\n"
     ]
    }
   ],
   "source": [
    "print(f\"The atomic weight of {hydrogen['symbol']} is {hydrogen['weight']}.\")"
   ]
  },
  {
   "cell_type": "markdown",
   "id": "05ff9b1e",
   "metadata": {},
   "source": [
    "### Alternative way to build dictionary "
   ]
  },
  {
   "cell_type": "code",
   "execution_count": 4,
   "id": "9efe2a27",
   "metadata": {},
   "outputs": [
    {
     "data": {
      "text/plain": [
       "{'name': 'hydrogen', 'symbol': 'H', 'weight': 1.008}"
      ]
     },
     "execution_count": 4,
     "metadata": {},
     "output_type": "execute_result"
    }
   ],
   "source": [
    "element={}\n",
    "element['name']='hydrogen'\n",
    "element['symbol']='H'\n",
    "element['weight']=1.008\n",
    "element"
   ]
  },
  {
   "cell_type": "markdown",
   "id": "7bfce426",
   "metadata": {},
   "source": [
    "### Like lists\n",
    "* assign a dictionary to a new variable\n",
    "* both variables will refer to the same dictionary \n",
    "* if you change one, the other will change also\n",
    "* to avoid changes, must assign a copy of the dictionary"
   ]
  },
  {
   "cell_type": "code",
   "execution_count": 5,
   "id": "42c43533",
   "metadata": {},
   "outputs": [
    {
     "name": "stdout",
     "output_type": "stream",
     "text": [
      "{'p': [1, 'atm'], 't': [400, 'k'], 'n': [2, 'mole']}\n",
      "{'p': [1, 'atm'], 't': [400, 'k'], 'n': [2, 'mole']}\n"
     ]
    }
   ],
   "source": [
    "state1 = {'p':[1,'atm'],\n",
    "         't':[298,'k'],\n",
    "         'n':[2,'mole'],}\n",
    "state2= state1\n",
    "state2['t'][0]= 400\n",
    "print(state1)\n",
    "print(state2)"
   ]
  },
  {
   "cell_type": "code",
   "execution_count": 12,
   "id": "d2ea3f86",
   "metadata": {},
   "outputs": [
    {
     "name": "stdout",
     "output_type": "stream",
     "text": [
      "{'p': [1, 'atm'], 't': [298, 'k'], 'n': [2, 'mole']}\n",
      "{'p': [1, 'atm'], 't': [400, 'k'], 'n': [2, 'mole']}\n"
     ]
    }
   ],
   "source": [
    "state1 = {'p':[1,'atm'],\n",
    "         't':[298,'k'],\n",
    "         'n':[2,'mole'],}\n",
    "state2= state1.copy()\n",
    "state2['t']= [400,\"k\"] ###special case, have to copy the list when doing copy.\n",
    "print(state1)\n",
    "print(state2)"
   ]
  },
  {
   "cell_type": "markdown",
   "id": "b7cf10e2",
   "metadata": {},
   "source": [
    "### Undefined-Key, KeyError exception"
   ]
  },
  {
   "cell_type": "code",
   "execution_count": 13,
   "id": "ec60b5dc",
   "metadata": {},
   "outputs": [
    {
     "ename": "KeyError",
     "evalue": "'weight'",
     "output_type": "error",
     "traceback": [
      "\u001b[1;31m---------------------------------------------------------------------------\u001b[0m",
      "\u001b[1;31mKeyError\u001b[0m                                  Traceback (most recent call last)",
      "\u001b[1;32mC:\\Users\\VALUED~1\\AppData\\Local\\Temp/ipykernel_9180/1985379244.py\u001b[0m in \u001b[0;36m<module>\u001b[1;34m\u001b[0m\n\u001b[0;32m      1\u001b[0m \u001b[0melement\u001b[0m\u001b[1;33m=\u001b[0m\u001b[1;33m{\u001b[0m\u001b[1;34m'symbol'\u001b[0m\u001b[1;33m:\u001b[0m\u001b[1;34m'k'\u001b[0m\u001b[1;33m,\u001b[0m\u001b[1;34m'name'\u001b[0m\u001b[1;33m:\u001b[0m\u001b[1;34m'potassium'\u001b[0m\u001b[1;33m}\u001b[0m\u001b[1;33m\u001b[0m\u001b[1;33m\u001b[0m\u001b[0m\n\u001b[1;32m----> 2\u001b[1;33m \u001b[0melement\u001b[0m\u001b[1;33m[\u001b[0m\u001b[1;34m'weight'\u001b[0m\u001b[1;33m]\u001b[0m\u001b[1;33m\u001b[0m\u001b[1;33m\u001b[0m\u001b[0m\n\u001b[0m",
      "\u001b[1;31mKeyError\u001b[0m: 'weight'"
     ]
    }
   ],
   "source": [
    "element={'symbol':'k','name':'potassium'}\n",
    "element['weight']"
   ]
  },
  {
   "cell_type": "markdown",
   "id": "e86e00ab",
   "metadata": {},
   "source": [
    "#### Undefined Key - Use get() function, without modifying dictionary"
   ]
  },
  {
   "cell_type": "code",
   "execution_count": 17,
   "id": "208558de",
   "metadata": {},
   "outputs": [
    {
     "name": "stdout",
     "output_type": "stream",
     "text": [
      "undefined\n"
     ]
    }
   ],
   "source": [
    "element={'symbol':'k','name':'potassium'}\n",
    "print(element.get('weight','undefined'))"
   ]
  },
  {
   "cell_type": "code",
   "execution_count": 18,
   "id": "b23d7035",
   "metadata": {},
   "outputs": [
    {
     "name": "stdout",
     "output_type": "stream",
     "text": [
      "k\n"
     ]
    }
   ],
   "source": [
    "element={'symbol':'k','name':'potassium'}\n",
    "print(element.get('symbol','undefined'))"
   ]
  },
  {
   "cell_type": "markdown",
   "id": "b8d63126",
   "metadata": {},
   "source": [
    "#### Undefined Key- Use setdefault(), modifies dictionary"
   ]
  },
  {
   "cell_type": "code",
   "execution_count": 22,
   "id": "01b92059",
   "metadata": {},
   "outputs": [
    {
     "name": "stdout",
     "output_type": "stream",
     "text": [
      "The weight of k is undefined.\n"
     ]
    }
   ],
   "source": [
    "element={'symbol':'k','name':'potassium'}\n",
    "print(f\"The weight of {element['symbol']} is {element.setdefault('weight', 'undefined')}.\")"
   ]
  },
  {
   "cell_type": "code",
   "execution_count": 24,
   "id": "b56c51ab",
   "metadata": {},
   "outputs": [
    {
     "ename": "KeyError",
     "evalue": "'I'",
     "output_type": "error",
     "traceback": [
      "\u001b[1;31m---------------------------------------------------------------------------\u001b[0m",
      "\u001b[1;31mKeyError\u001b[0m                                  Traceback (most recent call last)",
      "\u001b[1;32mC:\\Users\\VALUED~1\\AppData\\Local\\Temp/ipykernel_9180/147907823.py\u001b[0m in \u001b[0;36m<module>\u001b[1;34m\u001b[0m\n\u001b[0;32m      3\u001b[0m \u001b[0mletters\u001b[0m\u001b[1;33m=\u001b[0m\u001b[1;33m{\u001b[0m\u001b[1;33m}\u001b[0m\u001b[1;33m\u001b[0m\u001b[1;33m\u001b[0m\u001b[0m\n\u001b[0;32m      4\u001b[0m \u001b[1;32mfor\u001b[0m \u001b[0mc\u001b[0m \u001b[1;32min\u001b[0m \u001b[0mtext\u001b[0m\u001b[1;33m:\u001b[0m\u001b[1;33m\u001b[0m\u001b[1;33m\u001b[0m\u001b[0m\n\u001b[1;32m----> 5\u001b[1;33m     \u001b[0mletters\u001b[0m\u001b[1;33m[\u001b[0m\u001b[0mc\u001b[0m\u001b[1;33m]\u001b[0m\u001b[1;33m=\u001b[0m\u001b[0mletters\u001b[0m\u001b[1;33m[\u001b[0m\u001b[0mc\u001b[0m\u001b[1;33m]\u001b[0m\u001b[1;33m+\u001b[0m\u001b[1;36m1\u001b[0m\u001b[1;33m\u001b[0m\u001b[1;33m\u001b[0m\u001b[0m\n\u001b[0m\u001b[0;32m      6\u001b[0m \u001b[0mprint\u001b[0m\u001b[1;33m(\u001b[0m\u001b[0mletters\u001b[0m\u001b[1;33m)\u001b[0m\u001b[1;33m\u001b[0m\u001b[1;33m\u001b[0m\u001b[0m\n",
      "\u001b[1;31mKeyError\u001b[0m: 'I'"
     ]
    }
   ],
   "source": [
    "# use setdefault() to count number of letters \n",
    "text='I love python so much, but we aint learnin the cool stuff yet'\n",
    "letters={}\n",
    "for c in text:\n",
    "    letters[c]=letters[c]+1\n",
    "print(letters)"
   ]
  },
  {
   "cell_type": "code",
   "execution_count": 28,
   "id": "bbd0d96c",
   "metadata": {},
   "outputs": [
    {
     "name": "stdout",
     "output_type": "stream",
     "text": [
      "{'I': 1, ' ': 12, 'l': 3, 'o': 5, 'v': 1, 'e': 5, 'p': 1, 'y': 2, 't': 6, 'h': 3, 'n': 4, 's': 2, 'm': 1, 'u': 3, 'c': 2, ',': 1, 'b': 1, 'w': 1, 'a': 2, 'i': 2, 'r': 1, 'f': 2}\n"
     ]
    }
   ],
   "source": [
    "# use setdefault() to count number of letters \n",
    "text='I love python so much, but we aint learnin the cool stuff yet'\n",
    "letters={}\n",
    "for c in text:\n",
    "    letters[c]=letters.setdefault(c,0)+1\n",
    "print(letters)"
   ]
  },
  {
   "cell_type": "markdown",
   "id": "02f7c920",
   "metadata": {},
   "source": [
    "### Unpacking an assignment"
   ]
  },
  {
   "cell_type": "code",
   "execution_count": 29,
   "id": "06004679",
   "metadata": {},
   "outputs": [
    {
     "name": "stdout",
     "output_type": "stream",
     "text": [
      "3.5 5.7\n"
     ]
    }
   ],
   "source": [
    "point=(3.5,5.7)\n",
    "(x,y)=point\n",
    "print(x,y)"
   ]
  },
  {
   "cell_type": "code",
   "execution_count": 30,
   "id": "97d622ad",
   "metadata": {},
   "outputs": [
    {
     "data": {
      "text/plain": [
       "3.5"
      ]
     },
     "execution_count": 30,
     "metadata": {},
     "output_type": "execute_result"
    }
   ],
   "source": [
    "a,b = point\n",
    "a"
   ]
  },
  {
   "cell_type": "code",
   "execution_count": 31,
   "id": "81bc4a0a",
   "metadata": {},
   "outputs": [
    {
     "data": {
      "text/plain": [
       "5.7"
      ]
     },
     "execution_count": 31,
     "metadata": {},
     "output_type": "execute_result"
    }
   ],
   "source": [
    "b"
   ]
  },
  {
   "cell_type": "code",
   "execution_count": 32,
   "id": "367ec483",
   "metadata": {},
   "outputs": [
    {
     "data": {
      "text/plain": [
       "2.4"
      ]
     },
     "execution_count": 32,
     "metadata": {},
     "output_type": "execute_result"
    }
   ],
   "source": [
    "c, d=5.9,2.4\n",
    "d"
   ]
  },
  {
   "cell_type": "markdown",
   "id": "56fd3815",
   "metadata": {},
   "source": [
    "### Items method"
   ]
  },
  {
   "cell_type": "code",
   "execution_count": 34,
   "id": "5358826e",
   "metadata": {},
   "outputs": [
    {
     "data": {
      "text/plain": [
       "dict_items([('a', 2), ('b', 4), ('c', 9)])"
      ]
     },
     "execution_count": 34,
     "metadata": {},
     "output_type": "execute_result"
    }
   ],
   "source": [
    "letters={'a':2,'b':4,'c':9}\n",
    "letters.items()"
   ]
  },
  {
   "cell_type": "markdown",
   "id": "f7c9aef9",
   "metadata": {},
   "source": [
    "### Keys method"
   ]
  },
  {
   "cell_type": "code",
   "execution_count": 35,
   "id": "288a7fe9",
   "metadata": {},
   "outputs": [
    {
     "data": {
      "text/plain": [
       "dict_keys(['a', 'b', 'c'])"
      ]
     },
     "execution_count": 35,
     "metadata": {},
     "output_type": "execute_result"
    }
   ],
   "source": [
    "letters.keys()"
   ]
  },
  {
   "cell_type": "markdown",
   "id": "e4be0807",
   "metadata": {},
   "source": [
    "### Values method"
   ]
  },
  {
   "cell_type": "code",
   "execution_count": 36,
   "id": "f7b2da5c",
   "metadata": {},
   "outputs": [
    {
     "data": {
      "text/plain": [
       "dict_values([2, 4, 9])"
      ]
     },
     "execution_count": 36,
     "metadata": {},
     "output_type": "execute_result"
    }
   ],
   "source": [
    "letters.values()"
   ]
  },
  {
   "cell_type": "markdown",
   "id": "5c5ba510",
   "metadata": {},
   "source": [
    "### Looping by key value pairs"
   ]
  },
  {
   "cell_type": "code",
   "execution_count": 37,
   "id": "383a5b98",
   "metadata": {},
   "outputs": [
    {
     "name": "stdout",
     "output_type": "stream",
     "text": [
      "letter a appers 2 times\n",
      "letter b appers 4 times\n",
      "letter c appers 9 times\n"
     ]
    }
   ],
   "source": [
    "for (c,n) in letters.items():\n",
    "    print(f\"letter {c} appers {n} times\")"
   ]
  },
  {
   "cell_type": "markdown",
   "id": "6e70416a",
   "metadata": {},
   "source": [
    "### Looping by key"
   ]
  },
  {
   "cell_type": "code",
   "execution_count": 1,
   "id": "4a1ca4d7",
   "metadata": {},
   "outputs": [
    {
     "name": "stdout",
     "output_type": "stream",
     "text": [
      "Letter 'a' appears 2 times.\n",
      "Letter 'b' appears 7 times.\n",
      "Letter 'c' appears 3 times.\n"
     ]
    }
   ],
   "source": [
    "letters = {'a':2,'b':7,'c':3}\n",
    "for c in letters.keys():\n",
    "    print(f\"Letter '{c}' appears {letters[c]} times.\")"
   ]
  },
  {
   "cell_type": "markdown",
   "id": "202177e8",
   "metadata": {},
   "source": [
    "### Looping by values"
   ]
  },
  {
   "cell_type": "code",
   "execution_count": 2,
   "id": "90c67055",
   "metadata": {},
   "outputs": [
    {
     "data": {
      "text/plain": [
       "{'a': 2, 'b': 7, 'c': 3}"
      ]
     },
     "execution_count": 2,
     "metadata": {},
     "output_type": "execute_result"
    }
   ],
   "source": [
    "letters"
   ]
  },
  {
   "cell_type": "code",
   "execution_count": 4,
   "id": "24aebef5",
   "metadata": {},
   "outputs": [
    {
     "name": "stdout",
     "output_type": "stream",
     "text": [
      "There are total 12 occirances of letters\n"
     ]
    }
   ],
   "source": [
    "total = 0\n",
    "for n in letters.values():\n",
    "    total += n\n",
    "print(f'There are total {total} occirances of letters')"
   ]
  },
  {
   "cell_type": "code",
   "execution_count": null,
   "id": "2c97bce7",
   "metadata": {},
   "outputs": [],
   "source": []
  }
 ],
 "metadata": {
  "kernelspec": {
   "display_name": "Python 3 (ipykernel)",
   "language": "python",
   "name": "python3"
  },
  "language_info": {
   "codemirror_mode": {
    "name": "ipython",
    "version": 3
   },
   "file_extension": ".py",
   "mimetype": "text/x-python",
   "name": "python",
   "nbconvert_exporter": "python",
   "pygments_lexer": "ipython3",
   "version": "3.9.7"
  }
 },
 "nbformat": 4,
 "nbformat_minor": 5
}
