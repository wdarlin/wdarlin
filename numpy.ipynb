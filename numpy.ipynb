{
 "cells": [
  {
   "cell_type": "code",
   "execution_count": 1,
   "id": "7649b952",
   "metadata": {},
   "outputs": [],
   "source": [
    "import numpy as np"
   ]
  },
  {
   "cell_type": "code",
   "execution_count": 8,
   "id": "707de2b6",
   "metadata": {},
   "outputs": [
    {
     "data": {
      "text/plain": [
       "array([100, 101, 102, 103])"
      ]
     },
     "execution_count": 8,
     "metadata": {},
     "output_type": "execute_result"
    }
   ],
   "source": [
    "a = np.array([100,101,102,103])\n",
    "a"
   ]
  },
  {
   "cell_type": "code",
   "execution_count": 13,
   "id": "55fe5ec8",
   "metadata": {},
   "outputs": [
    {
     "data": {
      "text/plain": [
       "array([1.5, 2. , 2.5, 3. , 3.5, 4. , 4.5, 5. , 5.5, 6. , 6.5, 7. , 7.5,\n",
       "       8. , 8.5, 9. , 9.5])"
      ]
     },
     "execution_count": 13,
     "metadata": {},
     "output_type": "execute_result"
    }
   ],
   "source": [
    "c = np.arange(1.5,10,.5)\n",
    "c"
   ]
  },
  {
   "cell_type": "code",
   "execution_count": 16,
   "id": "bd6fe225",
   "metadata": {},
   "outputs": [
    {
     "data": {
      "text/plain": [
       "array([1.5       , 2.33333333, 3.16666667, 4.        , 4.83333333,\n",
       "       5.66666667, 6.5       , 7.33333333, 8.16666667, 9.        ])"
      ]
     },
     "execution_count": 16,
     "metadata": {},
     "output_type": "execute_result"
    }
   ],
   "source": [
    "d = np.linspace(1.5,9,10)\n",
    "d"
   ]
  },
  {
   "cell_type": "code",
   "execution_count": 17,
   "id": "0cf1d4a7",
   "metadata": {},
   "outputs": [
    {
     "data": {
      "text/plain": [
       "array([0.5       , 1.33333333, 2.16666667, 3.        , 3.83333333,\n",
       "       4.66666667, 5.5       , 6.33333333, 7.16666667, 8.        ])"
      ]
     },
     "execution_count": 17,
     "metadata": {},
     "output_type": "execute_result"
    }
   ],
   "source": [
    "d -1"
   ]
  },
  {
   "cell_type": "code",
   "execution_count": 18,
   "id": "29cbb29d",
   "metadata": {},
   "outputs": [
    {
     "data": {
      "text/plain": [
       "array([ 3.        ,  4.66666667,  6.33333333,  8.        ,  9.66666667,\n",
       "       11.33333333, 13.        , 14.66666667, 16.33333333, 18.        ])"
      ]
     },
     "execution_count": 18,
     "metadata": {},
     "output_type": "execute_result"
    }
   ],
   "source": [
    "d*2"
   ]
  },
  {
   "cell_type": "code",
   "execution_count": 2,
   "id": "fc50ea9d",
   "metadata": {},
   "outputs": [],
   "source": [
    "np.random.seed(42)"
   ]
  },
  {
   "cell_type": "code",
   "execution_count": 3,
   "id": "ad56d9bd",
   "metadata": {},
   "outputs": [
    {
     "data": {
      "text/plain": [
       "array([7, 4, 8, 5, 7])"
      ]
     },
     "execution_count": 3,
     "metadata": {},
     "output_type": "execute_result"
    }
   ],
   "source": [
    "np.random.randint(1,10,5)"
   ]
  },
  {
   "cell_type": "code",
   "execution_count": 4,
   "id": "d646272f",
   "metadata": {},
   "outputs": [
    {
     "data": {
      "text/plain": [
       "array([4.45832753e-01, 9.99749158e-02, 4.59248892e-01, 3.33708611e-01,\n",
       "       1.42866818e-01, 6.50888473e-01, 5.64115790e-02, 7.21998772e-01,\n",
       "       9.38552709e-01, 7.78765841e-04])"
      ]
     },
     "execution_count": 4,
     "metadata": {},
     "output_type": "execute_result"
    }
   ],
   "source": [
    "np.random.random_sample(10)"
   ]
  },
  {
   "cell_type": "markdown",
   "id": "ec16917a",
   "metadata": {},
   "source": [
    "#### Random samples from normal distribution with (mean, std.dev)"
   ]
  },
  {
   "cell_type": "code",
   "execution_count": 5,
   "id": "6388dade",
   "metadata": {},
   "outputs": [
    {
     "data": {
      "text/plain": [
       "array([5.32666619, 4.7866485 , 4.66181911, 5.1590294 , 5.56649468,\n",
       "       4.3784282 , 5.47095752, 5.25841738, 6.66120712, 5.17430534])"
      ]
     },
     "execution_count": 5,
     "metadata": {},
     "output_type": "execute_result"
    }
   ],
   "source": [
    "np.random.normal(loc=5.3,scale=1.2,size=10)"
   ]
  },
  {
   "cell_type": "code",
   "execution_count": 8,
   "id": "1cc631d4",
   "metadata": {},
   "outputs": [
    {
     "data": {
      "text/plain": [
       "array([7.59532553, 2.86793646, 6.64330833, 6.23503116, 3.97868269,\n",
       "       6.65627383, 5.7477427 , 4.83623246, 3.90947571, 5.97933539])"
      ]
     },
     "execution_count": 8,
     "metadata": {},
     "output_type": "execute_result"
    }
   ],
   "source": [
    "mean = 5.3\n",
    "stddev = 1.2\n",
    "size = 10\n",
    "mean + stddev * np.random.randn(size)"
   ]
  },
  {
   "cell_type": "code",
   "execution_count": null,
   "id": "a10ae9a6",
   "metadata": {},
   "outputs": [],
   "source": []
  }
 ],
 "metadata": {
  "kernelspec": {
   "display_name": "Python 3 (ipykernel)",
   "language": "python",
   "name": "python3"
  },
  "language_info": {
   "codemirror_mode": {
    "name": "ipython",
    "version": 3
   },
   "file_extension": ".py",
   "mimetype": "text/x-python",
   "name": "python",
   "nbconvert_exporter": "python",
   "pygments_lexer": "ipython3",
   "version": "3.9.7"
  }
 },
 "nbformat": 4,
 "nbformat_minor": 5
}
