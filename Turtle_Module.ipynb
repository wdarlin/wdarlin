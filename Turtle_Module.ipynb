{
 "cells": [
  {
   "cell_type": "markdown",
   "id": "05b512ef",
   "metadata": {},
   "source": [
    "### Do drawing with Turtle Module"
   ]
  },
  {
   "cell_type": "code",
   "execution_count": 8,
   "id": "83f9316d",
   "metadata": {},
   "outputs": [
    {
     "name": "stdout",
     "output_type": "stream",
     "text": [
      "Overwriting turtle_intro.py\n"
     ]
    }
   ],
   "source": [
    "%%writefile turtle_intro.py\n",
    "\n",
    "import turtle as t\n",
    "(x,y)=(200,200)\n",
    "r = -10\n",
    "font = ('Times',18,'bold')\n",
    "\n",
    "t.write('origin',font=font)\n",
    "\n",
    "t.pensize(3)\n",
    "t.circle(r)\n",
    "\n",
    "t.penup()\n",
    "t.goto(-x,-y)\n",
    "t.write('start',font=font)\n",
    "\n",
    "t.color('red')\n",
    "t.pendown()\n",
    "t.circle(r)\n",
    "\n",
    "t.color('green')\n",
    "t.goto(-x,y)\n",
    "t.write('mid',font=font)\n",
    "t.circle(r)\n",
    "\n",
    "t.color('blue')\n",
    "t.goto(x,y)\n",
    "t.write('end',font=font)\n",
    "t.circle(r)\n",
    "\n",
    "t.done()"
   ]
  },
  {
   "cell_type": "code",
   "execution_count": 3,
   "id": "397ba102",
   "metadata": {},
   "outputs": [
    {
     "name": "stdout",
     "output_type": "stream",
     "text": [
      "Overwriting benzene.py\n"
     ]
    }
   ],
   "source": [
    "%%writefile benzene.py\n",
    "\n",
    "from turtle import *\n",
    "left (90)\n",
    "\n",
    "#1\n",
    "forward(100)\n",
    "left(90)\n",
    "penup()\n",
    "forward(20)\n",
    "left(90)\n",
    "forward(20)\n",
    "pendown()\n",
    "forward(60)\n",
    "left(90)\n",
    "penup()\n",
    "forward(20)\n",
    "left(90)\n",
    "forward(80)\n",
    "left(60)\n",
    "pendown()\n",
    "forward(100)\n",
    "left(60)\n",
    "\n",
    "\n",
    "#2\n",
    "forward(100)\n",
    "left(90)\n",
    "penup()\n",
    "forward(20)\n",
    "left(90)\n",
    "forward(20)\n",
    "pendown()\n",
    "forward(60)\n",
    "left(90)\n",
    "penup()\n",
    "forward(20)\n",
    "left(90)\n",
    "forward(80)\n",
    "left(60)\n",
    "pendown()\n",
    "forward(100)\n",
    "left(60)\n",
    "\n",
    "#3\n",
    "forward(100)\n",
    "left(90)\n",
    "penup()\n",
    "forward(20)\n",
    "left(90)\n",
    "forward(20)\n",
    "pendown()\n",
    "forward(60)\n",
    "left(90)\n",
    "penup()\n",
    "forward(20)\n",
    "left(90)\n",
    "forward(80)\n",
    "left(60)\n",
    "pendown()\n",
    "forward(100)\n",
    "left(60)\n",
    "\n",
    "\n",
    "done()"
   ]
  },
  {
   "cell_type": "code",
   "execution_count": null,
   "id": "f460664b",
   "metadata": {},
   "outputs": [
    {
     "name": "stdout",
     "output_type": "stream",
     "text": [
      "Center of circle x,y = \n",
      "3,6\n",
      "Radius = \n",
      "6\n",
      "Next point x,y = \n",
      "7,5\n"
     ]
    }
   ],
   "source": [
    "import turtle as t\n",
    "x1,y1=eval(input('Center of circle x,y = \\n'))\n",
    "radius=eval(input('Radius = \\n'))\n",
    "x2,y2=eval(input('Next point x,y = \\n'))\n",
    "t.penup()\n",
    "t.goto(x1,y1-radius)\n",
    "t.pendown()\n",
    "t.circle(radius)\n",
    "\n",
    "t.penup()\n",
    "t.goto(x2,y2-3)\n",
    "t.pendown()\n",
    "t.begin_fill()\n",
    "t.color('red')\n",
    "t.circle(3)\n",
    "t.end_fill\n",
    "\n",
    "t.penup()\n",
    "t.goto(x1-70,y1-radius-50)\n",
    "\n",
    "(dx,dy) = (x2-x1, y2-y1)\n",
    "d = (dx*dx + dy*dy)**0.5\n",
    "font=('times',18,'bold')\n",
    "if d<=radius:\n",
    "    t.write('in of circle', font=font)\n",
    "else:\n",
    "    t.write('point out', font=font)\n",
    "t.hideturtle()\n",
    "t.done()"
   ]
  },
  {
   "cell_type": "code",
   "execution_count": 3,
   "id": "86702f3e",
   "metadata": {},
   "outputs": [],
   "source": [
    "#diffusion of a gas molecule\n",
    "import turtle as t\n",
    "import random as r\n",
    "import math as m\n",
    "\n",
    "(x,y)=(0,0)\n",
    "while True:\n",
    "    x += r.uniform(-5,5)\n",
    "    y += r.uniform(-5,5)\n",
    "    t.goto(x,y)\n",
    "    if m.sqrt(x*x + y*y)>300:\n",
    "        t.done()\n",
    "        break\n"
   ]
  },
  {
   "cell_type": "code",
   "execution_count": null,
   "id": "5384f096",
   "metadata": {},
   "outputs": [],
   "source": []
  }
 ],
 "metadata": {
  "kernelspec": {
   "display_name": "Python 3 (ipykernel)",
   "language": "python",
   "name": "python3"
  },
  "language_info": {
   "codemirror_mode": {
    "name": "ipython",
    "version": 3
   },
   "file_extension": ".py",
   "mimetype": "text/x-python",
   "name": "python",
   "nbconvert_exporter": "python",
   "pygments_lexer": "ipython3",
   "version": "3.9.7"
  }
 },
 "nbformat": 4,
 "nbformat_minor": 5
}
