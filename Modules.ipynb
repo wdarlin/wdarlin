{
 "cells": [
  {
   "cell_type": "markdown",
   "id": "53f80de9",
   "metadata": {},
   "source": [
    "## Store functions in modules(files)"
   ]
  },
  {
   "cell_type": "code",
   "execution_count": 1,
   "id": "ed916d1a",
   "metadata": {},
   "outputs": [
    {
     "name": "stdout",
     "output_type": "stream",
     "text": [
      "Writing user_info.py\n"
     ]
    }
   ],
   "source": [
    "%%writefile user_info.py\n",
    "def user_info(first,last,**more_info):\n",
    "    user={}\n",
    "    user['first']=first\n",
    "    user['last']=last\n",
    "    for k,v in more_info.items():\n",
    "        user[k]=v\n",
    "    return user\n",
    "    "
   ]
  },
  {
   "cell_type": "code",
   "execution_count": 2,
   "id": "48c30213",
   "metadata": {},
   "outputs": [
    {
     "name": "stdout",
     "output_type": "stream",
     "text": [
      "{'first': 'David', 'last': 'Tomm', 'age': 17}\n"
     ]
    }
   ],
   "source": [
    "import user_info\n",
    "user1 = user_info.user_info('David','Tomm',age=17)\n",
    "print(user1)"
   ]
  },
  {
   "cell_type": "code",
   "execution_count": 4,
   "id": "5fb853da",
   "metadata": {},
   "outputs": [
    {
     "name": "stdout",
     "output_type": "stream",
     "text": [
      "{'first': 'David', 'last': 'Tomm', 'age': 17}\n"
     ]
    }
   ],
   "source": [
    "from user_info import user_info\n",
    "user1 = user_info('David','Tomm',age=17)\n",
    "print(user1)\n",
    "#this method allows you to refrence the function directly so you dont need to call it"
   ]
  },
  {
   "cell_type": "code",
   "execution_count": 5,
   "id": "5236c48f",
   "metadata": {},
   "outputs": [
    {
     "name": "stdout",
     "output_type": "stream",
     "text": [
      "{'first': 'David', 'last': 'Tomm', 'age': 17}\n"
     ]
    }
   ],
   "source": [
    "from user_info import user_info as u\n",
    "user1 = u('David','Tomm',age=17)\n",
    "print(user1)"
   ]
  },
  {
   "cell_type": "code",
   "execution_count": 6,
   "id": "a927219e",
   "metadata": {},
   "outputs": [
    {
     "name": "stdout",
     "output_type": "stream",
     "text": [
      "{'first': 'David', 'last': 'Tomm', 'age': 17}\n"
     ]
    }
   ],
   "source": [
    "import user_info as u\n",
    "user1 = u.user_info('David','Tomm',age=17)\n",
    "print(user1)"
   ]
  },
  {
   "cell_type": "markdown",
   "id": "ebe4c9cc",
   "metadata": {},
   "source": [
    "### Problem with testing code in module"
   ]
  },
  {
   "cell_type": "code",
   "execution_count": 10,
   "id": "5e1cecd6",
   "metadata": {},
   "outputs": [
    {
     "name": "stdout",
     "output_type": "stream",
     "text": [
      "Overwriting user_info2.py\n"
     ]
    }
   ],
   "source": [
    "%%writefile user_info2.py\n",
    "def user_info(first,last,**more_info):\n",
    "    user={}\n",
    "    user['first']=first\n",
    "    user['last']=last\n",
    "    for k,v in more_info.items():\n",
    "        user[k]=v\n",
    "    return user\n",
    "\n",
    "# user1 = user_info('Al','E',field='physics')\n",
    "# print(user1)"
   ]
  },
  {
   "cell_type": "code",
   "execution_count": 11,
   "id": "954a38dd",
   "metadata": {},
   "outputs": [
    {
     "name": "stdout",
     "output_type": "stream",
     "text": [
      "{'first': 'Dave', 'last': 'Hui', 'addy': '123 ur mommas'}\n"
     ]
    }
   ],
   "source": [
    "from user_info2 import user_info as u\n",
    "my_user=u('Dave','Hui',addy='123 ur mommas')\n",
    "print(my_user)"
   ]
  },
  {
   "cell_type": "code",
   "execution_count": 4,
   "id": "88281535",
   "metadata": {},
   "outputs": [
    {
     "name": "stdout",
     "output_type": "stream",
     "text": [
      "Overwriting user_info2.py\n"
     ]
    }
   ],
   "source": [
    "%%writefile user_info2.py\n",
    "def user_info(first,last,**more_info):\n",
    "    user={}\n",
    "    user['first']=first\n",
    "    user['last']=last\n",
    "    for k,v in more_info.items():\n",
    "        user[k]=v\n",
    "    return user\n",
    "def main():\n",
    "    user1 = user_info('Al','E',field='physics')\n",
    "    print(user1)\n",
    "\n",
    "if __name__=='__main__':\n",
    "    main()\n",
    "    \n",
    "#the __name__ can be used to run your code and test it while not affecting the rest of \n",
    "#the code once you save it and run it from an import or file direcctly."
   ]
  },
  {
   "cell_type": "code",
   "execution_count": 5,
   "id": "292835e3",
   "metadata": {},
   "outputs": [
    {
     "name": "stdout",
     "output_type": "stream",
     "text": [
      "{'first': 'Dave', 'last': 'Hui', 'addy': '123 ur mommas'}\n"
     ]
    }
   ],
   "source": [
    "from user_info2 import user_info as u\n",
    "my_user=u('Dave','Hui',addy='123 ur mommas')\n",
    "print(my_user)"
   ]
  },
  {
   "cell_type": "code",
   "execution_count": null,
   "id": "87a9183a",
   "metadata": {},
   "outputs": [],
   "source": []
  }
 ],
 "metadata": {
  "kernelspec": {
   "display_name": "Python 3 (ipykernel)",
   "language": "python",
   "name": "python3"
  },
  "language_info": {
   "codemirror_mode": {
    "name": "ipython",
    "version": 3
   },
   "file_extension": ".py",
   "mimetype": "text/x-python",
   "name": "python",
   "nbconvert_exporter": "python",
   "pygments_lexer": "ipython3",
   "version": "3.9.7"
  }
 },
 "nbformat": 4,
 "nbformat_minor": 5
}
