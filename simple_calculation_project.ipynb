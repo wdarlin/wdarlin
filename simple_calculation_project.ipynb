{
 "cells": [
  {
   "cell_type": "code",
   "execution_count": 1,
   "metadata": {},
   "outputs": [
    {
     "name": "stdout",
     "output_type": "stream",
     "text": [
      "enter x1 = 2\n",
      "enter x2 = 3.4\n",
      "enter x3 = 2e-10\n",
      "enter x4 = 22\n",
      "enter x5 = 45\n",
      "The exact result is:2.029850746268657e-11\n",
      "Result rounded in significant figures is :2e-11\n"
     ]
    }
   ],
   "source": [
    "# handling user input data string\n",
    "from obs_data import ObsData\n",
    "\n",
    "# function to check user input data\n",
    "def check_data(user_input):\n",
    "    if 'e' in user_input.lower():\n",
    "        (num, pwr) = user_input.lower().split('e')\n",
    "        num = float(num) \n",
    "        pwr = float(pwr) # why float? - because power can be 2 or 2.55\n",
    "        value = (num * 10**pwr)\n",
    "    else:\n",
    "        (num, pwr) = (user_input,'0')\n",
    "        num = float(num)\n",
    "        pwr = float(pwr)\n",
    "        value = (num * 10**pwr)\n",
    "    \n",
    "    if type(user_input)== int:\n",
    "        value = int(user_input)\n",
    "    else:\n",
    "        value = float(user_input)\n",
    "    return value\n",
    "\n",
    "# output exact result and its significant figures \n",
    "def main():\n",
    "    x1 = check_data(input('enter x1 = '))\n",
    "    x2 = check_data(input('enter x2 = '))\n",
    "    x3 = check_data(input('enter x3 = '))\n",
    "    x4 = check_data(input('enter x4 = '))\n",
    "    x5 = check_data(input('enter x5 = '))\n",
    "    \n",
    "    # exact result\n",
    "    result_raw = (x1*x2*x3)/(x4+x5) \n",
    "    print(f'The exact result is:{result_raw}')\n",
    "    # result in significant figures\n",
    "    result_sig = eval(\"ObsData(x1)*ObsData(x2)*ObsData(x3)/(ObsData(x4) + ObsData(x5))\")\n",
    "    print(f'Result rounded in significant figures is :{result_sig}')\n",
    "        \n",
    "if __name__ == '__main__':\n",
    "    main()\n",
    "\n",
    "\n",
    "    "
   ]
  },
  {
   "cell_type": "markdown",
   "metadata": {},
   "source": [
    "\n"
   ]
  },
  {
   "cell_type": "code",
   "execution_count": null,
   "metadata": {},
   "outputs": [],
   "source": []
  }
 ],
 "metadata": {
  "kernelspec": {
   "display_name": "Python 3 (ipykernel)",
   "language": "python",
   "name": "python3"
  },
  "language_info": {
   "codemirror_mode": {
    "name": "ipython",
    "version": 3
   },
   "file_extension": ".py",
   "mimetype": "text/x-python",
   "name": "python",
   "nbconvert_exporter": "python",
   "pygments_lexer": "ipython3",
   "version": "3.9.7"
  }
 },
 "nbformat": 4,
 "nbformat_minor": 4
}
