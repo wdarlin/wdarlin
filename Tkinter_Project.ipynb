{
 "cells": [
  {
   "cell_type": "code",
   "execution_count": 23,
   "id": "00535631",
   "metadata": {},
   "outputs": [],
   "source": [
    "import tkinter as tk \n",
    "\n",
    "class MainWindow:\n",
    "    def __init__(self, root):\n",
    "        root.title('Temperature Converter')\n",
    "\n",
    "        self.tC = tk.StringVar()\n",
    "        self.tK = tk.StringVar()\n",
    "\n",
    "        font = 'timesnewroman 22'\n",
    "        tC_entry = tk.Entry(root, width=7, textvariable=self.tC, font=font)\n",
    "        tC_entry.grid(column=1,row=0,sticky='we')\n",
    "        \n",
    "        eq_label = tk.Label(root, text='Input Temperature: ', font=font)\n",
    "        eq_label.grid(column=0,row=0,sticky='e')\n",
    "\n",
    "        C_label = tk.Label(root, text='C', font=font)\n",
    "        C_label.grid(column=2,row=0,sticky='w')\n",
    "        \n",
    "        eq_label = tk.Label(root, text='Output Temperature: ', font=font)\n",
    "        eq_label.grid(column=0,row=2,sticky='e')\n",
    "\n",
    "        tF_label = tk.Label(root, textvariable=self.tK, font=font)\n",
    "        tF_label.grid(column=1, row=2, sticky='we')\n",
    "        \n",
    "        F_label = tk.Label(root, text='K', font=font)\n",
    "        F_label.grid(column=2,row=2,sticky='w')\n",
    "\n",
    "        calc_button = tk.Button(root, text='Convert', \n",
    "                        command=self.calculate, font=font)\n",
    "            # will not pass parameter to calculate function\n",
    "        calc_button.grid(column=1,row=1, sticky='we')\n",
    "\n",
    "        root.columnconfigure(1, weight=1)\n",
    "        for i in range(3): root.rowconfigure(i, weight=1)\n",
    "\n",
    "        tC_entry.focus()\n",
    "        tC_entry.bind('<Return>', self.calculate) \n",
    "                # will pass event to calculate function\n",
    "\n",
    "    def calculate(self, *args): \n",
    "        # use *args to catch either one or no parameter\n",
    "        try:\n",
    "            t = float(self.tC.get())\n",
    "            self.tK.set(t+273.15)\n",
    "        except:\n",
    "            self.tK.set('unknown')\n",
    "\n",
    "def main():\n",
    "    root = tk.Tk()    # create actual window\n",
    "    MainWindow(root)  # create widgets\n",
    "    root.mainloop()   # start message loop\n",
    "\n",
    "if __name__ == '__main__':\n",
    "    main()"
   ]
  },
  {
   "cell_type": "code",
   "execution_count": null,
   "id": "2b75c4de",
   "metadata": {},
   "outputs": [],
   "source": []
  },
  {
   "cell_type": "code",
   "execution_count": null,
   "id": "d3061796",
   "metadata": {},
   "outputs": [],
   "source": []
  }
 ],
 "metadata": {
  "kernelspec": {
   "display_name": "Python 3 (ipykernel)",
   "language": "python",
   "name": "python3"
  },
  "language_info": {
   "codemirror_mode": {
    "name": "ipython",
    "version": 3
   },
   "file_extension": ".py",
   "mimetype": "text/x-python",
   "name": "python",
   "nbconvert_exporter": "python",
   "pygments_lexer": "ipython3",
   "version": "3.9.7"
  }
 },
 "nbformat": 4,
 "nbformat_minor": 5
}
