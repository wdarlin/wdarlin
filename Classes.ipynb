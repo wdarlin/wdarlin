{
 "cells": [
  {
   "cell_type": "markdown",
   "id": "30b43e02",
   "metadata": {},
   "source": [
    "## Class - Object Oriented Programming"
   ]
  },
  {
   "cell_type": "code",
   "execution_count": 11,
   "id": "69e2fc87",
   "metadata": {},
   "outputs": [
    {
     "name": "stdout",
     "output_type": "stream",
     "text": [
      "Overwriting dogs.py\n"
     ]
    }
   ],
   "source": [
    "%%writefile dogs.py\n",
    "\n",
    "class Dog():\n",
    "    def __init__(self,name,age):\n",
    "        self.name=name\n",
    "        self.age=age\n",
    "        #can have additional properties \n",
    "        self.food=None\n",
    "    #define methods\n",
    "    def describe(self):\n",
    "        print(f'{self.name} is a {self.age} year old dog.')\n",
    "        \n",
    "    def get(self, food):\n",
    "        if self.food:\n",
    "            print(f'{self.name} still has {self.food}.')\n",
    "        else:\n",
    "            self.food=food\n",
    "    \n",
    "    def eat(self):\n",
    "        if self.food:\n",
    "            print(f'{self.name} eats {self.food}.')\n",
    "            self.food=None\n",
    "        else:\n",
    "            print(f'{self.name} is hungry.')\n",
    "            \n",
    "def main():\n",
    "    big_dog = Dog('Big',3)\n",
    "    small_dog=Dog('Small',1)\n",
    "    big_dog.describe()\n",
    "    small_dog.describe()\n",
    "    small_dog.age+=1\n",
    "    small_dog.describe()\n",
    "    \n",
    "    \n",
    "if __name__ == '__main__':\n",
    "    main()"
   ]
  },
  {
   "cell_type": "markdown",
   "id": "e174a2a7",
   "metadata": {},
   "source": [
    "### Create Dog Objects, access its attribute fields and methods"
   ]
  },
  {
   "cell_type": "code",
   "execution_count": 15,
   "id": "ad3adae3",
   "metadata": {},
   "outputs": [
    {
     "name": "stdout",
     "output_type": "stream",
     "text": [
      "Big is hungry.\n",
      "Big eats bone.\n",
      "yellow\n"
     ]
    }
   ],
   "source": [
    "import dogs\n",
    "big = dogs.Dog('Big',5)\n",
    "small= dogs.Dog('Small',2)\n",
    "big.eat()\n",
    "big.get('bone')\n",
    "big.eat()\n",
    "big.color='yellow'\n",
    "print(big.color)"
   ]
  },
  {
   "cell_type": "markdown",
   "id": "cc83066c",
   "metadata": {},
   "source": [
    "### Inheritence"
   ]
  },
  {
   "cell_type": "code",
   "execution_count": 6,
   "id": "e37b2965",
   "metadata": {},
   "outputs": [
    {
     "name": "stdout",
     "output_type": "stream",
     "text": [
      "Chaser is hungry.\n",
      "Chaser is 3 years old with the NOPD department.\n",
      "Chaser is chasing a criminal.\n"
     ]
    }
   ],
   "source": [
    "#%%writefile policedogs.py\n",
    "from dogs import Dog\n",
    "\n",
    "class PoliceDog(Dog):\n",
    "    def __init__(self, police, name, age):\n",
    "        super().__init__(name,age)\n",
    "        self.police=police\n",
    "        \n",
    "    def describe(self):\n",
    "        print(f'{self.name} is {self.age} years old with the {self.police} department.')\n",
    "        \n",
    "    def chase(self):\n",
    "        print(f'{self.name} is chasing a criminal.')\n",
    "        \n",
    "def main():\n",
    "    chaser=PoliceDog('NOPD','Chaser','3')\n",
    "    chaser.eat()\n",
    "    chaser.describe()\n",
    "    chaser.chase()\n",
    "    \n",
    "if __name__=='__main__':\n",
    "    main()"
   ]
  },
  {
   "cell_type": "code",
   "execution_count": 4,
   "id": "0fe744a1",
   "metadata": {},
   "outputs": [
    {
     "name": "stdout",
     "output_type": "stream",
     "text": [
      "Big is a 3 year old dog.\n",
      "Small is a 1 year old dog.\n",
      "Small is a 2 year old dog.\n",
      "Small is hungry.\n"
     ]
    }
   ],
   "source": [
    "#%%writefile dogs2.py\n",
    "\n",
    "class Dog():\n",
    "    def __init__(self,name,age):\n",
    "        self.name=name\n",
    "        self.age=age\n",
    "        #can have additional properties \n",
    "        self.food=None\n",
    "    #define methods\n",
    "    def describe(self):\n",
    "        print(f'{self.name} is a {self.age} year old dog.')\n",
    "        \n",
    "    def get(self, food):\n",
    "        if self.food:\n",
    "            print(f'{self.name} still has {self.food}.')\n",
    "        else:\n",
    "            self.food=food\n",
    "    \n",
    "    def eat(self):\n",
    "        if self.food:\n",
    "            print(f'{self.name} eats {self.food}.')\n",
    "            self.food=None\n",
    "        else:\n",
    "            print(f'{self.name} is hungry.')\n",
    "            \n",
    "def main():\n",
    "    big_dog = Dog('Big',3)\n",
    "    small_dog=Dog('Small',1)\n",
    "    big_dog.describe()\n",
    "    small_dog.describe()\n",
    "    small_dog.age+=1\n",
    "    small_dog.describe()\n",
    "    small_dog.eat()\n",
    "    \n",
    "    \n",
    "if __name__ == '__main__':\n",
    "    main()"
   ]
  },
  {
   "cell_type": "code",
   "execution_count": null,
   "id": "96843f08",
   "metadata": {},
   "outputs": [],
   "source": []
  }
 ],
 "metadata": {
  "kernelspec": {
   "display_name": "Python 3 (ipykernel)",
   "language": "python",
   "name": "python3"
  },
  "language_info": {
   "codemirror_mode": {
    "name": "ipython",
    "version": 3
   },
   "file_extension": ".py",
   "mimetype": "text/x-python",
   "name": "python",
   "nbconvert_exporter": "python",
   "pygments_lexer": "ipython3",
   "version": "3.9.7"
  }
 },
 "nbformat": 4,
 "nbformat_minor": 5
}
