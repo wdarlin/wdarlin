{
 "cells": [
  {
   "cell_type": "markdown",
   "id": "82a2033f",
   "metadata": {},
   "source": [
    "### Optional Project \n",
    "\n",
    "_Use print function to recreate this string_\n",
    "\n",
    "Thou think'st 'tis much that this contentious storm\n",
    "\n",
    "Invades us to the skin: so 'tis to thee;\n",
    "\n",
    "But where the greater malady is fix'd,\n",
    "\n",
    "The lesser is scarce felt."
   ]
  },
  {
   "cell_type": "code",
   "execution_count": null,
   "id": "5eee3f0d",
   "metadata": {},
   "outputs": [],
   "source": []
  },
  {
   "cell_type": "code",
   "execution_count": 14,
   "id": "8cc07983",
   "metadata": {},
   "outputs": [
    {
     "name": "stdout",
     "output_type": "stream",
     "text": [
      "Thou think'st 'tis much that this contentious storm\n",
      "Invades us to the skin: so 'tis to thee;\n",
      "But where the greater malady is fix'd,\n",
      "The lesser is scarce felt.\n"
     ]
    }
   ],
   "source": [
    "msg=(\"\"\"Thou think'st 'tis much that this contentious storm\n",
    "Invades us to the skin: so 'tis to thee;\n",
    "But where the greater malady is fix'd,\n",
    "The lesser is scarce felt.\"\"\")\n",
    "print(msg)"
   ]
  },
  {
   "cell_type": "code",
   "execution_count": null,
   "id": "6f85f037",
   "metadata": {},
   "outputs": [],
   "source": []
  }
 ],
 "metadata": {
  "kernelspec": {
   "display_name": "Python 3 (ipykernel)",
   "language": "python",
   "name": "python3"
  },
  "language_info": {
   "codemirror_mode": {
    "name": "ipython",
    "version": 3
   },
   "file_extension": ".py",
   "mimetype": "text/x-python",
   "name": "python",
   "nbconvert_exporter": "python",
   "pygments_lexer": "ipython3",
   "version": "3.9.7"
  }
 },
 "nbformat": 4,
 "nbformat_minor": 5
}
